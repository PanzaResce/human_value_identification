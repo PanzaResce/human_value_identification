{
  "cells": [
    {
      "cell_type": "code",
      "execution_count": 1,
      "metadata": {
        "colab": {
          "base_uri": "https://localhost:8080/"
        },
        "id": "cxoxZOUJRSC7",
        "outputId": "e1861720-bca6-409b-959b-2dd65e990f60"
      },
      "outputs": [],
      "source": [
        "# !pip install datasets\n",
        "# !pip install accelerate -U"
      ]
    },
    {
      "cell_type": "code",
      "execution_count": 2,
      "metadata": {
        "id": "Tb6JkaXPQ8c9"
      },
      "outputs": [
        {
          "name": "stderr",
          "output_type": "stream",
          "text": [
            "c:\\Users\\marco\\anaconda3\\lib\\site-packages\\scipy\\__init__.py:146: UserWarning: A NumPy version >=1.16.5 and <1.23.0 is required for this version of SciPy (detected version 1.26.2\n",
            "  warnings.warn(f\"A NumPy version >={np_minversion} and <{np_maxversion}\"\n"
          ]
        },
        {
          "name": "stdout",
          "output_type": "stream",
          "text": [
            "WARNING:tensorflow:From c:\\Users\\marco\\anaconda3\\lib\\site-packages\\keras\\src\\losses.py:2976: The name tf.losses.sparse_softmax_cross_entropy is deprecated. Please use tf.compat.v1.losses.sparse_softmax_cross_entropy instead.\n",
            "\n"
          ]
        }
      ],
      "source": [
        "from pathlib import Path\n",
        "import pandas as pd\n",
        "import matplotlib.pyplot as plt\n",
        "import seaborn as sns\n",
        "import transformers\n",
        "import random\n",
        "import numpy as np\n",
        "import torch\n",
        "from torch import nn\n",
        "from sklearn.dummy import DummyClassifier\n",
        "from sklearn.metrics import f1_score, multilabel_confusion_matrix\n",
        "from datasets import Dataset, concatenate_datasets\n",
        "from transformers.modeling_outputs import SequenceClassifierOutput\n",
        "from transformers import AutoModelForSequenceClassification, DataCollatorWithPadding, AutoTokenizer, AutoConfig, TrainingArguments, Trainer, BertConfig, BertModel, BertPreTrainedModel, RobertaConfig, RobertaModel"
      ]
    },
    {
      "cell_type": "code",
      "execution_count": 3,
      "metadata": {
        "colab": {
          "base_uri": "https://localhost:8080/"
        },
        "id": "IqxnxBV4RBeg",
        "outputId": "3dddd557-76e6-49aa-e38e-681be2b2024f"
      },
      "outputs": [],
      "source": [
        "# from google.colab import drive\n",
        "# drive.mount('/content/drive')"
      ]
    },
    {
      "cell_type": "code",
      "execution_count": 4,
      "metadata": {
        "colab": {
          "base_uri": "https://localhost:8080/"
        },
        "id": "AhR45AptQ8c_",
        "outputId": "708a7f70-9770-4192-9f3e-90135a59cdae"
      },
      "outputs": [],
      "source": [
        "# print(f\"Current work directory: {Path.cwd()}\")    \n",
        "dataset_folder = Path.cwd().joinpath(\"hvd_data\")    # for local use\n",
        "# dataset_folder = Path.cwd().joinpath(\"/content/drive/MyDrive/NLP_assignments/assignment2/hvd_data\") # for Colab use"
      ]
    },
    {
      "cell_type": "code",
      "execution_count": 5,
      "metadata": {
        "colab": {
          "base_uri": "https://localhost:8080/"
        },
        "id": "R2MsBHCqQ8c_",
        "outputId": "4940d008-c6d5-494c-907a-8198446a460b"
      },
      "outputs": [
        {
          "data": {
            "text/plain": [
              "True"
            ]
          },
          "execution_count": 5,
          "metadata": {},
          "output_type": "execute_result"
        }
      ],
      "source": [
        "# RANDOM_SEED = 44\n",
        "# np.random.seed(RANDOM_SEED)\n",
        "# transformers.set_seed(RANDOM_SEED)\n",
        "torch.cuda.is_available()"
      ]
    },
    {
      "cell_type": "code",
      "execution_count": 6,
      "metadata": {
        "id": "68DCJsa6Q8dA"
      },
      "outputs": [],
      "source": [
        "arg_test = dataset_folder.joinpath('arguments-test.tsv')\n",
        "arg_val = dataset_folder.joinpath('arguments-validation.tsv')\n",
        "arg_train = dataset_folder.joinpath('arguments-training.tsv')\n",
        "\n",
        "label_test = dataset_folder.joinpath('labels-test.tsv')\n",
        "label_val = dataset_folder.joinpath('labels-validation.tsv')\n",
        "label_train = dataset_folder.joinpath('labels-training.tsv')"
      ]
    },
    {
      "cell_type": "code",
      "execution_count": 7,
      "metadata": {
        "id": "T3rsuarkQ8dB"
      },
      "outputs": [],
      "source": [
        "# Loading original datasets\n",
        "df_arg_test = pd.read_csv(arg_test, sep='\\t', header=0)\n",
        "df_arg_val = pd.read_csv(arg_val, sep='\\t', header=0)\n",
        "df_arg_train = pd.read_csv(arg_train, sep='\\t', header=0)\n",
        "\n",
        "df_label_test = pd.read_csv(label_test, sep='\\t', header=0)\n",
        "df_label_val = pd.read_csv(label_val, sep='\\t', header=0)\n",
        "df_label_train = pd.read_csv(label_train, sep='\\t', header=0)"
      ]
    },
    {
      "cell_type": "markdown",
      "metadata": {
        "id": "8WvGk-eDQ8dB"
      },
      "source": [
        "Level 2 categories to obtain by merge:\n",
        "* Openness to change\n",
        "* Self-enhancement\n",
        "* Conversation\n",
        "* Self-transcendence\n",
        "\n",
        "Data splits\n",
        "* **Train**: 5393 arguments\n",
        "* **Validation**: 1896 arguments\n",
        "* **Test**: 1576 arguments"
      ]
    },
    {
      "cell_type": "code",
      "execution_count": 8,
      "metadata": {
        "id": "iVI_vJz7Q8dC"
      },
      "outputs": [],
      "source": [
        "# Merging datasets based on Argument ID\n",
        "df_train = df_arg_train.merge(df_label_train, left_on='Argument ID', right_on='Argument ID')\n",
        "df_val = df_arg_val.merge(df_label_val, left_on='Argument ID', right_on='Argument ID')\n",
        "df_test = df_arg_test.merge(df_label_test, left_on='Argument ID', right_on='Argument ID')"
      ]
    },
    {
      "cell_type": "code",
      "execution_count": 9,
      "metadata": {
        "id": "88X5ECOVQ8dD"
      },
      "outputs": [],
      "source": [
        "# Obtaining level 2 columns by OR-concatenating existing ones\n",
        "level_2 = {'Openness to change': ['Self-direction: thought', 'Self-direction: action', 'Stimulation', 'Hedonism'],\n",
        "           'Self-enhancement': ['Hedonism', 'Achievement', 'Power: dominance', 'Power: resources', 'Face'],\n",
        "           'Conservation': ['Face', 'Security: personal', 'Security: societal', 'Tradition', 'Conformity: rules', 'Conformity: interpersonal', 'Humility'],\n",
        "           'Self-transcendence': ['Humility', 'Benevolence: caring', 'Benevolence: dependability', 'Universalism: concern', 'Universalism: nature', 'Universalism: tolerance', 'Universalism: objectivity']\n",
        "           }\n",
        "\n",
        "def merge_columns(row, columns_to_merge):\n",
        "    return any(row[columns_to_merge])\n",
        "\n",
        "# Create columns by merging\n",
        "for df in [df_train, df_val, df_test]:\n",
        "    for l in level_2.keys():\n",
        "        df[l] = df.apply(merge_columns, columns_to_merge=level_2[l], axis=1)\n",
        "        df[l] = df[l].astype(int)"
      ]
    },
    {
      "cell_type": "code",
      "execution_count": 10,
      "metadata": {
        "id": "m8ukcog7Q8dG"
      },
      "outputs": [],
      "source": [
        "# Dropping previous columns (first one is Argument ID)\n",
        "train_split = df_train.drop(columns=df_label_train.columns[1:])\n",
        "val_split = df_val.drop(columns=df_label_val.columns[1:])\n",
        "test_split = df_test.drop(columns=df_label_test.columns[1:])\n",
        "\n",
        "# Convert 'Stance' column to 0-1\n",
        "for split in [train_split, val_split, test_split]:\n",
        "    split['Stance'] = split['Stance'].map({'in favor of': 1, 'against': 0})"
      ]
    },
    {
      "cell_type": "code",
      "execution_count": 11,
      "metadata": {
        "colab": {
          "base_uri": "https://localhost:8080/"
        },
        "id": "rJu8rq_yQ8dH",
        "outputId": "f4cf931a-95e8-4ba2-cae3-a0011b1f20f7"
      },
      "outputs": [
        {
          "name": "stdout",
          "output_type": "stream",
          "text": [
            "Training set shape: 5393\n",
            "Validation set shape: 1896\n",
            "Test set shape: 1576\n"
          ]
        }
      ],
      "source": [
        "print(\"Training set shape:\", len(train_split))\n",
        "print(\"Validation set shape:\", len(val_split))\n",
        "print(\"Test set shape:\", len(test_split))"
      ]
    },
    {
      "cell_type": "code",
      "execution_count": 12,
      "metadata": {
        "colab": {
          "base_uri": "https://localhost:8080/",
          "height": 424
        },
        "id": "OHcfYNVDQ8dI",
        "outputId": "4f30d306-2ea9-42c3-d8d7-5f9e4c1012b5"
      },
      "outputs": [
        {
          "data": {
            "text/html": [
              "<div>\n",
              "<style scoped>\n",
              "    .dataframe tbody tr th:only-of-type {\n",
              "        vertical-align: middle;\n",
              "    }\n",
              "\n",
              "    .dataframe tbody tr th {\n",
              "        vertical-align: top;\n",
              "    }\n",
              "\n",
              "    .dataframe thead th {\n",
              "        text-align: right;\n",
              "    }\n",
              "</style>\n",
              "<table border=\"1\" class=\"dataframe\">\n",
              "  <thead>\n",
              "    <tr style=\"text-align: right;\">\n",
              "      <th></th>\n",
              "      <th>Argument ID</th>\n",
              "      <th>Conclusion</th>\n",
              "      <th>Stance</th>\n",
              "      <th>Premise</th>\n",
              "      <th>Openness to change</th>\n",
              "      <th>Self-enhancement</th>\n",
              "      <th>Conservation</th>\n",
              "      <th>Self-transcendence</th>\n",
              "    </tr>\n",
              "  </thead>\n",
              "  <tbody>\n",
              "    <tr>\n",
              "      <th>0</th>\n",
              "      <td>A01002</td>\n",
              "      <td>We should ban human cloning</td>\n",
              "      <td>1</td>\n",
              "      <td>we should ban human cloning as it will only ca...</td>\n",
              "      <td>0</td>\n",
              "      <td>0</td>\n",
              "      <td>1</td>\n",
              "      <td>0</td>\n",
              "    </tr>\n",
              "    <tr>\n",
              "      <th>1</th>\n",
              "      <td>A01005</td>\n",
              "      <td>We should ban fast food</td>\n",
              "      <td>1</td>\n",
              "      <td>fast food should be banned because it is reall...</td>\n",
              "      <td>0</td>\n",
              "      <td>0</td>\n",
              "      <td>1</td>\n",
              "      <td>0</td>\n",
              "    </tr>\n",
              "    <tr>\n",
              "      <th>2</th>\n",
              "      <td>A01006</td>\n",
              "      <td>We should end the use of economic sanctions</td>\n",
              "      <td>0</td>\n",
              "      <td>sometimes economic sanctions are the only thin...</td>\n",
              "      <td>0</td>\n",
              "      <td>1</td>\n",
              "      <td>1</td>\n",
              "      <td>0</td>\n",
              "    </tr>\n",
              "    <tr>\n",
              "      <th>3</th>\n",
              "      <td>A01007</td>\n",
              "      <td>We should abolish capital punishment</td>\n",
              "      <td>0</td>\n",
              "      <td>capital punishment is sometimes the only optio...</td>\n",
              "      <td>0</td>\n",
              "      <td>0</td>\n",
              "      <td>1</td>\n",
              "      <td>1</td>\n",
              "    </tr>\n",
              "    <tr>\n",
              "      <th>4</th>\n",
              "      <td>A01008</td>\n",
              "      <td>We should ban factory farming</td>\n",
              "      <td>0</td>\n",
              "      <td>factory farming allows for the production of c...</td>\n",
              "      <td>0</td>\n",
              "      <td>0</td>\n",
              "      <td>1</td>\n",
              "      <td>1</td>\n",
              "    </tr>\n",
              "    <tr>\n",
              "      <th>...</th>\n",
              "      <td>...</td>\n",
              "      <td>...</td>\n",
              "      <td>...</td>\n",
              "      <td>...</td>\n",
              "      <td>...</td>\n",
              "      <td>...</td>\n",
              "      <td>...</td>\n",
              "      <td>...</td>\n",
              "    </tr>\n",
              "    <tr>\n",
              "      <th>5388</th>\n",
              "      <td>E08016</td>\n",
              "      <td>The EU should integrate the armed forces of it...</td>\n",
              "      <td>1</td>\n",
              "      <td>On the one hand, we have Russia killing countl...</td>\n",
              "      <td>0</td>\n",
              "      <td>1</td>\n",
              "      <td>1</td>\n",
              "      <td>1</td>\n",
              "    </tr>\n",
              "    <tr>\n",
              "      <th>5389</th>\n",
              "      <td>E08017</td>\n",
              "      <td>Food whose production has been subsidized with...</td>\n",
              "      <td>1</td>\n",
              "      <td>The subsidies were originally intended to ensu...</td>\n",
              "      <td>0</td>\n",
              "      <td>0</td>\n",
              "      <td>1</td>\n",
              "      <td>1</td>\n",
              "    </tr>\n",
              "    <tr>\n",
              "      <th>5390</th>\n",
              "      <td>E08018</td>\n",
              "      <td>Food whose production has been subsidized with...</td>\n",
              "      <td>1</td>\n",
              "      <td>These products come mainly from large enterpri...</td>\n",
              "      <td>0</td>\n",
              "      <td>0</td>\n",
              "      <td>0</td>\n",
              "      <td>1</td>\n",
              "    </tr>\n",
              "    <tr>\n",
              "      <th>5391</th>\n",
              "      <td>E08019</td>\n",
              "      <td>Food whose production has been subsidized with...</td>\n",
              "      <td>1</td>\n",
              "      <td>Subsidies often make farmers in recipient coun...</td>\n",
              "      <td>0</td>\n",
              "      <td>0</td>\n",
              "      <td>1</td>\n",
              "      <td>1</td>\n",
              "    </tr>\n",
              "    <tr>\n",
              "      <th>5392</th>\n",
              "      <td>E08020</td>\n",
              "      <td>The EU should integrate the armed forces of it...</td>\n",
              "      <td>1</td>\n",
              "      <td>The EU cannot endlessly lean on America or NAT...</td>\n",
              "      <td>1</td>\n",
              "      <td>1</td>\n",
              "      <td>1</td>\n",
              "      <td>1</td>\n",
              "    </tr>\n",
              "  </tbody>\n",
              "</table>\n",
              "<p>5393 rows × 8 columns</p>\n",
              "</div>"
            ],
            "text/plain": [
              "     Argument ID                                         Conclusion  Stance  \\\n",
              "0         A01002                        We should ban human cloning       1   \n",
              "1         A01005                            We should ban fast food       1   \n",
              "2         A01006        We should end the use of economic sanctions       0   \n",
              "3         A01007               We should abolish capital punishment       0   \n",
              "4         A01008                      We should ban factory farming       0   \n",
              "...          ...                                                ...     ...   \n",
              "5388      E08016  The EU should integrate the armed forces of it...       1   \n",
              "5389      E08017  Food whose production has been subsidized with...       1   \n",
              "5390      E08018  Food whose production has been subsidized with...       1   \n",
              "5391      E08019  Food whose production has been subsidized with...       1   \n",
              "5392      E08020  The EU should integrate the armed forces of it...       1   \n",
              "\n",
              "                                                Premise  Openness to change  \\\n",
              "0     we should ban human cloning as it will only ca...                   0   \n",
              "1     fast food should be banned because it is reall...                   0   \n",
              "2     sometimes economic sanctions are the only thin...                   0   \n",
              "3     capital punishment is sometimes the only optio...                   0   \n",
              "4     factory farming allows for the production of c...                   0   \n",
              "...                                                 ...                 ...   \n",
              "5388  On the one hand, we have Russia killing countl...                   0   \n",
              "5389  The subsidies were originally intended to ensu...                   0   \n",
              "5390  These products come mainly from large enterpri...                   0   \n",
              "5391  Subsidies often make farmers in recipient coun...                   0   \n",
              "5392  The EU cannot endlessly lean on America or NAT...                   1   \n",
              "\n",
              "      Self-enhancement  Conservation  Self-transcendence  \n",
              "0                    0             1                   0  \n",
              "1                    0             1                   0  \n",
              "2                    1             1                   0  \n",
              "3                    0             1                   1  \n",
              "4                    0             1                   1  \n",
              "...                ...           ...                 ...  \n",
              "5388                 1             1                   1  \n",
              "5389                 0             1                   1  \n",
              "5390                 0             0                   1  \n",
              "5391                 0             1                   1  \n",
              "5392                 1             1                   1  \n",
              "\n",
              "[5393 rows x 8 columns]"
            ]
          },
          "execution_count": 12,
          "metadata": {},
          "output_type": "execute_result"
        }
      ],
      "source": [
        "train_split"
      ]
    },
    {
      "cell_type": "code",
      "execution_count": 13,
      "metadata": {
        "colab": {
          "base_uri": "https://localhost:8080/",
          "height": 422
        },
        "id": "9TNd9SBUa60R",
        "outputId": "1ee58b4f-f7be-4347-8798-26bdcc1dd36c"
      },
      "outputs": [
        {
          "data": {
            "text/plain": [
              "<matplotlib.legend.Legend at 0x21935198af0>"
            ]
          },
          "execution_count": 13,
          "metadata": {},
          "output_type": "execute_result"
        },
        {
          "data": {
            "image/png": "[encoded data removed]",
            "text/plain": [
              "<Figure size 864x288 with 3 Axes>"
            ]
          },
          "metadata": {
            "needs_background": "light"
          },
          "output_type": "display_data"
        }
      ],
      "source": [
        "fig, axs = plt.subplots(1, 3)\n",
        "fig.set_size_inches(12, 4)\n",
        "train_split.iloc[:, 4:].apply(pd.value_counts).plot(kind='bar', title='Train', ax = axs[0], legend = False)\n",
        "val_split.iloc[:, 4:].apply(pd.value_counts).plot(kind='bar', title='Validation', ax = axs[1], legend = False)\n",
        "test_split.iloc[:, 4:].apply(pd.value_counts).plot(kind='bar', title='Test', ax = axs[2], legend = False)\n",
        "fig.legend(labels=list(level_2.keys()), loc='upper right')"
      ]
    },
    {
      "cell_type": "code",
      "execution_count": 14,
      "metadata": {
        "colab": {
          "base_uri": "https://localhost:8080/",
          "height": 910
        },
        "id": "0Ba34VHSQ8dO",
        "outputId": "d37bc587-f06d-4807-f43e-2bb169237c34"
      },
      "outputs": [
        {
          "data": {
            "text/plain": [
              "<AxesSubplot:>"
            ]
          },
          "execution_count": 14,
          "metadata": {},
          "output_type": "execute_result"
        },
        {
          "data": {
            "image/png": "[encoded data removed]",
            "text/plain": [
              "<Figure size 1080x720 with 2 Axes>"
            ]
          },
          "metadata": {
            "needs_background": "light"
          },
          "output_type": "display_data"
        }
      ],
      "source": [
        "corr = train_split[train_split.columns].corr()\n",
        "plt.figure(figsize=(15,10))\n",
        "sns.heatmap(corr, cmap=\"YlGnBu\", annot=True)\n",
        "# Conservation <-!-> Openness to change\n",
        "# Self-transcendence <-!-> Openness to change\n",
        "# Stance <---> Self-transcendence\n",
        "# Conservation <---> Self-transcendence\n",
        "# Openness to change <---> Self-enhancement"
      ]
    },
    {
      "cell_type": "code",
      "execution_count": 15,
      "metadata": {
        "id": "GShmV6cjQ8dQ"
      },
      "outputs": [],
      "source": [
        "# Add labels column\n",
        "for split in [train_split, val_split, test_split]:\n",
        "    split[\"labels\"] = split[split.columns[4:8]].apply(lambda row: row.astype(float).tolist(), axis=1)"
      ]
    },
    {
      "cell_type": "code",
      "execution_count": 16,
      "metadata": {
        "colab": {
          "base_uri": "https://localhost:8080/"
        },
        "id": "b7geOlDldawc",
        "outputId": "828618a7-349c-4ad9-9615-37f6ea772c93"
      },
      "outputs": [
        {
          "name": "stdout",
          "output_type": "stream",
          "text": [
            "Sanity check  True\n",
            "Sanity check  True\n",
            "Sanity check  True\n"
          ]
        }
      ],
      "source": [
        "#sanity check\n",
        "for split in [train_split, val_split, test_split]:\n",
        "  res = split.apply(lambda row: all([row[4] == row[8][0], row[5] == row[8][1],row[6] == row[8][2], row[7] == row[8][3]]), axis = 1 ).all()\n",
        "  print(\"Sanity check \", res)"
      ]
    },
    {
      "cell_type": "code",
      "execution_count": 17,
      "metadata": {
        "colab": {
          "base_uri": "https://localhost:8080/",
          "height": 424
        },
        "id": "vaT4j3OnQ8dQ",
        "outputId": "84492d6e-8128-4edb-f46b-75f186a56f2b"
      },
      "outputs": [
        {
          "data": {
            "text/html": [
              "<div>\n",
              "<style scoped>\n",
              "    .dataframe tbody tr th:only-of-type {\n",
              "        vertical-align: middle;\n",
              "    }\n",
              "\n",
              "    .dataframe tbody tr th {\n",
              "        vertical-align: top;\n",
              "    }\n",
              "\n",
              "    .dataframe thead th {\n",
              "        text-align: right;\n",
              "    }\n",
              "</style>\n",
              "<table border=\"1\" class=\"dataframe\">\n",
              "  <thead>\n",
              "    <tr style=\"text-align: right;\">\n",
              "      <th></th>\n",
              "      <th>Argument ID</th>\n",
              "      <th>Conclusion</th>\n",
              "      <th>Stance</th>\n",
              "      <th>Premise</th>\n",
              "      <th>Openness to change</th>\n",
              "      <th>Self-enhancement</th>\n",
              "      <th>Conservation</th>\n",
              "      <th>Self-transcendence</th>\n",
              "      <th>labels</th>\n",
              "    </tr>\n",
              "  </thead>\n",
              "  <tbody>\n",
              "    <tr>\n",
              "      <th>0</th>\n",
              "      <td>A01002</td>\n",
              "      <td>We should ban human cloning</td>\n",
              "      <td>1</td>\n",
              "      <td>we should ban human cloning as it will only ca...</td>\n",
              "      <td>0</td>\n",
              "      <td>0</td>\n",
              "      <td>1</td>\n",
              "      <td>0</td>\n",
              "      <td>[0.0, 0.0, 1.0, 0.0]</td>\n",
              "    </tr>\n",
              "    <tr>\n",
              "      <th>1</th>\n",
              "      <td>A01005</td>\n",
              "      <td>We should ban fast food</td>\n",
              "      <td>1</td>\n",
              "      <td>fast food should be banned because it is reall...</td>\n",
              "      <td>0</td>\n",
              "      <td>0</td>\n",
              "      <td>1</td>\n",
              "      <td>0</td>\n",
              "      <td>[0.0, 0.0, 1.0, 0.0]</td>\n",
              "    </tr>\n",
              "    <tr>\n",
              "      <th>2</th>\n",
              "      <td>A01006</td>\n",
              "      <td>We should end the use of economic sanctions</td>\n",
              "      <td>0</td>\n",
              "      <td>sometimes economic sanctions are the only thin...</td>\n",
              "      <td>0</td>\n",
              "      <td>1</td>\n",
              "      <td>1</td>\n",
              "      <td>0</td>\n",
              "      <td>[0.0, 1.0, 1.0, 0.0]</td>\n",
              "    </tr>\n",
              "    <tr>\n",
              "      <th>3</th>\n",
              "      <td>A01007</td>\n",
              "      <td>We should abolish capital punishment</td>\n",
              "      <td>0</td>\n",
              "      <td>capital punishment is sometimes the only optio...</td>\n",
              "      <td>0</td>\n",
              "      <td>0</td>\n",
              "      <td>1</td>\n",
              "      <td>1</td>\n",
              "      <td>[0.0, 0.0, 1.0, 1.0]</td>\n",
              "    </tr>\n",
              "    <tr>\n",
              "      <th>4</th>\n",
              "      <td>A01008</td>\n",
              "      <td>We should ban factory farming</td>\n",
              "      <td>0</td>\n",
              "      <td>factory farming allows for the production of c...</td>\n",
              "      <td>0</td>\n",
              "      <td>0</td>\n",
              "      <td>1</td>\n",
              "      <td>1</td>\n",
              "      <td>[0.0, 0.0, 1.0, 1.0]</td>\n",
              "    </tr>\n",
              "    <tr>\n",
              "      <th>...</th>\n",
              "      <td>...</td>\n",
              "      <td>...</td>\n",
              "      <td>...</td>\n",
              "      <td>...</td>\n",
              "      <td>...</td>\n",
              "      <td>...</td>\n",
              "      <td>...</td>\n",
              "      <td>...</td>\n",
              "      <td>...</td>\n",
              "    </tr>\n",
              "    <tr>\n",
              "      <th>5388</th>\n",
              "      <td>E08016</td>\n",
              "      <td>The EU should integrate the armed forces of it...</td>\n",
              "      <td>1</td>\n",
              "      <td>On the one hand, we have Russia killing countl...</td>\n",
              "      <td>0</td>\n",
              "      <td>1</td>\n",
              "      <td>1</td>\n",
              "      <td>1</td>\n",
              "      <td>[0.0, 1.0, 1.0, 1.0]</td>\n",
              "    </tr>\n",
              "    <tr>\n",
              "      <th>5389</th>\n",
              "      <td>E08017</td>\n",
              "      <td>Food whose production has been subsidized with...</td>\n",
              "      <td>1</td>\n",
              "      <td>The subsidies were originally intended to ensu...</td>\n",
              "      <td>0</td>\n",
              "      <td>0</td>\n",
              "      <td>1</td>\n",
              "      <td>1</td>\n",
              "      <td>[0.0, 0.0, 1.0, 1.0]</td>\n",
              "    </tr>\n",
              "    <tr>\n",
              "      <th>5390</th>\n",
              "      <td>E08018</td>\n",
              "      <td>Food whose production has been subsidized with...</td>\n",
              "      <td>1</td>\n",
              "      <td>These products come mainly from large enterpri...</td>\n",
              "      <td>0</td>\n",
              "      <td>0</td>\n",
              "      <td>0</td>\n",
              "      <td>1</td>\n",
              "      <td>[0.0, 0.0, 0.0, 1.0]</td>\n",
              "    </tr>\n",
              "    <tr>\n",
              "      <th>5391</th>\n",
              "      <td>E08019</td>\n",
              "      <td>Food whose production has been subsidized with...</td>\n",
              "      <td>1</td>\n",
              "      <td>Subsidies often make farmers in recipient coun...</td>\n",
              "      <td>0</td>\n",
              "      <td>0</td>\n",
              "      <td>1</td>\n",
              "      <td>1</td>\n",
              "      <td>[0.0, 0.0, 1.0, 1.0]</td>\n",
              "    </tr>\n",
              "    <tr>\n",
              "      <th>5392</th>\n",
              "      <td>E08020</td>\n",
              "      <td>The EU should integrate the armed forces of it...</td>\n",
              "      <td>1</td>\n",
              "      <td>The EU cannot endlessly lean on America or NAT...</td>\n",
              "      <td>1</td>\n",
              "      <td>1</td>\n",
              "      <td>1</td>\n",
              "      <td>1</td>\n",
              "      <td>[1.0, 1.0, 1.0, 1.0]</td>\n",
              "    </tr>\n",
              "  </tbody>\n",
              "</table>\n",
              "<p>5393 rows × 9 columns</p>\n",
              "</div>"
            ],
            "text/plain": [
              "     Argument ID                                         Conclusion  Stance  \\\n",
              "0         A01002                        We should ban human cloning       1   \n",
              "1         A01005                            We should ban fast food       1   \n",
              "2         A01006        We should end the use of economic sanctions       0   \n",
              "3         A01007               We should abolish capital punishment       0   \n",
              "4         A01008                      We should ban factory farming       0   \n",
              "...          ...                                                ...     ...   \n",
              "5388      E08016  The EU should integrate the armed forces of it...       1   \n",
              "5389      E08017  Food whose production has been subsidized with...       1   \n",
              "5390      E08018  Food whose production has been subsidized with...       1   \n",
              "5391      E08019  Food whose production has been subsidized with...       1   \n",
              "5392      E08020  The EU should integrate the armed forces of it...       1   \n",
              "\n",
              "                                                Premise  Openness to change  \\\n",
              "0     we should ban human cloning as it will only ca...                   0   \n",
              "1     fast food should be banned because it is reall...                   0   \n",
              "2     sometimes economic sanctions are the only thin...                   0   \n",
              "3     capital punishment is sometimes the only optio...                   0   \n",
              "4     factory farming allows for the production of c...                   0   \n",
              "...                                                 ...                 ...   \n",
              "5388  On the one hand, we have Russia killing countl...                   0   \n",
              "5389  The subsidies were originally intended to ensu...                   0   \n",
              "5390  These products come mainly from large enterpri...                   0   \n",
              "5391  Subsidies often make farmers in recipient coun...                   0   \n",
              "5392  The EU cannot endlessly lean on America or NAT...                   1   \n",
              "\n",
              "      Self-enhancement  Conservation  Self-transcendence                labels  \n",
              "0                    0             1                   0  [0.0, 0.0, 1.0, 0.0]  \n",
              "1                    0             1                   0  [0.0, 0.0, 1.0, 0.0]  \n",
              "2                    1             1                   0  [0.0, 1.0, 1.0, 0.0]  \n",
              "3                    0             1                   1  [0.0, 0.0, 1.0, 1.0]  \n",
              "4                    0             1                   1  [0.0, 0.0, 1.0, 1.0]  \n",
              "...                ...           ...                 ...                   ...  \n",
              "5388                 1             1                   1  [0.0, 1.0, 1.0, 1.0]  \n",
              "5389                 0             1                   1  [0.0, 0.0, 1.0, 1.0]  \n",
              "5390                 0             0                   1  [0.0, 0.0, 0.0, 1.0]  \n",
              "5391                 0             1                   1  [0.0, 0.0, 1.0, 1.0]  \n",
              "5392                 1             1                   1  [1.0, 1.0, 1.0, 1.0]  \n",
              "\n",
              "[5393 rows x 9 columns]"
            ]
          },
          "execution_count": 17,
          "metadata": {},
          "output_type": "execute_result"
        }
      ],
      "source": [
        "train_split"
      ]
    },
    {
      "cell_type": "code",
      "execution_count": 18,
      "metadata": {
        "id": "fmi-B-roQ8dR"
      },
      "outputs": [],
      "source": [
        "train_data = Dataset.from_pandas(train_split)\n",
        "val_data = Dataset.from_pandas(val_split)\n",
        "test_data = Dataset.from_pandas(test_split)"
      ]
    },
    {
      "cell_type": "code",
      "execution_count": 19,
      "metadata": {
        "colab": {
          "base_uri": "https://localhost:8080/"
        },
        "id": "pla-hCGKQ8dR",
        "outputId": "428d341c-d851-4780-9085-37dac51df287"
      },
      "outputs": [
        {
          "data": {
            "text/plain": [
              "{'Argument ID': 'A01002',\n",
              " 'Conclusion': 'We should ban human cloning',\n",
              " 'Stance': 1,\n",
              " 'Premise': 'we should ban human cloning as it will only cause huge issues when you have a bunch of the same humans running around all acting the same.',\n",
              " 'Openness to change': 0,\n",
              " 'Self-enhancement': 0,\n",
              " 'Conservation': 1,\n",
              " 'Self-transcendence': 0,\n",
              " 'labels': [0.0, 0.0, 1.0, 0.0],\n",
              " '__index_level_0__': 0}"
            ]
          },
          "execution_count": 19,
          "metadata": {},
          "output_type": "execute_result"
        }
      ],
      "source": [
        "train_data[0]"
      ]
    },
    {
      "cell_type": "code",
      "execution_count": 21,
      "metadata": {
        "id": "7m_Q4B9xQ8dR"
      },
      "outputs": [],
      "source": [
        "# Metrics (copied from original paper)\n",
        "def accuracy_thresh(y_pred, y_true, thresh=0.5, sigmoid=True):\n",
        "    y_pred = torch.from_numpy(y_pred)\n",
        "    y_true = torch.from_numpy(y_true)\n",
        "    if sigmoid:\n",
        "        y_pred = y_pred.sigmoid()\n",
        "\n",
        "    return ((y_pred > thresh) == y_true.bool()).float().mean().item()\n",
        "\n",
        "\n",
        "def f1_score_per_label(y_pred, y_true, value_classes, thresh=0.5, sigmoid=True):\n",
        "    y_pred = torch.from_numpy(y_pred)\n",
        "    y_true = torch.from_numpy(y_true)\n",
        "    if sigmoid:\n",
        "        y_pred = y_pred.sigmoid()\n",
        "\n",
        "    y_true = y_true.bool().numpy()\n",
        "    y_pred = (y_pred > thresh).numpy()\n",
        "\n",
        "    f1_scores = {}\n",
        "    for i, v in enumerate(value_classes):\n",
        "        f1_scores[v] = round(f1_score(y_true[:, i], y_pred[:, i], zero_division=0), 4)\n",
        "\n",
        "    f1_scores['avg-f1-score'] = round(np.mean(list(f1_scores.values())), 4)\n",
        "\n",
        "    return f1_scores\n",
        "\n",
        "\n",
        "def compute_metrics(eval_pred, value_classes):\n",
        "    predictions, labels = eval_pred\n",
        "    f1scores = f1_score_per_label(predictions, labels, value_classes)\n",
        "    return {'accuracy': round(accuracy_thresh(predictions, labels), 4), 'f1-score': f1scores,\n",
        "            'macro-avg-f1score': f1scores['avg-f1-score']}"
      ]
    },
    {
      "cell_type": "code",
      "execution_count": 22,
      "metadata": {
        "id": "a01MCPFi302r"
      },
      "outputs": [],
      "source": [
        "def print_loss(trainer_history):\n",
        "  train_loss = []\n",
        "  val_loss = []\n",
        "  i = -1\n",
        "  hist = trainer_history[:-1]\n",
        "  # Extract val and train loss from the trainer\n",
        "  for el in hist:\n",
        "    if i == -1:\n",
        "      train_loss.append({'loss': el[\"loss\"], \"epoch\": el[\"epoch\"]})\n",
        "    else:\n",
        "      val_loss.append({'loss': el[\"eval_loss\"], \"epoch\": el[\"epoch\"]})\n",
        "    i*=-1\n",
        "\n",
        "  # Data to plot\n",
        "  train_x = [el[\"epoch\"] for el in train_loss]\n",
        "  train_y = [el[\"loss\"] for el in train_loss]\n",
        "\n",
        "  val_x = [el[\"epoch\"] for el in val_loss]\n",
        "  val_y = [el[\"loss\"] for el in val_loss]\n",
        "\n",
        "  _, ax = plt.subplots()\n",
        "  ax.set_xlabel('N. Epoch')\n",
        "  ax.set_ylabel('Loss')\n",
        "\n",
        "  ax.plot(train_x, train_y, linewidth=3.0, label=\"Train\")\n",
        "  ax.plot(val_x, val_y, linestyle='--', linewidth=3.0, label=\"Validation\")\n",
        "  ax.legend()\n",
        "\n",
        "  plt.show()"
      ]
    },
    {
      "cell_type": "code",
      "execution_count": 23,
      "metadata": {
        "id": "HyJ0L-rYQ8dR"
      },
      "outputs": [],
      "source": [
        "label_columns = train_split.columns[4:8]\n",
        "\n",
        "label2id = {label:i for i, label in enumerate(label_columns)}\n",
        "id2label = {i:label for i, label in enumerate(label_columns)}"
      ]
    },
    {
      "cell_type": "code",
      "execution_count": 24,
      "metadata": {
        "id": "vbuI_LJyQ8dR"
      },
      "outputs": [],
      "source": [
        "def preprocess_text(texts, type):\n",
        "    if type == \"CP\":\n",
        "        encoding = tokenizer(texts['Premise'], texts['Conclusion'], truncation=True)\n",
        "    elif type == \"C\":\n",
        "        encoding = tokenizer(texts['Conclusion'], truncation=True)\n",
        "    elif type == \"P\":\n",
        "        encoding = tokenizer(texts['Premise'], truncation=True)\n",
        "    elif type == \"CPS\":\n",
        "        encoding = tokenizer(texts['Premise'], texts['Conclusion'], truncation=True)\n",
        "        encoding[\"stance\"] = texts[\"Stance\"]\n",
        "    return encoding\n"
      ]
    },
    {
      "cell_type": "code",
      "execution_count": 25,
      "metadata": {
        "id": "-UN6VqNKQ8dR"
      },
      "outputs": [],
      "source": [
        "def get_datasets(train, val, test, type, cols_to_remove):\n",
        "    if type not in ['C', 'P', 'CP', 'CPS']:\n",
        "        raise ValueError(f\"type must be in {['C', 'P', 'CP', 'CPS']}, but {type} was given\")\n",
        "\n",
        "    train_data = train.map(lambda text: preprocess_text(text, type), batched=True, remove_columns=cols_to_remove)\n",
        "    val_data = val.map(lambda text: preprocess_text(text, type), batched=True, remove_columns=cols_to_remove)\n",
        "    test_data = test.map(lambda text: preprocess_text(text, type), batched=True, remove_columns=cols_to_remove)\n",
        "\n",
        "    train_data.set_format(\"torch\")\n",
        "    val_data.set_format(\"torch\")\n",
        "    test_data.set_format(\"torch\")\n",
        "\n",
        "    return train_data, val_data, test_data\n"
      ]
    },
    {
      "cell_type": "code",
      "execution_count": 26,
      "metadata": {
        "id": "DUTzSoSZQ8dT"
      },
      "outputs": [],
      "source": [
        "def init_pos_weight(data, labels, class_weights=True, factor=1):\n",
        "    if class_weights:\n",
        "        pos_weight = list()\n",
        "        for label in labels:\n",
        "            c = np.array(data[label])\n",
        "            w = len(c[c==0])/len(c[c==1])   # num_neg/num_pos for each class as specified in the documentation for BCEWithLogitsLoss\n",
        "            if w > 1:                       # increase recall of minority classes\n",
        "                w*=factor                   # factor to magnify the weight (not standard)\n",
        "                pos_weight.append(w)\n",
        "            else:\n",
        "                pos_weight.append(1)        # non minority classes are not influenced (pos_weight = 1)\n",
        "        return torch.tensor(pos_weight).to(\"cuda\")\n",
        "    else:\n",
        "        return torch.ones([len(labels)]).to(\"cuda\")"
      ]
    },
    {
      "cell_type": "code",
      "execution_count": 27,
      "metadata": {
        "id": "CUWKRutHQ8dT"
      },
      "outputs": [],
      "source": [
        "class MultiLabelTrainer(Trainer):\n",
        "    def __init__(self, pos_weight, **kwargs):\n",
        "        self.pos_weight = pos_weight\n",
        "        super().__init__(**kwargs)\n",
        "\n",
        "    def compute_loss(self, model, inputs, return_outputs=False):\n",
        "        labels = inputs.get(\"labels\")\n",
        "        outputs = model(**inputs)\n",
        "        logits = outputs.logits\n",
        "        loss_fct = torch.nn.BCEWithLogitsLoss(pos_weight=self.pos_weight)\n",
        "        loss = loss_fct(logits.view(-1, self.model.config.num_labels),\n",
        "                        labels.float().view(-1, self.model.config.num_labels))\n",
        "        return (loss, outputs) if return_outputs else loss\n",
        "\n",
        "\n",
        "def get_trainer(model, train, val, model_dir, class_weights=True, batch_size=16, epochs=20):\n",
        "    training_args = TrainingArguments(\n",
        "        output_dir=model_dir,\n",
        "        learning_rate=2e-5,\n",
        "        per_device_train_batch_size=batch_size,\n",
        "        per_device_eval_batch_size=batch_size,\n",
        "        num_train_epochs=epochs,\n",
        "        weight_decay=0.01,\n",
        "        evaluation_strategy=\"steps\",\n",
        "        lr_scheduler_type=\"cosine_with_restarts\",\n",
        "        save_total_limit = 1,\n",
        "        load_best_model_at_end=True,\n",
        "        metric_for_best_model='macro-avg-f1score',\n",
        "        report_to='none'\n",
        "    )\n",
        "\n",
        "    pos_weight = init_pos_weight(concatenate_datasets([train_data, val_data, test_data]), label2id.keys(), class_weights)\n",
        "\n",
        "    trainer = MultiLabelTrainer(\n",
        "        pos_weight=pos_weight,\n",
        "        model=model,\n",
        "        args=training_args,\n",
        "        train_dataset=train,\n",
        "        eval_dataset=val,\n",
        "        tokenizer=tokenizer,\n",
        "        data_collator=data_collator,\n",
        "        compute_metrics=lambda pred: compute_metrics(pred, list(level_2.keys())),\n",
        "    )\n",
        "\n",
        "    return trainer"
      ]
    },
    {
      "cell_type": "code",
      "execution_count": 28,
      "metadata": {
        "id": "YexItWyYQ8dT"
      },
      "outputs": [],
      "source": [
        "cols = train_data.column_names\n",
        "cols.remove('labels')"
      ]
    },
    {
      "cell_type": "code",
      "execution_count": 29,
      "metadata": {
        "colab": {
          "base_uri": "https://localhost:8080/"
        },
        "id": "YK38U9LyQ8dT",
        "outputId": "1a48754f-3022-4155-c1ec-213f1906657f"
      },
      "outputs": [],
      "source": [
        "# model_card = 'bert-base-uncased'\n",
        "# model_card = 'microsoft/deberta-v3-base'\n",
        "model_card = 'roberta-base'\n",
        "tokenizer = AutoTokenizer.from_pretrained(model_card)\n",
        "\n",
        "model_dir = \"./model_dir/\"+model_card+\"/\"\n",
        "data_collator = DataCollatorWithPadding(tokenizer=tokenizer)"
      ]
    },
    {
      "cell_type": "markdown",
      "metadata": {
        "id": "dJWSxdXFQ8dT"
      },
      "source": [
        "Models"
      ]
    },
    {
      "cell_type": "code",
      "execution_count": 30,
      "metadata": {
        "id": "DqJI03m4Q8dT"
      },
      "outputs": [],
      "source": [
        "class Baseline:\n",
        "    def __init__(self, strategy, data, labels):\n",
        "        self.strategy = strategy\n",
        "        self.classifier = DummyClassifier(strategy=strategy)\n",
        "        self.X = data\n",
        "        self.Y = labels\n",
        "\n",
        "    def score(self):\n",
        "        out_dict = {'accuracy': None, 'f1-score': {}, 'macro-avg-f1score': None}\n",
        "        avg_accuracy = []\n",
        "        for column in self.Y.columns:\n",
        "            self.classifier.fit(self.X, self.Y[column])\n",
        "            self.classifier.predict(self.X)\n",
        "            avg_accuracy.append(self.classifier.score(self.X, self.Y[column]))\n",
        "            out_dict[\"f1-score\"][column] = round(f1_score(self.Y[column], self.classifier.predict(self.X), zero_division=0), 4)\n",
        "\n",
        "        out_dict['accuracy'] = round(sum(avg_accuracy)/len(avg_accuracy), 4)\n",
        "        out_dict['f1-score']['avg-f1-score'] = out_dict[\"macro-avg-f1score\"] = round(sum(out_dict[\"f1-score\"].values())/len(out_dict[\"f1-score\"]), 4)\n",
        "        return out_dict"
      ]
    },
    {
      "cell_type": "code",
      "execution_count": 147,
      "metadata": {
        "id": "HoH9-bArQ8dT"
      },
      "outputs": [],
      "source": [
        "class BERT_CPS(BertPreTrainedModel):\n",
        "    def __init__(self, card, id2label, label2id, load=None, pos_weight=None, dropout_prob=0.3):\n",
        "        self.card = card.split(\"-\")[0]\n",
        "\n",
        "        if self.card == \"roberta\":\n",
        "            self.config = RobertaConfig.from_pretrained(model_card, output_attentions=True, output_hidden_states=True)\n",
        "        elif self.card == \"bert\":\n",
        "            self.config = BertConfig.from_pretrained(model_card, output_attentions=True, output_hidden_states=True)\n",
        "        self.config.num_labels = 4\n",
        "        self.config.id2label = id2label\n",
        "        self.config.label2id = label2id\n",
        "        self.config.hidden_dropout_prob = dropout_prob\n",
        "\n",
        "        super().__init__(self.config)\n",
        "        self.core = self.initialize_model(load)\n",
        "\n",
        "        if pos_weight == None:\n",
        "            self.pos_weight = torch.ones([self.config.num_labels]).to(\"cuda\")\n",
        "        else:\n",
        "            self.pos_weight = pos_weight\n",
        "\n",
        "        self.dropout = nn.Dropout(self.config.hidden_dropout_prob)\n",
        "        self.classifier = nn.Linear(self.config.hidden_size+1, self.config.num_labels)\n",
        "        self.post_init()\n",
        "\n",
        "    def initialize_model(self, load):\n",
        "        if load == None:\n",
        "            if self.card == \"roberta\":\n",
        "                return RobertaModel(self.config)\n",
        "            elif self.card == \"bert\":\n",
        "                return BertModel(self.config)\n",
        "        else:\n",
        "            if self.card == \"roberta\":\n",
        "                return RobertaModel.from_pretrained(load, local_files_only=True)\n",
        "            elif self.card == \"bert\":\n",
        "                return BertModel.from_pretrained(load, local_files_only=True)\n",
        "\n",
        "\n",
        "    def forward(\n",
        "        self,\n",
        "        input_ids=None,\n",
        "        attention_mask=None,\n",
        "        token_type_ids=None,\n",
        "        labels=None,\n",
        "        return_dict=None,\n",
        "        stance = None,\n",
        "    ):\n",
        "        return_dict = return_dict if return_dict is not None else self.config.use_return_dict\n",
        "\n",
        "        outputs = self.core(\n",
        "            input_ids,\n",
        "            attention_mask=attention_mask,\n",
        "            token_type_ids=token_type_ids,\n",
        "            return_dict=return_dict,\n",
        "        )\n",
        "\n",
        "        # Concat with stance ---> (8)\n",
        "        pooled_output = outputs[1]  # (batch_size, hidden_dim) ---> (8, 768)\n",
        "        concat_stance = torch.cat((pooled_output, stance.unsqueeze(1)), dim=1)\n",
        "\n",
        "        dropped_output = self.dropout(concat_stance)\n",
        "        logits = self.classifier(dropped_output)\n",
        "\n",
        "        loss = None\n",
        "        if labels is not None:\n",
        "            loss_fct = nn.BCEWithLogitsLoss(pos_weight=self.pos_weight)\n",
        "            loss = loss_fct(logits, labels)\n",
        "\n",
        "        if not return_dict:\n",
        "            output = (logits,) + outputs[2:]\n",
        "            return ((loss,) + output) if loss is not None else output\n",
        "\n",
        "        return SequenceClassifierOutput(\n",
        "            loss=loss,\n",
        "            logits=logits,\n",
        "        )"
      ]
    },
    {
      "cell_type": "code",
      "execution_count": 32,
      "metadata": {
        "colab": {
          "base_uri": "https://localhost:8080/",
          "height": 305,
          "referenced_widgets": [
            "b4675f800f0e42e6bcb6e27d390f9e96",
            "4ef751912d174e34b65c3a83fc6d8652",
            "0a6acd66639646f681832850ef172ace",
            "6cff2f3963b24a6f98e6fd6d73954675",
            "6e70bcc0729f4036ba5fde0b28c951da",
            "c46c182ac0234ddc83b2a7d4e6ba4c2a",
            "037002599350494fa8dbc6e07d7cf82a",
            "1aad899474824f22bb11bd6391ada57c",
            "c14f51fc35bb4b6aba2675732dd30ea9",
            "5351a386669d4d0c9e7d8e4cb036c7c1",
            "6b9571754c3d4bb7aa663eb9d7814abb",
            "f6850db2251c48059bd17e3da3bbc1c8",
            "0f4551d7c06343bab59290f164a176dc",
            "604f6f0f035343f4a33009ec9b8598ba",
            "6a72594480854b3592ecb76d388ccaf8",
            "77cd4b577a294b3a9df1bd55592923a5",
            "d1cfa8833e954304acc171643cedb962",
            "57844f734d594da4b95b962d41aebd1b",
            "3b2b8508b46f4e6ca53bce9e54c99e95",
            "60ebeabe19614a88a3ebcf864bda2f4e",
            "aa97da831e744f4f8c1bb8c5a67ab0de",
            "c2073a74d7fa4801a37a1c6e97a10333",
            "e4596c3d8b394c0a9b612835a966dfe9",
            "ca5f973f406b4c0da2691ec403136079",
            "25f168f192654a4981f7420e400b358a",
            "05914ba8f2de47fda3baf737d5b0f7f7",
            "19fdda86cec0427bacc1a79ac9d78b7e",
            "ae2456b215df412f9cc0cb304cd97f27",
            "d3c83c89d6064e6e82dc608593b1c5f0",
            "d203ede6c6a24b9f843c13e8a851d19e",
            "bc51de8e4db34fa2a0a6f6c66496484e",
            "56c7e4a5acfe4717aa836fc4fb366387",
            "ca8348ff3cd448bb96b5caf3731d0baf",
            "426bb492e50f4cf7912d36d7a0c784be",
            "48944edf6f8c486399bc17a1115969fc",
            "279b6008c7f549f5b0c94cb01a33f18e",
            "030a9ada483e4cd59a622ac6180a0664",
            "e04f6614e95d450585dd99b02c42c2e3",
            "e3f52d677f004e3bbb31f7d66a7e0d62",
            "1e31c023a706485f8b773b84f5036791",
            "3a11fe6667e945c791c2c5ba0a74bdc1",
            "03464fae02114b3cb2e4d2e277eff367",
            "5224de7875d74c3d8081934ca5f84adc",
            "fd76cd30cf3340678a6a23fc464d4270",
            "fc22d9fe4f0f4ad08d1beb120afc87a8",
            "b894c235581049b0aa40f607182e621f",
            "00222ae7e5c04df6a2df3d5d2f78fa51",
            "6381a41749704dcaa9be53321e03ce8f",
            "9880de0377414ce5a1c99a6c2188cfc2",
            "f7122e3b7ba747b782ef5aed79c0e88d",
            "d958facd571c4bbc80892aff1e9a719e",
            "a7628740d73f4814810209346ecd6153",
            "38ab926b5be04ed19fed2e46f655b6b1",
            "a26bff676c13420fb625c96740161829",
            "bc68ec06cfa1415b92283a156b207bc6",
            "4a593a49f1614b09b260fc3c4a4284e3",
            "a2ecfb8598724476b397f779f60edf31",
            "83943131f47c4b568e3fc228d2f492bf",
            "1deef171cae043228b1debc278790581",
            "155d4d6a909345b0934716173f3ea288",
            "4dbe9b2a88314a61a5d9778ff483faaf",
            "86d8694053f24e49a2e55b30e3e841c4",
            "169ef1cb22a74dfea18728de955f512f",
            "1c2b675803b44eb39dfe8c81a7134e02",
            "9a551f951e544562980f13828d838845",
            "e2e54397d9d345de82c2ca076e724139",
            "12b3bcb8453d4cf39b7b9d9549a85a20",
            "c67a8ce9dbee4723b2a24fc53694542e",
            "f0c490ed41ce49a99afa5af9af25c10d",
            "ee2e427f697e4a889c1b9ce7bfa3e3d7",
            "932d68102a9a4594a8e8330388f80c4d",
            "8b3e961f333940a2a065b27d441c79cb",
            "6cb0a7b9c0eb4a52af810d58010ad976",
            "9ceea89da5f845d0a941972d2401e064",
            "b157b88263cd4cf0b53fef9e20fc2aea",
            "d90f11c64dde40ab893bb1b8ebf8ebcc",
            "bd0356c5e67247e4a50ca6eab1d0dc0c",
            "185e7beade1c401e800d6ee89fc08b81",
            "8434e9705fd345d489e845c43ec355d6",
            "76dddf58563a4b1587caa6363d1e0688",
            "4fc9f3af302142ce9e21146577aa34a9",
            "d363b4a9e8c74b95974662ec81f08155",
            "745e765ea7f0412286c06be25ee67868",
            "0ccb399ac9dc4ebf8d595bc1824c010e",
            "f216c4e9c53a47eab9b7f9d5b37bed26",
            "fe104693670a4acc937f4659c2980229",
            "e5a657c9944d4d62baedea56d1ec555a",
            "4e60a052f9a54e999f36dde4088ca11a",
            "7731b26b42694876b2a89e43e37e6fee",
            "26f438ceafcb4323bd568caccba72d8b",
            "3876a93644a4432793e3cb0ee00e314b",
            "8d2d6f0c53a144598f6976b0d17c166e",
            "47171d3a79c1467a9a3ba902394c1a7e",
            "792fe0e945fb4a9bad94d498f87c1496",
            "67e96a9d3b8a478eb9bed08bb47ffeda",
            "2ca8ff43e66c4e66972eeb525427e13c",
            "da9946f0dc474b9cbdd7577ff8d13274",
            "d89ebc79f4b44f9b9f296068634f0daa",
            "43aa316fb49c41dfae7e5f6037f67b10"
          ]
        },
        "id": "-zhmJ4nwQ8dT",
        "outputId": "58f3d524-554e-44a8-9dc4-038423f5d5cc"
      },
      "outputs": [
        {
          "data": {
            "application/vnd.jupyter.widget-view+json": {
              "model_id": "474e837ad767452cb58caf33534e0f4e",
              "version_major": 2,
              "version_minor": 0
            },
            "text/plain": [
              "Map:   0%|          | 0/5393 [00:00<?, ? examples/s]"
            ]
          },
          "metadata": {},
          "output_type": "display_data"
        },
        {
          "data": {
            "application/vnd.jupyter.widget-view+json": {
              "model_id": "dea551e0a2454eb98a16846dfda7ac03",
              "version_major": 2,
              "version_minor": 0
            },
            "text/plain": [
              "Map:   0%|          | 0/1896 [00:00<?, ? examples/s]"
            ]
          },
          "metadata": {},
          "output_type": "display_data"
        },
        {
          "data": {
            "application/vnd.jupyter.widget-view+json": {
              "model_id": "e483e582712a411b9a00436b62a6e0db",
              "version_major": 2,
              "version_minor": 0
            },
            "text/plain": [
              "Map:   0%|          | 0/1576 [00:00<?, ? examples/s]"
            ]
          },
          "metadata": {},
          "output_type": "display_data"
        },
        {
          "data": {
            "application/vnd.jupyter.widget-view+json": {
              "model_id": "4faf90650413417c944bf5a246360f14",
              "version_major": 2,
              "version_minor": 0
            },
            "text/plain": [
              "Map:   0%|          | 0/5393 [00:00<?, ? examples/s]"
            ]
          },
          "metadata": {},
          "output_type": "display_data"
        },
        {
          "data": {
            "application/vnd.jupyter.widget-view+json": {
              "model_id": "c83e01f6197b47c19cbd24d894d86d9a",
              "version_major": 2,
              "version_minor": 0
            },
            "text/plain": [
              "Map:   0%|          | 0/1896 [00:00<?, ? examples/s]"
            ]
          },
          "metadata": {},
          "output_type": "display_data"
        },
        {
          "data": {
            "application/vnd.jupyter.widget-view+json": {
              "model_id": "5300c9479be14b5798a9185dbe2fa656",
              "version_major": 2,
              "version_minor": 0
            },
            "text/plain": [
              "Map:   0%|          | 0/1576 [00:00<?, ? examples/s]"
            ]
          },
          "metadata": {},
          "output_type": "display_data"
        },
        {
          "data": {
            "application/vnd.jupyter.widget-view+json": {
              "model_id": "3ab90a0f4f3d4ba68ff52e2ff7600d0e",
              "version_major": 2,
              "version_minor": 0
            },
            "text/plain": [
              "Map:   0%|          | 0/5393 [00:00<?, ? examples/s]"
            ]
          },
          "metadata": {},
          "output_type": "display_data"
        },
        {
          "data": {
            "application/vnd.jupyter.widget-view+json": {
              "model_id": "c5f74b75d58e424fa77d56a6803397d5",
              "version_major": 2,
              "version_minor": 0
            },
            "text/plain": [
              "Map:   0%|          | 0/1896 [00:00<?, ? examples/s]"
            ]
          },
          "metadata": {},
          "output_type": "display_data"
        },
        {
          "data": {
            "application/vnd.jupyter.widget-view+json": {
              "model_id": "592b40a911ee4168b1af815ad0a82737",
              "version_major": 2,
              "version_minor": 0
            },
            "text/plain": [
              "Map:   0%|          | 0/1576 [00:00<?, ? examples/s]"
            ]
          },
          "metadata": {},
          "output_type": "display_data"
        }
      ],
      "source": [
        "# Create datasets\n",
        "train_data_C, val_data_C, test_data_C = get_datasets(train_data, val_data, test_data, \"C\", cols)\n",
        "train_data_CP, val_data_CP, test_data_CP = get_datasets(train_data, val_data, test_data, \"CP\", cols)\n",
        "train_data_CPS, val_data_CPS, test_data_CPS = get_datasets(train_data, val_data, test_data, \"CPS\", cols)"
      ]
    },
    {
      "cell_type": "code",
      "execution_count": 33,
      "metadata": {
        "id": "Y_rS5xkJQ8dU"
      },
      "outputs": [],
      "source": [
        "def define_models(model_card):\n",
        "    config = AutoConfig.from_pretrained(model_card)\n",
        "    config.hidden_dropout_prob = 0.3\n",
        "    config.problem_type = \"multi_label_classification\"\n",
        "    config.num_labels = 4\n",
        "    config.id2label = id2label\n",
        "    config.label2id = label2id\n",
        "\n",
        "    # model_C = AutoModelForSequenceClassification.from_pretrained(model_card, problem_type=\"multi_label_classification\", num_labels=4, id2label=id2label, label2id=label2id)\n",
        "    model_C = AutoModelForSequenceClassification.from_config(config)\n",
        "    model_C.train() #set back to training mode\n",
        "    # model_CP = AutoModelForSequenceClassification.from_pretrained(model_card, problem_type=\"multi_label_classification\", num_labels=4, id2label=id2label, label2id=label2id)\n",
        "    model_CP = AutoModelForSequenceClassification.from_config(config)\n",
        "    model_CP.train() #set back to training mode\n",
        "\n",
        "    pos_weight = init_pos_weight(concatenate_datasets([train_data, val_data, test_data]), label2id.keys(), True)\n",
        "    model_CPS = BERT_CPS(model_card, id2label, label2id, pos_weight=pos_weight, dropout_prob = config.hidden_dropout_prob)\n",
        "\n",
        "    return model_C, model_CP, model_CPS"
      ]
    },
    {
      "cell_type": "code",
      "execution_count": 34,
      "metadata": {
        "id": "VjcLxMPkQ8dU"
      },
      "outputs": [],
      "source": [
        "def test_all(trainers, test, model_names):\n",
        "    \"\"\"trainers and test must have the same length\n",
        "\n",
        "    Args:\n",
        "        trainers (list): list containing the trainers\n",
        "        test (list): list containing the test datasets\n",
        "        model_names (list): list containing the models' names\n",
        "    \"\"\"\n",
        "\n",
        "    test_metrics = []\n",
        "    for trainer, dataset, name in zip(trainers, test, model_names):\n",
        "        test_prediction_info = trainer.predict(dataset)\n",
        "        test_predictions, test_labels = test_prediction_info.predictions, test_prediction_info.label_ids\n",
        "        test_metrics.append(compute_metrics([test_predictions, test_labels], list(level_2.keys())))\n",
        "        # print(f\"{name} on test set\")\n",
        "        # print(test_metrics)\n",
        "    return test_metrics"
      ]
    },
    {
      "cell_type": "code",
      "execution_count": 170,
      "metadata": {
        "id": "nbU7tQuhOL_E"
      },
      "outputs": [],
      "source": [
        "def build_confusion_matrix(trainer, test_data, norm=True):\n",
        "  prediction_out = trainer.predict(test_data)\n",
        "  y_pred = prediction_out.predictions\n",
        "  y_pred = torch.from_numpy(y_pred)\n",
        "  y_pred = y_pred.sigmoid()\n",
        "  y_pred = (y_pred > 0.5).numpy()\n",
        "  y_true = test_data[\"labels\"].bool().numpy()\n",
        "  if norm:\n",
        "    return [matrix/matrix.sum() for matrix in multilabel_confusion_matrix(y_true, y_pred)]\n",
        "  else:\n",
        "    return multilabel_confusion_matrix(y_true, y_pred)"
      ]
    },
    {
      "cell_type": "code",
      "execution_count": 36,
      "metadata": {
        "id": "yGiZ9UpyFnGi"
      },
      "outputs": [],
      "source": [
        "def get_wrongly_classified(trainer, test_data):\n",
        "    prediction_out = trainer.predict(test_data)\n",
        "    y_pred = prediction_out.predictions\n",
        "    y_pred = torch.from_numpy(y_pred)\n",
        "    y_pred = y_pred.sigmoid()\n",
        "    y_pred = (y_pred > 0.5).numpy()\n",
        "    y_true = torch.from_numpy(prediction_out.label_ids).bool().numpy()\n",
        "    res = np.where(y_pred != y_true)\n",
        "\n",
        "    key_list = list(level_2.keys())\n",
        "    out_samples = []\n",
        "    for i,j in zip(res[0], res[1]):\n",
        "        decoded = tokenizer.decode(test_data[int(i)][\"input_ids\"])\n",
        "        correct_label = dict(zip(key_list, y_true[0]))\n",
        "        pred_label = dict(zip(key_list, y_pred[0]))\n",
        "\n",
        "        sample = {\n",
        "            \"decoded\": decoded,\n",
        "            \"correct\": correct_label,\n",
        "            \"predicted\": pred_label\n",
        "        }\n",
        "        out_samples.append(sample)\n",
        "\n",
        "    return out_samples"
      ]
    },
    {
      "cell_type": "code",
      "execution_count": 37,
      "metadata": {
        "id": "E5JrhXQ1Q8dV"
      },
      "outputs": [],
      "source": [
        "def set_seeds(SEED):\n",
        "    np.random.seed(SEED)\n",
        "    torch.manual_seed(SEED)"
      ]
    },
    {
      "cell_type": "code",
      "execution_count": 38,
      "metadata": {
        "id": "nyt7t8JvQ8dV"
      },
      "outputs": [],
      "source": [
        "class BestTrainer:\n",
        "    def __init__(self, trainer, seed, score, name):\n",
        "        # self.trainer = trainer    # commented to improve memory usage\n",
        "        self.seed = seed\n",
        "        self.score = score\n",
        "        self.name = name\n",
        "\n",
        "    def get_trainer(self):\n",
        "      return self.trainer\n",
        "\n",
        "    def get_score(self):\n",
        "        return self.score\n",
        "\n",
        "    def is_empty(self):\n",
        "        return self.trainer == None and self.seed == None"
      ]
    },
    {
      "cell_type": "code",
      "execution_count": 39,
      "metadata": {
        "id": "nUKBpFfBQ8dV"
      },
      "outputs": [],
      "source": [
        "def train_models(model_card, epochs=10):\n",
        "    seeds = [42, 55, 666]\n",
        "\n",
        "    best_trainer_C = BestTrainer(None, None, 0, \"C\")\n",
        "    best_trainer_CP = BestTrainer(None, None, 0, \"CP\")\n",
        "    best_trainer_CPS = BestTrainer(None, None, 0, \"CPS\")\n",
        "\n",
        "    # dataframes for the baseline models\n",
        "    X = train_split.drop(columns=train_split.columns[4:])\n",
        "    Y = train_split[['Openness to change', 'Self-enhancement', 'Conservation', 'Self-transcendence']]\n",
        "    seed_table = {'majority':{}, 'uniform':{}, 'model_C': {}, 'model_CP': {}, 'model_CPS': {}}\n",
        "\n",
        "\n",
        "    # Train Model_C\n",
        "    for seed in seeds:\n",
        "        set_seeds(seed)\n",
        "\n",
        "        model_C, _, _ = define_models(model_card)\n",
        "        trainer = get_trainer(model_C, train_data_C, val_data_C, model_dir+\"conclusion\", class_weights=True, batch_size=16, epochs=epochs)\n",
        "        print(f'Training MODEL_C with seed {seed}:')\n",
        "        trainer.train()\n",
        "        val_C = test_all([trainer], [val_data_C], [\"Model_C\"])\n",
        "\n",
        "        # Update best models for later use\n",
        "        if val_C[0][\"macro-avg-f1score\"] > best_trainer_C.get_score():\n",
        "            best_trainer_C = BestTrainer(trainer, seed, val_C[0][\"macro-avg-f1score\"], model_card+\"_C\")\n",
        "            trainer.save_model(model_dir+\"conclusion\")\n",
        "        \n",
        "        seed_table[\"model_C\"][seed] = val_C\n",
        "        torch.cuda.empty_cache()\n",
        "\n",
        "    # Train Model_CP\n",
        "    for seed in seeds:\n",
        "        set_seeds(seed)\n",
        "        _, model_CP, _ = define_models(model_card)\n",
        "        trainer = get_trainer(model_CP, train_data_CP, val_data_CP, model_dir+\"conclusion_premise\", class_weights=True, batch_size=16, epochs=epochs)\n",
        "\n",
        "        print(f'Training MODEL_CP with seed {seed}:')\n",
        "        trainer.train()\n",
        "        val_CP = test_all([trainer], [val_data_CP], [\"Model_CP\"])\n",
        "\n",
        "        # Update best models for later use\n",
        "        if val_CP[0][\"macro-avg-f1score\"] > best_trainer_CP.get_score():\n",
        "            best_trainer_CP = BestTrainer(trainer, seed, val_CP[0][\"macro-avg-f1score\"], model_card+\"_CP\")\n",
        "            trainer.save_model(model_dir+\"conclusion_premise\")\n",
        "        \n",
        "        seed_table[\"model_CP\"][seed] = val_CP\n",
        "        torch.cuda.empty_cache()\n",
        "\n",
        "    # Train Model_CPS\n",
        "    for seed in seeds:\n",
        "        set_seeds(seed)\n",
        "        _, _, model_CPS = define_models(model_card)\n",
        "        trainer = get_trainer(model_CPS, train_data_CPS, val_data_CPS, model_dir+\"conclusion_premise_stance\", class_weights=True, batch_size=16, epochs=epochs)\n",
        "\n",
        "        print(f'Training MODEL_CPS with seed {seed}:')\n",
        "        trainer.train()\n",
        "        val_CPS = test_all([trainer], [val_data_CPS], [\"Model_CPS\"])\n",
        "\n",
        "        # Update best models for later use\n",
        "        if val_CPS[0][\"macro-avg-f1score\"] > best_trainer_CPS.get_score():\n",
        "            best_trainer_CPS = BestTrainer(trainer, seed, val_CPS[0][\"macro-avg-f1score\"], model_card+\"_CPS\")\n",
        "            trainer.save_model(model_dir+\"conclusion_premise_stance\")\n",
        "        \n",
        "        seed_table[\"model_CPS\"][seed] = val_CPS\n",
        "        torch.cuda.empty_cache()\n",
        "\n",
        "    # \"Train\" Baselines\n",
        "    for seed in seeds:\n",
        "        random_clf = Baseline(\"uniform\", X, Y)\n",
        "        majority_clf = Baseline(\"most_frequent\", X, Y)\n",
        "\n",
        "        # fill seed table\n",
        "        seed_table[\"majority\"][seed] = majority_clf.score()\n",
        "        seed_table[\"uniform\"][seed] = random_clf.score()\n",
        "\n",
        "    return best_trainer_C, best_trainer_CP, best_trainer_CPS, seed_table"
      ]
    },
    {
      "cell_type": "code",
      "execution_count": 41,
      "metadata": {},
      "outputs": [
        {
          "name": "stderr",
          "output_type": "stream",
          "text": [
            "c:\\Users\\marco\\anaconda3\\lib\\site-packages\\datasets\\table.py:1395: FutureWarning: promote has been superseded by mode='default'.\n",
            "  block_group = [InMemoryTable(cls._concat_blocks(list(block_group), axis=axis))]\n",
            "c:\\Users\\marco\\anaconda3\\lib\\site-packages\\datasets\\table.py:1421: FutureWarning: promote has been superseded by mode='default'.\n",
            "  table = cls._concat_blocks(blocks, axis=0)\n"
          ]
        },
        {
          "name": "stdout",
          "output_type": "stream",
          "text": [
            "Training MODEL_C with seed 42:\n"
          ]
        },
        {
          "data": {
            "application/vnd.jupyter.widget-view+json": {
              "model_id": "b08329d303274a06bef37f64cfb706d1",
              "version_major": 2,
              "version_minor": 0
            },
            "text/plain": [
              "  0%|          | 0/3380 [00:00<?, ?it/s]"
            ]
          },
          "metadata": {},
          "output_type": "display_data"
        },
        {
          "name": "stderr",
          "output_type": "stream",
          "text": [
            "You're using a RobertaTokenizerFast tokenizer. Please note that with a fast tokenizer, using the `__call__` method is faster than using a method to encode the text followed by a call to the `pad` method to get a padded encoding.\n"
          ]
        },
        {
          "name": "stdout",
          "output_type": "stream",
          "text": [
            "{'loss': 0.6975, 'learning_rate': 1.8939414235030137e-05, 'epoch': 1.48}\n"
          ]
        },
        {
          "data": {
            "application/vnd.jupyter.widget-view+json": {
              "model_id": "3675a5d5cd304ea7b4cfa9eab4359ad2",
              "version_major": 2,
              "version_minor": 0
            },
            "text/plain": [
              "  0%|          | 0/119 [00:00<?, ?it/s]"
            ]
          },
          "metadata": {},
          "output_type": "display_data"
        },
        {
          "name": "stdout",
          "output_type": "stream",
          "text": [
            "{'eval_loss': 0.707300066947937, 'eval_accuracy': 0.6433, 'eval_f1-score': {'Openness to change': 0.3504, 'Self-enhancement': 0.5949, 'Conservation': 0.8386, 'Self-transcendence': 0.8854, 'avg-f1-score': 0.6673}, 'eval_macro-avg-f1score': 0.6673, 'eval_runtime': 2.1312, 'eval_samples_per_second': 889.645, 'eval_steps_per_second': 55.837, 'epoch': 1.48}\n",
            "{'loss': 0.651, 'learning_rate': 1.5982625373091877e-05, 'epoch': 2.96}\n"
          ]
        },
        {
          "data": {
            "application/vnd.jupyter.widget-view+json": {
              "model_id": "d52dcb8c93744300a0032a2c11dceaa3",
              "version_major": 2,
              "version_minor": 0
            },
            "text/plain": [
              "  0%|          | 0/119 [00:00<?, ?it/s]"
            ]
          },
          "metadata": {},
          "output_type": "display_data"
        },
        {
          "name": "stderr",
          "output_type": "stream",
          "text": [
            "Checkpoint destination directory ./model_dir/roberta-base/conclusion\\checkpoint-1000 already exists and is non-empty.Saving will proceed but saved results may be invalid.\n"
          ]
        },
        {
          "name": "stdout",
          "output_type": "stream",
          "text": [
            "{'eval_loss': 0.6998113393783569, 'eval_accuracy': 0.6349, 'eval_f1-score': {'Openness to change': 0.4375, 'Self-enhancement': 0.5578, 'Conservation': 0.8585, 'Self-transcendence': 0.8854, 'avg-f1-score': 0.6848}, 'eval_macro-avg-f1score': 0.6848, 'eval_runtime': 1.8283, 'eval_samples_per_second': 1037.039, 'eval_steps_per_second': 65.088, 'epoch': 2.96}\n",
            "{'loss': 0.638, 'learning_rate': 1.1756819049583861e-05, 'epoch': 4.44}\n"
          ]
        },
        {
          "data": {
            "application/vnd.jupyter.widget-view+json": {
              "model_id": "903d57e147a546039da17af0ead492de",
              "version_major": 2,
              "version_minor": 0
            },
            "text/plain": [
              "  0%|          | 0/119 [00:00<?, ?it/s]"
            ]
          },
          "metadata": {},
          "output_type": "display_data"
        },
        {
          "name": "stdout",
          "output_type": "stream",
          "text": [
            "{'eval_loss': 0.7384593486785889, 'eval_accuracy': 0.675, 'eval_f1-score': {'Openness to change': 0.3323, 'Self-enhancement': 0.5717, 'Conservation': 0.8585, 'Self-transcendence': 0.8854, 'avg-f1-score': 0.662}, 'eval_macro-avg-f1score': 0.662, 'eval_runtime': 2.3664, 'eval_samples_per_second': 801.216, 'eval_steps_per_second': 50.287, 'epoch': 4.44}\n",
            "{'loss': 0.6284, 'learning_rate': 7.1583612709525405e-06, 'epoch': 5.92}\n"
          ]
        },
        {
          "data": {
            "application/vnd.jupyter.widget-view+json": {
              "model_id": "db15d897751547acb00fee245b944f3a",
              "version_major": 2,
              "version_minor": 0
            },
            "text/plain": [
              "  0%|          | 0/119 [00:00<?, ?it/s]"
            ]
          },
          "metadata": {},
          "output_type": "display_data"
        },
        {
          "name": "stdout",
          "output_type": "stream",
          "text": [
            "{'eval_loss': 0.7402220368385315, 'eval_accuracy': 0.6235, 'eval_f1-score': {'Openness to change': 0.4361, 'Self-enhancement': 0.5972, 'Conservation': 0.8585, 'Self-transcendence': 0.8854, 'avg-f1-score': 0.6943}, 'eval_macro-avg-f1score': 0.6943, 'eval_runtime': 2.327, 'eval_samples_per_second': 814.794, 'eval_steps_per_second': 51.139, 'epoch': 5.92}\n",
            "{'loss': 0.6182, 'learning_rate': 3.162663809364178e-06, 'epoch': 7.4}\n"
          ]
        },
        {
          "data": {
            "application/vnd.jupyter.widget-view+json": {
              "model_id": "1ff7ef80e2ee484bb82c898c3dbad800",
              "version_major": 2,
              "version_minor": 0
            },
            "text/plain": [
              "  0%|          | 0/119 [00:00<?, ?it/s]"
            ]
          },
          "metadata": {},
          "output_type": "display_data"
        },
        {
          "name": "stdout",
          "output_type": "stream",
          "text": [
            "{'eval_loss': 0.7385926246643066, 'eval_accuracy': 0.6251, 'eval_f1-score': {'Openness to change': 0.4347, 'Self-enhancement': 0.5872, 'Conservation': 0.8585, 'Self-transcendence': 0.8854, 'avg-f1-score': 0.6914}, 'eval_macro-avg-f1score': 0.6914, 'eval_runtime': 1.9572, 'eval_samples_per_second': 968.722, 'eval_steps_per_second': 60.801, 'epoch': 7.4}\n",
            "{'loss': 0.6154, 'learning_rate': 6.17282634596148e-07, 'epoch': 8.88}\n"
          ]
        },
        {
          "data": {
            "application/vnd.jupyter.widget-view+json": {
              "model_id": "1e080acadfa749f8b014b95a3c070295",
              "version_major": 2,
              "version_minor": 0
            },
            "text/plain": [
              "  0%|          | 0/119 [00:00<?, ?it/s]"
            ]
          },
          "metadata": {},
          "output_type": "display_data"
        },
        {
          "name": "stdout",
          "output_type": "stream",
          "text": [
            "{'eval_loss': 0.7347603440284729, 'eval_accuracy': 0.6305, 'eval_f1-score': {'Openness to change': 0.4314, 'Self-enhancement': 0.5913, 'Conservation': 0.8578, 'Self-transcendence': 0.8854, 'avg-f1-score': 0.6915}, 'eval_macro-avg-f1score': 0.6915, 'eval_runtime': 2.2214, 'eval_samples_per_second': 853.504, 'eval_steps_per_second': 53.569, 'epoch': 8.88}\n",
            "{'train_runtime': 304.6097, 'train_samples_per_second': 177.046, 'train_steps_per_second': 11.096, 'train_loss': 0.6381379437869823, 'epoch': 10.0}\n"
          ]
        },
        {
          "data": {
            "application/vnd.jupyter.widget-view+json": {
              "model_id": "deb6a8b43deb45f5b3097a228b98a48e",
              "version_major": 2,
              "version_minor": 0
            },
            "text/plain": [
              "  0%|          | 0/119 [00:00<?, ?it/s]"
            ]
          },
          "metadata": {},
          "output_type": "display_data"
        },
        {
          "name": "stderr",
          "output_type": "stream",
          "text": [
            "c:\\Users\\marco\\anaconda3\\lib\\site-packages\\datasets\\table.py:1395: FutureWarning: promote has been superseded by mode='default'.\n",
            "  block_group = [InMemoryTable(cls._concat_blocks(list(block_group), axis=axis))]\n",
            "c:\\Users\\marco\\anaconda3\\lib\\site-packages\\datasets\\table.py:1421: FutureWarning: promote has been superseded by mode='default'.\n",
            "  table = cls._concat_blocks(blocks, axis=0)\n"
          ]
        },
        {
          "name": "stdout",
          "output_type": "stream",
          "text": [
            "Training MODEL_C with seed 55:\n"
          ]
        },
        {
          "data": {
            "application/vnd.jupyter.widget-view+json": {
              "model_id": "a95236679eaf473f9f06c0e7435376a0",
              "version_major": 2,
              "version_minor": 0
            },
            "text/plain": [
              "  0%|          | 0/3380 [00:00<?, ?it/s]"
            ]
          },
          "metadata": {},
          "output_type": "display_data"
        },
        {
          "name": "stdout",
          "output_type": "stream",
          "text": [
            "{'loss': 0.6962, 'learning_rate': 1.8939414235030137e-05, 'epoch': 1.48}\n"
          ]
        },
        {
          "data": {
            "application/vnd.jupyter.widget-view+json": {
              "model_id": "31681b47fecd495491e7c222f6529654",
              "version_major": 2,
              "version_minor": 0
            },
            "text/plain": [
              "  0%|          | 0/119 [00:00<?, ?it/s]"
            ]
          },
          "metadata": {},
          "output_type": "display_data"
        },
        {
          "name": "stdout",
          "output_type": "stream",
          "text": [
            "{'eval_loss': 0.7315310835838318, 'eval_accuracy': 0.6005, 'eval_f1-score': {'Openness to change': 0.5086, 'Self-enhancement': 0.6371, 'Conservation': 0.8585, 'Self-transcendence': 0.8854, 'avg-f1-score': 0.7224}, 'eval_macro-avg-f1score': 0.7224, 'eval_runtime': 1.8825, 'eval_samples_per_second': 1007.177, 'eval_steps_per_second': 63.214, 'epoch': 1.48}\n",
            "{'loss': 0.6525, 'learning_rate': 1.5982625373091877e-05, 'epoch': 2.96}\n"
          ]
        },
        {
          "data": {
            "application/vnd.jupyter.widget-view+json": {
              "model_id": "f0313e97469e480a9d6c7445963d2de2",
              "version_major": 2,
              "version_minor": 0
            },
            "text/plain": [
              "  0%|          | 0/119 [00:00<?, ?it/s]"
            ]
          },
          "metadata": {},
          "output_type": "display_data"
        },
        {
          "name": "stdout",
          "output_type": "stream",
          "text": [
            "{'eval_loss': 0.7181864380836487, 'eval_accuracy': 0.633, 'eval_f1-score': {'Openness to change': 0.4346, 'Self-enhancement': 0.5767, 'Conservation': 0.8585, 'Self-transcendence': 0.8854, 'avg-f1-score': 0.6888}, 'eval_macro-avg-f1score': 0.6888, 'eval_runtime': 2.3263, 'eval_samples_per_second': 815.024, 'eval_steps_per_second': 51.154, 'epoch': 2.96}\n",
            "{'loss': 0.6351, 'learning_rate': 1.1756819049583861e-05, 'epoch': 4.44}\n"
          ]
        },
        {
          "data": {
            "application/vnd.jupyter.widget-view+json": {
              "model_id": "021b2122e7044f2c8d9d934990643856",
              "version_major": 2,
              "version_minor": 0
            },
            "text/plain": [
              "  0%|          | 0/119 [00:00<?, ?it/s]"
            ]
          },
          "metadata": {},
          "output_type": "display_data"
        },
        {
          "name": "stdout",
          "output_type": "stream",
          "text": [
            "{'eval_loss': 0.7462764978408813, 'eval_accuracy': 0.6719, 'eval_f1-score': {'Openness to change': 0.3141, 'Self-enhancement': 0.5609, 'Conservation': 0.8585, 'Self-transcendence': 0.8854, 'avg-f1-score': 0.6547}, 'eval_macro-avg-f1score': 0.6547, 'eval_runtime': 2.3827, 'eval_samples_per_second': 795.72, 'eval_steps_per_second': 49.942, 'epoch': 4.44}\n",
            "{'loss': 0.6251, 'learning_rate': 7.1583612709525405e-06, 'epoch': 5.92}\n"
          ]
        },
        {
          "data": {
            "application/vnd.jupyter.widget-view+json": {
              "model_id": "8d80e2b465fc4ed7b35fd3c506c087d5",
              "version_major": 2,
              "version_minor": 0
            },
            "text/plain": [
              "  0%|          | 0/119 [00:00<?, ?it/s]"
            ]
          },
          "metadata": {},
          "output_type": "display_data"
        },
        {
          "name": "stdout",
          "output_type": "stream",
          "text": [
            "{'eval_loss': 0.7505654692649841, 'eval_accuracy': 0.6048, 'eval_f1-score': {'Openness to change': 0.4604, 'Self-enhancement': 0.582, 'Conservation': 0.8585, 'Self-transcendence': 0.8854, 'avg-f1-score': 0.6966}, 'eval_macro-avg-f1score': 0.6966, 'eval_runtime': 1.8963, 'eval_samples_per_second': 999.848, 'eval_steps_per_second': 62.754, 'epoch': 5.92}\n",
            "{'loss': 0.6181, 'learning_rate': 3.162663809364178e-06, 'epoch': 7.4}\n"
          ]
        },
        {
          "data": {
            "application/vnd.jupyter.widget-view+json": {
              "model_id": "7034e86d0d4547de8838dd4a256d162f",
              "version_major": 2,
              "version_minor": 0
            },
            "text/plain": [
              "  0%|          | 0/119 [00:00<?, ?it/s]"
            ]
          },
          "metadata": {},
          "output_type": "display_data"
        },
        {
          "name": "stdout",
          "output_type": "stream",
          "text": [
            "{'eval_loss': 0.758504331111908, 'eval_accuracy': 0.6224, 'eval_f1-score': {'Openness to change': 0.4303, 'Self-enhancement': 0.5821, 'Conservation': 0.8574, 'Self-transcendence': 0.8854, 'avg-f1-score': 0.6888}, 'eval_macro-avg-f1score': 0.6888, 'eval_runtime': 1.9452, 'eval_samples_per_second': 974.727, 'eval_steps_per_second': 61.177, 'epoch': 7.4}\n",
            "{'loss': 0.6145, 'learning_rate': 6.17282634596148e-07, 'epoch': 8.88}\n"
          ]
        },
        {
          "data": {
            "application/vnd.jupyter.widget-view+json": {
              "model_id": "68203787ad2543aabf2e776a586e4a59",
              "version_major": 2,
              "version_minor": 0
            },
            "text/plain": [
              "  0%|          | 0/119 [00:00<?, ?it/s]"
            ]
          },
          "metadata": {},
          "output_type": "display_data"
        },
        {
          "name": "stdout",
          "output_type": "stream",
          "text": [
            "{'eval_loss': 0.7488444447517395, 'eval_accuracy': 0.6035, 'eval_f1-score': {'Openness to change': 0.4634, 'Self-enhancement': 0.5797, 'Conservation': 0.856, 'Self-transcendence': 0.8854, 'avg-f1-score': 0.6961}, 'eval_macro-avg-f1score': 0.6961, 'eval_runtime': 2.6834, 'eval_samples_per_second': 706.571, 'eval_steps_per_second': 44.347, 'epoch': 8.88}\n",
            "{'train_runtime': 304.2632, 'train_samples_per_second': 177.248, 'train_steps_per_second': 11.109, 'train_loss': 0.6370828120666143, 'epoch': 10.0}\n"
          ]
        },
        {
          "data": {
            "application/vnd.jupyter.widget-view+json": {
              "model_id": "e025c46edd124da4bfa4fa75e7aca8dc",
              "version_major": 2,
              "version_minor": 0
            },
            "text/plain": [
              "  0%|          | 0/119 [00:00<?, ?it/s]"
            ]
          },
          "metadata": {},
          "output_type": "display_data"
        },
        {
          "name": "stderr",
          "output_type": "stream",
          "text": [
            "c:\\Users\\marco\\anaconda3\\lib\\site-packages\\datasets\\table.py:1395: FutureWarning: promote has been superseded by mode='default'.\n",
            "  block_group = [InMemoryTable(cls._concat_blocks(list(block_group), axis=axis))]\n",
            "c:\\Users\\marco\\anaconda3\\lib\\site-packages\\datasets\\table.py:1421: FutureWarning: promote has been superseded by mode='default'.\n",
            "  table = cls._concat_blocks(blocks, axis=0)\n"
          ]
        },
        {
          "name": "stdout",
          "output_type": "stream",
          "text": [
            "Training MODEL_C with seed 666:\n"
          ]
        },
        {
          "data": {
            "application/vnd.jupyter.widget-view+json": {
              "model_id": "d03acab9124848d8811313254f62aea3",
              "version_major": 2,
              "version_minor": 0
            },
            "text/plain": [
              "  0%|          | 0/3380 [00:00<?, ?it/s]"
            ]
          },
          "metadata": {},
          "output_type": "display_data"
        },
        {
          "name": "stdout",
          "output_type": "stream",
          "text": [
            "{'loss': 0.702, 'learning_rate': 1.8939414235030137e-05, 'epoch': 1.48}\n"
          ]
        },
        {
          "data": {
            "application/vnd.jupyter.widget-view+json": {
              "model_id": "496b3d81d13b4d9880e795c4e9582e8f",
              "version_major": 2,
              "version_minor": 0
            },
            "text/plain": [
              "  0%|          | 0/119 [00:00<?, ?it/s]"
            ]
          },
          "metadata": {},
          "output_type": "display_data"
        },
        {
          "name": "stderr",
          "output_type": "stream",
          "text": [
            "Checkpoint destination directory ./model_dir/roberta-base/conclusion\\checkpoint-500 already exists and is non-empty.Saving will proceed but saved results may be invalid.\n"
          ]
        },
        {
          "name": "stdout",
          "output_type": "stream",
          "text": [
            "{'eval_loss': 0.6943199634552002, 'eval_accuracy': 0.686, 'eval_f1-score': {'Openness to change': 0.2371, 'Self-enhancement': 0.4045, 'Conservation': 0.8585, 'Self-transcendence': 0.8854, 'avg-f1-score': 0.5964}, 'eval_macro-avg-f1score': 0.5964, 'eval_runtime': 1.9841, 'eval_samples_per_second': 955.616, 'eval_steps_per_second': 59.978, 'epoch': 1.48}\n",
            "{'loss': 0.6576, 'learning_rate': 1.5982625373091877e-05, 'epoch': 2.96}\n"
          ]
        },
        {
          "data": {
            "application/vnd.jupyter.widget-view+json": {
              "model_id": "096873f612304a8e89b957404d09591a",
              "version_major": 2,
              "version_minor": 0
            },
            "text/plain": [
              "  0%|          | 0/119 [00:00<?, ?it/s]"
            ]
          },
          "metadata": {},
          "output_type": "display_data"
        },
        {
          "name": "stdout",
          "output_type": "stream",
          "text": [
            "{'eval_loss': 0.7038453221321106, 'eval_accuracy': 0.6143, 'eval_f1-score': {'Openness to change': 0.5441, 'Self-enhancement': 0.5733, 'Conservation': 0.8585, 'Self-transcendence': 0.8854, 'avg-f1-score': 0.7153}, 'eval_macro-avg-f1score': 0.7153, 'eval_runtime': 1.9663, 'eval_samples_per_second': 964.261, 'eval_steps_per_second': 60.521, 'epoch': 2.96}\n",
            "{'loss': 0.6373, 'learning_rate': 1.1756819049583861e-05, 'epoch': 4.44}\n"
          ]
        },
        {
          "data": {
            "application/vnd.jupyter.widget-view+json": {
              "model_id": "7b3943aaf0f6425abab06ff6810268ab",
              "version_major": 2,
              "version_minor": 0
            },
            "text/plain": [
              "  0%|          | 0/119 [00:00<?, ?it/s]"
            ]
          },
          "metadata": {},
          "output_type": "display_data"
        },
        {
          "name": "stdout",
          "output_type": "stream",
          "text": [
            "{'eval_loss': 0.7312789559364319, 'eval_accuracy': 0.658, 'eval_f1-score': {'Openness to change': 0.4259, 'Self-enhancement': 0.551, 'Conservation': 0.8585, 'Self-transcendence': 0.8854, 'avg-f1-score': 0.6802}, 'eval_macro-avg-f1score': 0.6802, 'eval_runtime': 2.6689, 'eval_samples_per_second': 710.412, 'eval_steps_per_second': 44.588, 'epoch': 4.44}\n",
            "{'loss': 0.6276, 'learning_rate': 7.1583612709525405e-06, 'epoch': 5.92}\n"
          ]
        },
        {
          "data": {
            "application/vnd.jupyter.widget-view+json": {
              "model_id": "de3e275f07ce4ca08b8dd83de2b84349",
              "version_major": 2,
              "version_minor": 0
            },
            "text/plain": [
              "  0%|          | 0/119 [00:00<?, ?it/s]"
            ]
          },
          "metadata": {},
          "output_type": "display_data"
        },
        {
          "name": "stdout",
          "output_type": "stream",
          "text": [
            "{'eval_loss': 0.7449122071266174, 'eval_accuracy': 0.6319, 'eval_f1-score': {'Openness to change': 0.4457, 'Self-enhancement': 0.5873, 'Conservation': 0.8585, 'Self-transcendence': 0.8854, 'avg-f1-score': 0.6942}, 'eval_macro-avg-f1score': 0.6942, 'eval_runtime': 2.3509, 'eval_samples_per_second': 806.486, 'eval_steps_per_second': 50.618, 'epoch': 5.92}\n",
            "{'loss': 0.6176, 'learning_rate': 3.162663809364178e-06, 'epoch': 7.4}\n"
          ]
        },
        {
          "data": {
            "application/vnd.jupyter.widget-view+json": {
              "model_id": "08701975e0264814a03a9c68f1abd9ca",
              "version_major": 2,
              "version_minor": 0
            },
            "text/plain": [
              "  0%|          | 0/119 [00:00<?, ?it/s]"
            ]
          },
          "metadata": {},
          "output_type": "display_data"
        },
        {
          "name": "stdout",
          "output_type": "stream",
          "text": [
            "{'eval_loss': 0.7484551668167114, 'eval_accuracy': 0.6367, 'eval_f1-score': {'Openness to change': 0.4164, 'Self-enhancement': 0.5953, 'Conservation': 0.8585, 'Self-transcendence': 0.8854, 'avg-f1-score': 0.6889}, 'eval_macro-avg-f1score': 0.6889, 'eval_runtime': 2.8386, 'eval_samples_per_second': 667.931, 'eval_steps_per_second': 41.922, 'epoch': 7.4}\n",
            "{'loss': 0.615, 'learning_rate': 6.17282634596148e-07, 'epoch': 8.88}\n"
          ]
        },
        {
          "data": {
            "application/vnd.jupyter.widget-view+json": {
              "model_id": "7d9dca92b01b4936bfbedc16d8ab8430",
              "version_major": 2,
              "version_minor": 0
            },
            "text/plain": [
              "  0%|          | 0/119 [00:00<?, ?it/s]"
            ]
          },
          "metadata": {},
          "output_type": "display_data"
        },
        {
          "name": "stdout",
          "output_type": "stream",
          "text": [
            "{'eval_loss': 0.7353936433792114, 'eval_accuracy': 0.6266, 'eval_f1-score': {'Openness to change': 0.4623, 'Self-enhancement': 0.5893, 'Conservation': 0.8585, 'Self-transcendence': 0.8854, 'avg-f1-score': 0.6989}, 'eval_macro-avg-f1score': 0.6989, 'eval_runtime': 2.4678, 'eval_samples_per_second': 768.304, 'eval_steps_per_second': 48.222, 'epoch': 8.88}\n",
            "{'train_runtime': 311.6724, 'train_samples_per_second': 173.034, 'train_steps_per_second': 10.845, 'train_loss': 0.6393556267552122, 'epoch': 10.0}\n"
          ]
        },
        {
          "data": {
            "application/vnd.jupyter.widget-view+json": {
              "model_id": "1382f9fa3f5e4155a90ad16c0a53a795",
              "version_major": 2,
              "version_minor": 0
            },
            "text/plain": [
              "  0%|          | 0/119 [00:00<?, ?it/s]"
            ]
          },
          "metadata": {},
          "output_type": "display_data"
        },
        {
          "name": "stderr",
          "output_type": "stream",
          "text": [
            "c:\\Users\\marco\\anaconda3\\lib\\site-packages\\datasets\\table.py:1395: FutureWarning: promote has been superseded by mode='default'.\n",
            "  block_group = [InMemoryTable(cls._concat_blocks(list(block_group), axis=axis))]\n",
            "c:\\Users\\marco\\anaconda3\\lib\\site-packages\\datasets\\table.py:1421: FutureWarning: promote has been superseded by mode='default'.\n",
            "  table = cls._concat_blocks(blocks, axis=0)\n"
          ]
        },
        {
          "name": "stdout",
          "output_type": "stream",
          "text": [
            "Training MODEL_CP with seed 42:\n"
          ]
        },
        {
          "data": {
            "application/vnd.jupyter.widget-view+json": {
              "model_id": "ceedd8e92a134134a4acd8bce7ee36dc",
              "version_major": 2,
              "version_minor": 0
            },
            "text/plain": [
              "  0%|          | 0/3380 [00:00<?, ?it/s]"
            ]
          },
          "metadata": {},
          "output_type": "display_data"
        },
        {
          "name": "stdout",
          "output_type": "stream",
          "text": [
            "{'loss': 0.7053, 'learning_rate': 1.8939414235030137e-05, 'epoch': 1.48}\n"
          ]
        },
        {
          "data": {
            "application/vnd.jupyter.widget-view+json": {
              "model_id": "fc1dffe267204f2aa934c2e5caefc1c3",
              "version_major": 2,
              "version_minor": 0
            },
            "text/plain": [
              "  0%|          | 0/119 [00:00<?, ?it/s]"
            ]
          },
          "metadata": {},
          "output_type": "display_data"
        },
        {
          "name": "stderr",
          "output_type": "stream",
          "text": [
            "Checkpoint destination directory ./model_dir/roberta-base/conclusion_premise\\checkpoint-500 already exists and is non-empty.Saving will proceed but saved results may be invalid.\n"
          ]
        },
        {
          "name": "stdout",
          "output_type": "stream",
          "text": [
            "{'eval_loss': 0.6846965551376343, 'eval_accuracy': 0.6779, 'eval_f1-score': {'Openness to change': 0.0, 'Self-enhancement': 0.0, 'Conservation': 0.8585, 'Self-transcendence': 0.8854, 'avg-f1-score': 0.436}, 'eval_macro-avg-f1score': 0.436, 'eval_runtime': 4.0525, 'eval_samples_per_second': 467.858, 'eval_steps_per_second': 29.365, 'epoch': 1.48}\n",
            "{'loss': 0.6986, 'learning_rate': 1.5982625373091877e-05, 'epoch': 2.96}\n"
          ]
        },
        {
          "data": {
            "application/vnd.jupyter.widget-view+json": {
              "model_id": "5e611d8c593c4262a232204cfe9a844b",
              "version_major": 2,
              "version_minor": 0
            },
            "text/plain": [
              "  0%|          | 0/119 [00:00<?, ?it/s]"
            ]
          },
          "metadata": {},
          "output_type": "display_data"
        },
        {
          "name": "stdout",
          "output_type": "stream",
          "text": [
            "{'eval_loss': 0.6960703730583191, 'eval_accuracy': 0.6779, 'eval_f1-score': {'Openness to change': 0.0, 'Self-enhancement': 0.0, 'Conservation': 0.8585, 'Self-transcendence': 0.8854, 'avg-f1-score': 0.436}, 'eval_macro-avg-f1score': 0.436, 'eval_runtime': 4.0443, 'eval_samples_per_second': 468.809, 'eval_steps_per_second': 29.424, 'epoch': 2.96}\n",
            "{'loss': 0.7008, 'learning_rate': 1.1756819049583861e-05, 'epoch': 4.44}\n"
          ]
        },
        {
          "data": {
            "application/vnd.jupyter.widget-view+json": {
              "model_id": "dbd5af7b9f9a47d5a6aa740679d30db2",
              "version_major": 2,
              "version_minor": 0
            },
            "text/plain": [
              "  0%|          | 0/119 [00:00<?, ?it/s]"
            ]
          },
          "metadata": {},
          "output_type": "display_data"
        },
        {
          "name": "stdout",
          "output_type": "stream",
          "text": [
            "{'eval_loss': 0.6889882683753967, 'eval_accuracy': 0.6779, 'eval_f1-score': {'Openness to change': 0.0, 'Self-enhancement': 0.0, 'Conservation': 0.8585, 'Self-transcendence': 0.8854, 'avg-f1-score': 0.436}, 'eval_macro-avg-f1score': 0.436, 'eval_runtime': 4.071, 'eval_samples_per_second': 465.732, 'eval_steps_per_second': 29.231, 'epoch': 4.44}\n",
            "{'loss': 0.6595, 'learning_rate': 7.1583612709525405e-06, 'epoch': 5.92}\n"
          ]
        },
        {
          "data": {
            "application/vnd.jupyter.widget-view+json": {
              "model_id": "a8db87e39e47474ea0712fa1b12be112",
              "version_major": 2,
              "version_minor": 0
            },
            "text/plain": [
              "  0%|          | 0/119 [00:00<?, ?it/s]"
            ]
          },
          "metadata": {},
          "output_type": "display_data"
        },
        {
          "name": "stdout",
          "output_type": "stream",
          "text": [
            "{'eval_loss': 0.6781489253044128, 'eval_accuracy': 0.67, 'eval_f1-score': {'Openness to change': 0.5451, 'Self-enhancement': 0.6285, 'Conservation': 0.8588, 'Self-transcendence': 0.8854, 'avg-f1-score': 0.7294}, 'eval_macro-avg-f1score': 0.7294, 'eval_runtime': 4.0927, 'eval_samples_per_second': 463.266, 'eval_steps_per_second': 29.076, 'epoch': 5.92}\n",
            "{'loss': 0.6214, 'learning_rate': 3.162663809364178e-06, 'epoch': 7.4}\n"
          ]
        },
        {
          "data": {
            "application/vnd.jupyter.widget-view+json": {
              "model_id": "7b44336492094d1194e9132ce3a277a2",
              "version_major": 2,
              "version_minor": 0
            },
            "text/plain": [
              "  0%|          | 0/119 [00:00<?, ?it/s]"
            ]
          },
          "metadata": {},
          "output_type": "display_data"
        },
        {
          "name": "stdout",
          "output_type": "stream",
          "text": [
            "{'eval_loss': 0.7042323350906372, 'eval_accuracy': 0.695, 'eval_f1-score': {'Openness to change': 0.4756, 'Self-enhancement': 0.555, 'Conservation': 0.8583, 'Self-transcendence': 0.885, 'avg-f1-score': 0.6935}, 'eval_macro-avg-f1score': 0.6935, 'eval_runtime': 4.1296, 'eval_samples_per_second': 459.127, 'eval_steps_per_second': 28.816, 'epoch': 7.4}\n",
            "{'loss': 0.6049, 'learning_rate': 6.17282634596148e-07, 'epoch': 8.88}\n"
          ]
        },
        {
          "data": {
            "application/vnd.jupyter.widget-view+json": {
              "model_id": "9287db489c2b471aade3c870995f8319",
              "version_major": 2,
              "version_minor": 0
            },
            "text/plain": [
              "  0%|          | 0/119 [00:00<?, ?it/s]"
            ]
          },
          "metadata": {},
          "output_type": "display_data"
        },
        {
          "name": "stdout",
          "output_type": "stream",
          "text": [
            "{'eval_loss': 0.6881875991821289, 'eval_accuracy': 0.6863, 'eval_f1-score': {'Openness to change': 0.5432, 'Self-enhancement': 0.5938, 'Conservation': 0.8592, 'Self-transcendence': 0.8838, 'avg-f1-score': 0.72}, 'eval_macro-avg-f1score': 0.72, 'eval_runtime': 4.1121, 'eval_samples_per_second': 461.074, 'eval_steps_per_second': 28.939, 'epoch': 8.88}\n",
            "{'train_runtime': 559.3004, 'train_samples_per_second': 96.424, 'train_steps_per_second': 6.043, 'train_loss': 0.6576700605584319, 'epoch': 10.0}\n"
          ]
        },
        {
          "data": {
            "application/vnd.jupyter.widget-view+json": {
              "model_id": "47be7de0180b4806bd155d1fa0f8ceef",
              "version_major": 2,
              "version_minor": 0
            },
            "text/plain": [
              "  0%|          | 0/119 [00:00<?, ?it/s]"
            ]
          },
          "metadata": {},
          "output_type": "display_data"
        },
        {
          "name": "stderr",
          "output_type": "stream",
          "text": [
            "c:\\Users\\marco\\anaconda3\\lib\\site-packages\\datasets\\table.py:1395: FutureWarning: promote has been superseded by mode='default'.\n",
            "  block_group = [InMemoryTable(cls._concat_blocks(list(block_group), axis=axis))]\n",
            "c:\\Users\\marco\\anaconda3\\lib\\site-packages\\datasets\\table.py:1421: FutureWarning: promote has been superseded by mode='default'.\n",
            "  table = cls._concat_blocks(blocks, axis=0)\n"
          ]
        },
        {
          "name": "stdout",
          "output_type": "stream",
          "text": [
            "Training MODEL_CP with seed 55:\n"
          ]
        },
        {
          "data": {
            "application/vnd.jupyter.widget-view+json": {
              "model_id": "0e1036e901c449ea973bb93a14dbdb47",
              "version_major": 2,
              "version_minor": 0
            },
            "text/plain": [
              "  0%|          | 0/3380 [00:00<?, ?it/s]"
            ]
          },
          "metadata": {},
          "output_type": "display_data"
        },
        {
          "name": "stdout",
          "output_type": "stream",
          "text": [
            "{'loss': 0.7031, 'learning_rate': 1.8939414235030137e-05, 'epoch': 1.48}\n"
          ]
        },
        {
          "data": {
            "application/vnd.jupyter.widget-view+json": {
              "model_id": "d12981255f224748a3e175db9c8d9c50",
              "version_major": 2,
              "version_minor": 0
            },
            "text/plain": [
              "  0%|          | 0/119 [00:00<?, ?it/s]"
            ]
          },
          "metadata": {},
          "output_type": "display_data"
        },
        {
          "name": "stdout",
          "output_type": "stream",
          "text": [
            "{'eval_loss': 0.6847575306892395, 'eval_accuracy': 0.5953, 'eval_f1-score': {'Openness to change': 0.5382, 'Self-enhancement': 0.6365, 'Conservation': 0.8585, 'Self-transcendence': 0.8854, 'avg-f1-score': 0.7296}, 'eval_macro-avg-f1score': 0.7296, 'eval_runtime': 4.0914, 'eval_samples_per_second': 463.41, 'eval_steps_per_second': 29.085, 'epoch': 1.48}\n",
            "{'loss': 0.6994, 'learning_rate': 1.5982625373091877e-05, 'epoch': 2.96}\n"
          ]
        },
        {
          "data": {
            "application/vnd.jupyter.widget-view+json": {
              "model_id": "eaf888273e02495cb2a768550e57aeaf",
              "version_major": 2,
              "version_minor": 0
            },
            "text/plain": [
              "  0%|          | 0/119 [00:00<?, ?it/s]"
            ]
          },
          "metadata": {},
          "output_type": "display_data"
        },
        {
          "name": "stdout",
          "output_type": "stream",
          "text": [
            "{'eval_loss': 0.6923762559890747, 'eval_accuracy': 0.6779, 'eval_f1-score': {'Openness to change': 0.0, 'Self-enhancement': 0.0, 'Conservation': 0.8585, 'Self-transcendence': 0.8854, 'avg-f1-score': 0.436}, 'eval_macro-avg-f1score': 0.436, 'eval_runtime': 4.1046, 'eval_samples_per_second': 461.915, 'eval_steps_per_second': 28.992, 'epoch': 2.96}\n",
            "{'loss': 0.6804, 'learning_rate': 1.1756819049583861e-05, 'epoch': 4.44}\n"
          ]
        },
        {
          "data": {
            "application/vnd.jupyter.widget-view+json": {
              "model_id": "924c5d400dcc4c92b35f49a9b467766e",
              "version_major": 2,
              "version_minor": 0
            },
            "text/plain": [
              "  0%|          | 0/119 [00:00<?, ?it/s]"
            ]
          },
          "metadata": {},
          "output_type": "display_data"
        },
        {
          "name": "stdout",
          "output_type": "stream",
          "text": [
            "{'eval_loss': 0.6687175035476685, 'eval_accuracy': 0.6723, 'eval_f1-score': {'Openness to change': 0.5583, 'Self-enhancement': 0.4501, 'Conservation': 0.8586, 'Self-transcendence': 0.8761, 'avg-f1-score': 0.6858}, 'eval_macro-avg-f1score': 0.6858, 'eval_runtime': 4.0904, 'eval_samples_per_second': 463.52, 'eval_steps_per_second': 29.092, 'epoch': 4.44}\n",
            "{'loss': 0.6278, 'learning_rate': 7.1583612709525405e-06, 'epoch': 5.92}\n"
          ]
        },
        {
          "data": {
            "application/vnd.jupyter.widget-view+json": {
              "model_id": "7940005fa66f470b9ec03c6b9c230940",
              "version_major": 2,
              "version_minor": 0
            },
            "text/plain": [
              "  0%|          | 0/119 [00:00<?, ?it/s]"
            ]
          },
          "metadata": {},
          "output_type": "display_data"
        },
        {
          "name": "stdout",
          "output_type": "stream",
          "text": [
            "{'eval_loss': 0.676687479019165, 'eval_accuracy': 0.6759, 'eval_f1-score': {'Openness to change': 0.557, 'Self-enhancement': 0.6148, 'Conservation': 0.8587, 'Self-transcendence': 0.8843, 'avg-f1-score': 0.7287}, 'eval_macro-avg-f1score': 0.7287, 'eval_runtime': 4.0696, 'eval_samples_per_second': 465.898, 'eval_steps_per_second': 29.241, 'epoch': 5.92}\n",
            "{'loss': 0.5862, 'learning_rate': 3.162663809364178e-06, 'epoch': 7.4}\n"
          ]
        },
        {
          "data": {
            "application/vnd.jupyter.widget-view+json": {
              "model_id": "d0424ba859ef49d5bb6264e5cbf31c83",
              "version_major": 2,
              "version_minor": 0
            },
            "text/plain": [
              "  0%|          | 0/119 [00:00<?, ?it/s]"
            ]
          },
          "metadata": {},
          "output_type": "display_data"
        },
        {
          "name": "stdout",
          "output_type": "stream",
          "text": [
            "{'eval_loss': 0.702838122844696, 'eval_accuracy': 0.6961, 'eval_f1-score': {'Openness to change': 0.5261, 'Self-enhancement': 0.6111, 'Conservation': 0.8514, 'Self-transcendence': 0.8848, 'avg-f1-score': 0.7184}, 'eval_macro-avg-f1score': 0.7184, 'eval_runtime': 4.0716, 'eval_samples_per_second': 465.667, 'eval_steps_per_second': 29.227, 'epoch': 7.4}\n",
            "{'loss': 0.5641, 'learning_rate': 6.17282634596148e-07, 'epoch': 8.88}\n"
          ]
        },
        {
          "data": {
            "application/vnd.jupyter.widget-view+json": {
              "model_id": "6f3ce1e2a4f9449da1980803a7afa14e",
              "version_major": 2,
              "version_minor": 0
            },
            "text/plain": [
              "  0%|          | 0/119 [00:00<?, ?it/s]"
            ]
          },
          "metadata": {},
          "output_type": "display_data"
        },
        {
          "name": "stdout",
          "output_type": "stream",
          "text": [
            "{'eval_loss': 0.7021235823631287, 'eval_accuracy': 0.6806, 'eval_f1-score': {'Openness to change': 0.5668, 'Self-enhancement': 0.6069, 'Conservation': 0.839, 'Self-transcendence': 0.8826, 'avg-f1-score': 0.7238}, 'eval_macro-avg-f1score': 0.7238, 'eval_runtime': 4.1142, 'eval_samples_per_second': 460.846, 'eval_steps_per_second': 28.924, 'epoch': 8.88}\n",
            "{'train_runtime': 559.8018, 'train_samples_per_second': 96.338, 'train_steps_per_second': 6.038, 'train_loss': 0.6342437382985854, 'epoch': 10.0}\n"
          ]
        },
        {
          "data": {
            "application/vnd.jupyter.widget-view+json": {
              "model_id": "83772469cd254dbdb173b422af011ac0",
              "version_major": 2,
              "version_minor": 0
            },
            "text/plain": [
              "  0%|          | 0/119 [00:00<?, ?it/s]"
            ]
          },
          "metadata": {},
          "output_type": "display_data"
        },
        {
          "name": "stderr",
          "output_type": "stream",
          "text": [
            "c:\\Users\\marco\\anaconda3\\lib\\site-packages\\datasets\\table.py:1395: FutureWarning: promote has been superseded by mode='default'.\n",
            "  block_group = [InMemoryTable(cls._concat_blocks(list(block_group), axis=axis))]\n",
            "c:\\Users\\marco\\anaconda3\\lib\\site-packages\\datasets\\table.py:1421: FutureWarning: promote has been superseded by mode='default'.\n",
            "  table = cls._concat_blocks(blocks, axis=0)\n"
          ]
        },
        {
          "name": "stdout",
          "output_type": "stream",
          "text": [
            "Training MODEL_CP with seed 666:\n"
          ]
        },
        {
          "data": {
            "application/vnd.jupyter.widget-view+json": {
              "model_id": "7f10467e0b98405992bd73faf908472a",
              "version_major": 2,
              "version_minor": 0
            },
            "text/plain": [
              "  0%|          | 0/3380 [00:00<?, ?it/s]"
            ]
          },
          "metadata": {},
          "output_type": "display_data"
        },
        {
          "name": "stdout",
          "output_type": "stream",
          "text": [
            "{'loss': 0.703, 'learning_rate': 1.8939414235030137e-05, 'epoch': 1.48}\n"
          ]
        },
        {
          "data": {
            "application/vnd.jupyter.widget-view+json": {
              "model_id": "d8afd5bb276a4b348607432a7e2af381",
              "version_major": 2,
              "version_minor": 0
            },
            "text/plain": [
              "  0%|          | 0/119 [00:00<?, ?it/s]"
            ]
          },
          "metadata": {},
          "output_type": "display_data"
        },
        {
          "name": "stderr",
          "output_type": "stream",
          "text": [
            "Checkpoint destination directory ./model_dir/roberta-base/conclusion_premise\\checkpoint-500 already exists and is non-empty.Saving will proceed but saved results may be invalid.\n"
          ]
        },
        {
          "name": "stdout",
          "output_type": "stream",
          "text": [
            "{'eval_loss': 0.6834532022476196, 'eval_accuracy': 0.6613, 'eval_f1-score': {'Openness to change': 0.0, 'Self-enhancement': 0.6365, 'Conservation': 0.8585, 'Self-transcendence': 0.8854, 'avg-f1-score': 0.5951}, 'eval_macro-avg-f1score': 0.5951, 'eval_runtime': 4.1117, 'eval_samples_per_second': 461.119, 'eval_steps_per_second': 28.942, 'epoch': 1.48}\n",
            "{'loss': 0.7, 'learning_rate': 1.5982625373091877e-05, 'epoch': 2.96}\n"
          ]
        },
        {
          "data": {
            "application/vnd.jupyter.widget-view+json": {
              "model_id": "f503f8d357d84eaf96fa4f9402dc85e1",
              "version_major": 2,
              "version_minor": 0
            },
            "text/plain": [
              "  0%|          | 0/119 [00:00<?, ?it/s]"
            ]
          },
          "metadata": {},
          "output_type": "display_data"
        },
        {
          "name": "stdout",
          "output_type": "stream",
          "text": [
            "{'eval_loss': 0.6890091300010681, 'eval_accuracy': 0.6779, 'eval_f1-score': {'Openness to change': 0.0, 'Self-enhancement': 0.0, 'Conservation': 0.8585, 'Self-transcendence': 0.8854, 'avg-f1-score': 0.436}, 'eval_macro-avg-f1score': 0.436, 'eval_runtime': 4.1086, 'eval_samples_per_second': 461.472, 'eval_steps_per_second': 28.964, 'epoch': 2.96}\n",
            "{'loss': 0.6934, 'learning_rate': 1.1756819049583861e-05, 'epoch': 4.44}\n"
          ]
        },
        {
          "data": {
            "application/vnd.jupyter.widget-view+json": {
              "model_id": "66db97e155c4489bb8d0e359086c0f3f",
              "version_major": 2,
              "version_minor": 0
            },
            "text/plain": [
              "  0%|          | 0/119 [00:00<?, ?it/s]"
            ]
          },
          "metadata": {},
          "output_type": "display_data"
        },
        {
          "name": "stdout",
          "output_type": "stream",
          "text": [
            "{'eval_loss': 0.6866735816001892, 'eval_accuracy': 0.6892, 'eval_f1-score': {'Openness to change': 0.3548, 'Self-enhancement': 0.3144, 'Conservation': 0.8585, 'Self-transcendence': 0.8854, 'avg-f1-score': 0.6033}, 'eval_macro-avg-f1score': 0.6033, 'eval_runtime': 4.1154, 'eval_samples_per_second': 460.707, 'eval_steps_per_second': 28.916, 'epoch': 4.44}\n",
            "{'loss': 0.642, 'learning_rate': 7.1583612709525405e-06, 'epoch': 5.92}\n"
          ]
        },
        {
          "data": {
            "application/vnd.jupyter.widget-view+json": {
              "model_id": "a1c278e0290642e28e05bf04f67a5de4",
              "version_major": 2,
              "version_minor": 0
            },
            "text/plain": [
              "  0%|          | 0/119 [00:00<?, ?it/s]"
            ]
          },
          "metadata": {},
          "output_type": "display_data"
        },
        {
          "name": "stdout",
          "output_type": "stream",
          "text": [
            "{'eval_loss': 0.6731325387954712, 'eval_accuracy': 0.6648, 'eval_f1-score': {'Openness to change': 0.5554, 'Self-enhancement': 0.6318, 'Conservation': 0.8589, 'Self-transcendence': 0.8852, 'avg-f1-score': 0.7328}, 'eval_macro-avg-f1score': 0.7328, 'eval_runtime': 4.1074, 'eval_samples_per_second': 461.606, 'eval_steps_per_second': 28.972, 'epoch': 5.92}\n",
            "{'loss': 0.598, 'learning_rate': 3.162663809364178e-06, 'epoch': 7.4}\n"
          ]
        },
        {
          "data": {
            "application/vnd.jupyter.widget-view+json": {
              "model_id": "1fc86417035f43f4b0099aab68a49915",
              "version_major": 2,
              "version_minor": 0
            },
            "text/plain": [
              "  0%|          | 0/119 [00:00<?, ?it/s]"
            ]
          },
          "metadata": {},
          "output_type": "display_data"
        },
        {
          "name": "stdout",
          "output_type": "stream",
          "text": [
            "{'eval_loss': 0.707581102848053, 'eval_accuracy': 0.7, 'eval_f1-score': {'Openness to change': 0.4749, 'Self-enhancement': 0.6002, 'Conservation': 0.8506, 'Self-transcendence': 0.8848, 'avg-f1-score': 0.7026}, 'eval_macro-avg-f1score': 0.7026, 'eval_runtime': 4.1354, 'eval_samples_per_second': 458.477, 'eval_steps_per_second': 28.776, 'epoch': 7.4}\n",
            "{'loss': 0.5756, 'learning_rate': 6.17282634596148e-07, 'epoch': 8.88}\n"
          ]
        },
        {
          "data": {
            "application/vnd.jupyter.widget-view+json": {
              "model_id": "6fa443d0c35847e6b20ecbd135f12627",
              "version_major": 2,
              "version_minor": 0
            },
            "text/plain": [
              "  0%|          | 0/119 [00:00<?, ?it/s]"
            ]
          },
          "metadata": {},
          "output_type": "display_data"
        },
        {
          "name": "stdout",
          "output_type": "stream",
          "text": [
            "{'eval_loss': 0.6960767507553101, 'eval_accuracy': 0.6838, 'eval_f1-score': {'Openness to change': 0.5359, 'Self-enhancement': 0.6135, 'Conservation': 0.8421, 'Self-transcendence': 0.8846, 'avg-f1-score': 0.719}, 'eval_macro-avg-f1score': 0.719, 'eval_runtime': 4.1291, 'eval_samples_per_second': 459.177, 'eval_steps_per_second': 28.82, 'epoch': 8.88}\n",
            "{'train_runtime': 563.4992, 'train_samples_per_second': 95.706, 'train_steps_per_second': 5.998, 'train_loss': 0.6428890295988003, 'epoch': 10.0}\n"
          ]
        },
        {
          "data": {
            "application/vnd.jupyter.widget-view+json": {
              "model_id": "15182b41e6ca450dbbc43198508ba11d",
              "version_major": 2,
              "version_minor": 0
            },
            "text/plain": [
              "  0%|          | 0/119 [00:00<?, ?it/s]"
            ]
          },
          "metadata": {},
          "output_type": "display_data"
        },
        {
          "name": "stderr",
          "output_type": "stream",
          "text": [
            "c:\\Users\\marco\\anaconda3\\lib\\site-packages\\datasets\\table.py:1395: FutureWarning: promote has been superseded by mode='default'.\n",
            "  block_group = [InMemoryTable(cls._concat_blocks(list(block_group), axis=axis))]\n",
            "c:\\Users\\marco\\anaconda3\\lib\\site-packages\\datasets\\table.py:1421: FutureWarning: promote has been superseded by mode='default'.\n",
            "  table = cls._concat_blocks(blocks, axis=0)\n"
          ]
        },
        {
          "name": "stdout",
          "output_type": "stream",
          "text": [
            "Training MODEL_CPS with seed 42:\n"
          ]
        },
        {
          "data": {
            "application/vnd.jupyter.widget-view+json": {
              "model_id": "31cf33cdac974fc09421bd3f7b0b0aff",
              "version_major": 2,
              "version_minor": 0
            },
            "text/plain": [
              "  0%|          | 0/3380 [00:00<?, ?it/s]"
            ]
          },
          "metadata": {},
          "output_type": "display_data"
        },
        {
          "name": "stdout",
          "output_type": "stream",
          "text": [
            "{'loss': 0.7015, 'learning_rate': 1.8939414235030137e-05, 'epoch': 1.48}\n"
          ]
        },
        {
          "data": {
            "application/vnd.jupyter.widget-view+json": {
              "model_id": "630f649bea14458d9e782fe70507e563",
              "version_major": 2,
              "version_minor": 0
            },
            "text/plain": [
              "  0%|          | 0/119 [00:00<?, ?it/s]"
            ]
          },
          "metadata": {},
          "output_type": "display_data"
        },
        {
          "name": "stderr",
          "output_type": "stream",
          "text": [
            "Checkpoint destination directory ./model_dir/roberta-base/conclusion_premise_stance\\checkpoint-500 already exists and is non-empty.Saving will proceed but saved results may be invalid.\n"
          ]
        },
        {
          "name": "stdout",
          "output_type": "stream",
          "text": [
            "{'eval_loss': 0.6852962970733643, 'eval_accuracy': 0.6779, 'eval_f1-score': {'Openness to change': 0.0, 'Self-enhancement': 0.0, 'Conservation': 0.8585, 'Self-transcendence': 0.8854, 'avg-f1-score': 0.436}, 'eval_macro-avg-f1score': 0.436, 'eval_runtime': 4.1133, 'eval_samples_per_second': 460.947, 'eval_steps_per_second': 28.931, 'epoch': 1.48}\n",
            "{'loss': 0.6968, 'learning_rate': 1.5982625373091877e-05, 'epoch': 2.96}\n"
          ]
        },
        {
          "data": {
            "application/vnd.jupyter.widget-view+json": {
              "model_id": "4e69c395681c459fb38e19e677920288",
              "version_major": 2,
              "version_minor": 0
            },
            "text/plain": [
              "  0%|          | 0/119 [00:00<?, ?it/s]"
            ]
          },
          "metadata": {},
          "output_type": "display_data"
        },
        {
          "name": "stdout",
          "output_type": "stream",
          "text": [
            "{'eval_loss': 0.6880191564559937, 'eval_accuracy': 0.6779, 'eval_f1-score': {'Openness to change': 0.0, 'Self-enhancement': 0.0, 'Conservation': 0.8585, 'Self-transcendence': 0.8854, 'avg-f1-score': 0.436}, 'eval_macro-avg-f1score': 0.436, 'eval_runtime': 4.1516, 'eval_samples_per_second': 456.695, 'eval_steps_per_second': 28.664, 'epoch': 2.96}\n",
            "{'loss': 0.6572, 'learning_rate': 1.1756819049583861e-05, 'epoch': 4.44}\n"
          ]
        },
        {
          "data": {
            "application/vnd.jupyter.widget-view+json": {
              "model_id": "168bc750a2744a6b879b0726162bdaad",
              "version_major": 2,
              "version_minor": 0
            },
            "text/plain": [
              "  0%|          | 0/119 [00:00<?, ?it/s]"
            ]
          },
          "metadata": {},
          "output_type": "display_data"
        },
        {
          "name": "stdout",
          "output_type": "stream",
          "text": [
            "{'eval_loss': 0.6774860620498657, 'eval_accuracy': 0.6648, 'eval_f1-score': {'Openness to change': 0.5812, 'Self-enhancement': 0.4861, 'Conservation': 0.8585, 'Self-transcendence': 0.8764, 'avg-f1-score': 0.7006}, 'eval_macro-avg-f1score': 0.7006, 'eval_runtime': 4.1485, 'eval_samples_per_second': 457.029, 'eval_steps_per_second': 28.685, 'epoch': 4.44}\n",
            "{'loss': 0.6037, 'learning_rate': 7.1583612709525405e-06, 'epoch': 5.92}\n"
          ]
        },
        {
          "data": {
            "application/vnd.jupyter.widget-view+json": {
              "model_id": "04cbd8fee8644faaa7f429b8da165dca",
              "version_major": 2,
              "version_minor": 0
            },
            "text/plain": [
              "  0%|          | 0/119 [00:00<?, ?it/s]"
            ]
          },
          "metadata": {},
          "output_type": "display_data"
        },
        {
          "name": "stdout",
          "output_type": "stream",
          "text": [
            "{'eval_loss': 0.6842606067657471, 'eval_accuracy': 0.7087, 'eval_f1-score': {'Openness to change': 0.5186, 'Self-enhancement': 0.5963, 'Conservation': 0.8577, 'Self-transcendence': 0.8841, 'avg-f1-score': 0.7142}, 'eval_macro-avg-f1score': 0.7142, 'eval_runtime': 4.1719, 'eval_samples_per_second': 454.466, 'eval_steps_per_second': 28.524, 'epoch': 5.92}\n",
            "{'loss': 0.5629, 'learning_rate': 3.162663809364178e-06, 'epoch': 7.4}\n"
          ]
        },
        {
          "data": {
            "application/vnd.jupyter.widget-view+json": {
              "model_id": "db3da0ac72434d1d987827a6b561106e",
              "version_major": 2,
              "version_minor": 0
            },
            "text/plain": [
              "  0%|          | 0/119 [00:00<?, ?it/s]"
            ]
          },
          "metadata": {},
          "output_type": "display_data"
        },
        {
          "name": "stdout",
          "output_type": "stream",
          "text": [
            "{'eval_loss': 0.7003854513168335, 'eval_accuracy': 0.7104, 'eval_f1-score': {'Openness to change': 0.5151, 'Self-enhancement': 0.6264, 'Conservation': 0.8548, 'Self-transcendence': 0.884, 'avg-f1-score': 0.7201}, 'eval_macro-avg-f1score': 0.7201, 'eval_runtime': 4.0945, 'eval_samples_per_second': 463.061, 'eval_steps_per_second': 29.063, 'epoch': 7.4}\n",
            "{'loss': 0.5433, 'learning_rate': 6.17282634596148e-07, 'epoch': 8.88}\n"
          ]
        },
        {
          "data": {
            "application/vnd.jupyter.widget-view+json": {
              "model_id": "02c39065f96846fbbed54e4861e707e4",
              "version_major": 2,
              "version_minor": 0
            },
            "text/plain": [
              "  0%|          | 0/119 [00:00<?, ?it/s]"
            ]
          },
          "metadata": {},
          "output_type": "display_data"
        },
        {
          "name": "stdout",
          "output_type": "stream",
          "text": [
            "{'eval_loss': 0.6933808326721191, 'eval_accuracy': 0.704, 'eval_f1-score': {'Openness to change': 0.5511, 'Self-enhancement': 0.6314, 'Conservation': 0.852, 'Self-transcendence': 0.8836, 'avg-f1-score': 0.7295}, 'eval_macro-avg-f1score': 0.7295, 'eval_runtime': 4.166, 'eval_samples_per_second': 455.113, 'eval_steps_per_second': 28.565, 'epoch': 8.88}\n",
            "{'train_runtime': 564.4005, 'train_samples_per_second': 95.553, 'train_steps_per_second': 5.989, 'train_loss': 0.6176379322300296, 'epoch': 10.0}\n"
          ]
        },
        {
          "data": {
            "application/vnd.jupyter.widget-view+json": {
              "model_id": "690f8202e713484eaeda9b53da4e2370",
              "version_major": 2,
              "version_minor": 0
            },
            "text/plain": [
              "  0%|          | 0/119 [00:00<?, ?it/s]"
            ]
          },
          "metadata": {},
          "output_type": "display_data"
        },
        {
          "name": "stderr",
          "output_type": "stream",
          "text": [
            "c:\\Users\\marco\\anaconda3\\lib\\site-packages\\datasets\\table.py:1395: FutureWarning: promote has been superseded by mode='default'.\n",
            "  block_group = [InMemoryTable(cls._concat_blocks(list(block_group), axis=axis))]\n",
            "c:\\Users\\marco\\anaconda3\\lib\\site-packages\\datasets\\table.py:1421: FutureWarning: promote has been superseded by mode='default'.\n",
            "  table = cls._concat_blocks(blocks, axis=0)\n"
          ]
        },
        {
          "name": "stdout",
          "output_type": "stream",
          "text": [
            "Training MODEL_CPS with seed 55:\n"
          ]
        },
        {
          "data": {
            "application/vnd.jupyter.widget-view+json": {
              "model_id": "8908b0d9d7684b5585504fff9aaef038",
              "version_major": 2,
              "version_minor": 0
            },
            "text/plain": [
              "  0%|          | 0/3380 [00:00<?, ?it/s]"
            ]
          },
          "metadata": {},
          "output_type": "display_data"
        },
        {
          "name": "stdout",
          "output_type": "stream",
          "text": [
            "{'loss': 0.7007, 'learning_rate': 1.8939414235030137e-05, 'epoch': 1.48}\n"
          ]
        },
        {
          "data": {
            "application/vnd.jupyter.widget-view+json": {
              "model_id": "e2781d1f6cda4ae79964d7a365b94227",
              "version_major": 2,
              "version_minor": 0
            },
            "text/plain": [
              "  0%|          | 0/119 [00:00<?, ?it/s]"
            ]
          },
          "metadata": {},
          "output_type": "display_data"
        },
        {
          "name": "stdout",
          "output_type": "stream",
          "text": [
            "{'eval_loss': 0.6850610375404358, 'eval_accuracy': 0.6822, 'eval_f1-score': {'Openness to change': 0.5642, 'Self-enhancement': 0.5051, 'Conservation': 0.8585, 'Self-transcendence': 0.8854, 'avg-f1-score': 0.7033}, 'eval_macro-avg-f1score': 0.7033, 'eval_runtime': 4.1475, 'eval_samples_per_second': 457.139, 'eval_steps_per_second': 28.692, 'epoch': 1.48}\n",
            "{'loss': 0.6973, 'learning_rate': 1.5982625373091877e-05, 'epoch': 2.96}\n"
          ]
        },
        {
          "data": {
            "application/vnd.jupyter.widget-view+json": {
              "model_id": "fff154364ec2435d9e008ee4209c3746",
              "version_major": 2,
              "version_minor": 0
            },
            "text/plain": [
              "  0%|          | 0/119 [00:00<?, ?it/s]"
            ]
          },
          "metadata": {},
          "output_type": "display_data"
        },
        {
          "name": "stdout",
          "output_type": "stream",
          "text": [
            "{'eval_loss': 0.6912229061126709, 'eval_accuracy': 0.6779, 'eval_f1-score': {'Openness to change': 0.0, 'Self-enhancement': 0.0, 'Conservation': 0.8585, 'Self-transcendence': 0.8854, 'avg-f1-score': 0.436}, 'eval_macro-avg-f1score': 0.436, 'eval_runtime': 4.1774, 'eval_samples_per_second': 453.87, 'eval_steps_per_second': 28.487, 'epoch': 2.96}\n",
            "{'loss': 0.6583, 'learning_rate': 1.1756819049583861e-05, 'epoch': 4.44}\n"
          ]
        },
        {
          "data": {
            "application/vnd.jupyter.widget-view+json": {
              "model_id": "0f001641bb8141bd823cc5c538a32158",
              "version_major": 2,
              "version_minor": 0
            },
            "text/plain": [
              "  0%|          | 0/119 [00:00<?, ?it/s]"
            ]
          },
          "metadata": {},
          "output_type": "display_data"
        },
        {
          "name": "stdout",
          "output_type": "stream",
          "text": [
            "{'eval_loss': 0.7049924731254578, 'eval_accuracy': 0.6987, 'eval_f1-score': {'Openness to change': 0.4532, 'Self-enhancement': 0.426, 'Conservation': 0.8585, 'Self-transcendence': 0.8843, 'avg-f1-score': 0.6555}, 'eval_macro-avg-f1score': 0.6555, 'eval_runtime': 4.1207, 'eval_samples_per_second': 460.115, 'eval_steps_per_second': 28.879, 'epoch': 4.44}\n",
            "{'loss': 0.61, 'learning_rate': 7.1583612709525405e-06, 'epoch': 5.92}\n"
          ]
        },
        {
          "data": {
            "application/vnd.jupyter.widget-view+json": {
              "model_id": "e246dc7e3ff74502b1bcf8d399806920",
              "version_major": 2,
              "version_minor": 0
            },
            "text/plain": [
              "  0%|          | 0/119 [00:00<?, ?it/s]"
            ]
          },
          "metadata": {},
          "output_type": "display_data"
        },
        {
          "name": "stdout",
          "output_type": "stream",
          "text": [
            "{'eval_loss': 0.6780799627304077, 'eval_accuracy': 0.6863, 'eval_f1-score': {'Openness to change': 0.5785, 'Self-enhancement': 0.6227, 'Conservation': 0.8562, 'Self-transcendence': 0.8831, 'avg-f1-score': 0.7351}, 'eval_macro-avg-f1score': 0.7351, 'eval_runtime': 4.1368, 'eval_samples_per_second': 458.322, 'eval_steps_per_second': 28.766, 'epoch': 5.92}\n",
            "{'loss': 0.5685, 'learning_rate': 3.162663809364178e-06, 'epoch': 7.4}\n"
          ]
        },
        {
          "data": {
            "application/vnd.jupyter.widget-view+json": {
              "model_id": "b67f863756a347a09bed7bf9cecc2e04",
              "version_major": 2,
              "version_minor": 0
            },
            "text/plain": [
              "  0%|          | 0/119 [00:00<?, ?it/s]"
            ]
          },
          "metadata": {},
          "output_type": "display_data"
        },
        {
          "name": "stdout",
          "output_type": "stream",
          "text": [
            "{'eval_loss': 0.6933014392852783, 'eval_accuracy': 0.705, 'eval_f1-score': {'Openness to change': 0.5525, 'Self-enhancement': 0.6119, 'Conservation': 0.849, 'Self-transcendence': 0.8845, 'avg-f1-score': 0.7245}, 'eval_macro-avg-f1score': 0.7245, 'eval_runtime': 4.1755, 'eval_samples_per_second': 454.076, 'eval_steps_per_second': 28.499, 'epoch': 7.4}\n",
            "{'loss': 0.5507, 'learning_rate': 6.17282634596148e-07, 'epoch': 8.88}\n"
          ]
        },
        {
          "data": {
            "application/vnd.jupyter.widget-view+json": {
              "model_id": "4f27b04d3bc942bea8263c30525a5b23",
              "version_major": 2,
              "version_minor": 0
            },
            "text/plain": [
              "  0%|          | 0/119 [00:00<?, ?it/s]"
            ]
          },
          "metadata": {},
          "output_type": "display_data"
        },
        {
          "name": "stdout",
          "output_type": "stream",
          "text": [
            "{'eval_loss': 0.6951791644096375, 'eval_accuracy': 0.7008, 'eval_f1-score': {'Openness to change': 0.5561, 'Self-enhancement': 0.6304, 'Conservation': 0.8439, 'Self-transcendence': 0.8838, 'avg-f1-score': 0.7286}, 'eval_macro-avg-f1score': 0.7286, 'eval_runtime': 4.1729, 'eval_samples_per_second': 454.361, 'eval_steps_per_second': 28.517, 'epoch': 8.88}\n",
            "{'train_runtime': 563.9094, 'train_samples_per_second': 95.636, 'train_steps_per_second': 5.994, 'train_loss': 0.6212737269655487, 'epoch': 10.0}\n"
          ]
        },
        {
          "data": {
            "application/vnd.jupyter.widget-view+json": {
              "model_id": "4017dddc75414f70a79d3fd6a155fd90",
              "version_major": 2,
              "version_minor": 0
            },
            "text/plain": [
              "  0%|          | 0/119 [00:00<?, ?it/s]"
            ]
          },
          "metadata": {},
          "output_type": "display_data"
        },
        {
          "name": "stderr",
          "output_type": "stream",
          "text": [
            "c:\\Users\\marco\\anaconda3\\lib\\site-packages\\datasets\\table.py:1395: FutureWarning: promote has been superseded by mode='default'.\n",
            "  block_group = [InMemoryTable(cls._concat_blocks(list(block_group), axis=axis))]\n",
            "c:\\Users\\marco\\anaconda3\\lib\\site-packages\\datasets\\table.py:1421: FutureWarning: promote has been superseded by mode='default'.\n",
            "  table = cls._concat_blocks(blocks, axis=0)\n"
          ]
        },
        {
          "name": "stdout",
          "output_type": "stream",
          "text": [
            "Training MODEL_CPS with seed 666:\n"
          ]
        },
        {
          "data": {
            "application/vnd.jupyter.widget-view+json": {
              "model_id": "b846c1756ce447d19540a501423367ae",
              "version_major": 2,
              "version_minor": 0
            },
            "text/plain": [
              "  0%|          | 0/3380 [00:00<?, ?it/s]"
            ]
          },
          "metadata": {},
          "output_type": "display_data"
        },
        {
          "name": "stdout",
          "output_type": "stream",
          "text": [
            "{'loss': 0.7022, 'learning_rate': 1.8939414235030137e-05, 'epoch': 1.48}\n"
          ]
        },
        {
          "data": {
            "application/vnd.jupyter.widget-view+json": {
              "model_id": "f48a8f3882b6467ca4ec0fe64bf7e3b5",
              "version_major": 2,
              "version_minor": 0
            },
            "text/plain": [
              "  0%|          | 0/119 [00:00<?, ?it/s]"
            ]
          },
          "metadata": {},
          "output_type": "display_data"
        },
        {
          "name": "stdout",
          "output_type": "stream",
          "text": [
            "{'eval_loss': 0.6852848529815674, 'eval_accuracy': 0.6744, 'eval_f1-score': {'Openness to change': 0.0269, 'Self-enhancement': 0.0, 'Conservation': 0.8585, 'Self-transcendence': 0.8854, 'avg-f1-score': 0.4427}, 'eval_macro-avg-f1score': 0.4427, 'eval_runtime': 4.1465, 'eval_samples_per_second': 457.25, 'eval_steps_per_second': 28.699, 'epoch': 1.48}\n",
            "{'loss': 0.6883, 'learning_rate': 1.5982625373091877e-05, 'epoch': 2.96}\n"
          ]
        },
        {
          "data": {
            "application/vnd.jupyter.widget-view+json": {
              "model_id": "c1c4715bfdfc4e8eb6db967539a0efe4",
              "version_major": 2,
              "version_minor": 0
            },
            "text/plain": [
              "  0%|          | 0/119 [00:00<?, ?it/s]"
            ]
          },
          "metadata": {},
          "output_type": "display_data"
        },
        {
          "name": "stdout",
          "output_type": "stream",
          "text": [
            "{'eval_loss': 0.6871861815452576, 'eval_accuracy': 0.6868, 'eval_f1-score': {'Openness to change': 0.4709, 'Self-enhancement': 0.3744, 'Conservation': 0.8585, 'Self-transcendence': 0.8854, 'avg-f1-score': 0.6473}, 'eval_macro-avg-f1score': 0.6473, 'eval_runtime': 4.1685, 'eval_samples_per_second': 454.836, 'eval_steps_per_second': 28.547, 'epoch': 2.96}\n",
            "{'loss': 0.6289, 'learning_rate': 1.1756819049583861e-05, 'epoch': 4.44}\n"
          ]
        },
        {
          "data": {
            "application/vnd.jupyter.widget-view+json": {
              "model_id": "0697516569e34adc981eb33f33c7af8e",
              "version_major": 2,
              "version_minor": 0
            },
            "text/plain": [
              "  0%|          | 0/119 [00:00<?, ?it/s]"
            ]
          },
          "metadata": {},
          "output_type": "display_data"
        },
        {
          "name": "stdout",
          "output_type": "stream",
          "text": [
            "{'eval_loss': 0.6780941486358643, 'eval_accuracy': 0.6592, 'eval_f1-score': {'Openness to change': 0.5731, 'Self-enhancement': 0.5766, 'Conservation': 0.8605, 'Self-transcendence': 0.8778, 'avg-f1-score': 0.722}, 'eval_macro-avg-f1score': 0.722, 'eval_runtime': 4.163, 'eval_samples_per_second': 455.438, 'eval_steps_per_second': 28.585, 'epoch': 4.44}\n",
            "{'loss': 0.5852, 'learning_rate': 7.1583612709525405e-06, 'epoch': 5.92}\n"
          ]
        },
        {
          "data": {
            "application/vnd.jupyter.widget-view+json": {
              "model_id": "36cc7d1150b743239febad91c11bfae9",
              "version_major": 2,
              "version_minor": 0
            },
            "text/plain": [
              "  0%|          | 0/119 [00:00<?, ?it/s]"
            ]
          },
          "metadata": {},
          "output_type": "display_data"
        },
        {
          "name": "stdout",
          "output_type": "stream",
          "text": [
            "{'eval_loss': 0.709420382976532, 'eval_accuracy': 0.6946, 'eval_f1-score': {'Openness to change': 0.5621, 'Self-enhancement': 0.6298, 'Conservation': 0.8549, 'Self-transcendence': 0.8846, 'avg-f1-score': 0.7328}, 'eval_macro-avg-f1score': 0.7328, 'eval_runtime': 4.1669, 'eval_samples_per_second': 455.012, 'eval_steps_per_second': 28.558, 'epoch': 5.92}\n",
            "{'loss': 0.5532, 'learning_rate': 3.162663809364178e-06, 'epoch': 7.4}\n"
          ]
        },
        {
          "data": {
            "application/vnd.jupyter.widget-view+json": {
              "model_id": "ba153e93ee4a4b8aa0b70c71f8938d89",
              "version_major": 2,
              "version_minor": 0
            },
            "text/plain": [
              "  0%|          | 0/119 [00:00<?, ?it/s]"
            ]
          },
          "metadata": {},
          "output_type": "display_data"
        },
        {
          "name": "stdout",
          "output_type": "stream",
          "text": [
            "{'eval_loss': 0.7047178745269775, 'eval_accuracy': 0.6933, 'eval_f1-score': {'Openness to change': 0.5597, 'Self-enhancement': 0.6283, 'Conservation': 0.8514, 'Self-transcendence': 0.8824, 'avg-f1-score': 0.7304}, 'eval_macro-avg-f1score': 0.7304, 'eval_runtime': 4.1514, 'eval_samples_per_second': 456.715, 'eval_steps_per_second': 28.665, 'epoch': 7.4}\n",
            "{'loss': 0.5331, 'learning_rate': 6.17282634596148e-07, 'epoch': 8.88}\n"
          ]
        },
        {
          "data": {
            "application/vnd.jupyter.widget-view+json": {
              "model_id": "0664286936cd455385083634d4296371",
              "version_major": 2,
              "version_minor": 0
            },
            "text/plain": [
              "  0%|          | 0/119 [00:00<?, ?it/s]"
            ]
          },
          "metadata": {},
          "output_type": "display_data"
        },
        {
          "name": "stdout",
          "output_type": "stream",
          "text": [
            "{'eval_loss': 0.728115975856781, 'eval_accuracy': 0.6899, 'eval_f1-score': {'Openness to change': 0.5509, 'Self-enhancement': 0.6318, 'Conservation': 0.8446, 'Self-transcendence': 0.8826, 'avg-f1-score': 0.7275}, 'eval_macro-avg-f1score': 0.7275, 'eval_runtime': 4.1508, 'eval_samples_per_second': 456.774, 'eval_steps_per_second': 28.669, 'epoch': 8.88}\n",
            "{'train_runtime': 565.1669, 'train_samples_per_second': 95.423, 'train_steps_per_second': 5.981, 'train_loss': 0.6056918353018677, 'epoch': 10.0}\n"
          ]
        },
        {
          "data": {
            "application/vnd.jupyter.widget-view+json": {
              "model_id": "388c22d1b9c449a98d9dbc7f8ab4cfdb",
              "version_major": 2,
              "version_minor": 0
            },
            "text/plain": [
              "  0%|          | 0/119 [00:00<?, ?it/s]"
            ]
          },
          "metadata": {},
          "output_type": "display_data"
        }
      ],
      "source": [
        "best_trainer_C, best_trainer_CP, best_trainer_CPS, seed_table = train_models(model_card, epochs=10)"
      ]
    },
    {
      "cell_type": "code",
      "execution_count": 42,
      "metadata": {},
      "outputs": [
        {
          "data": {
            "text/plain": [
              "{'majority': {42: {'accuracy': 0.6736,\n",
              "   'f1-score': {'Openness to change': 0.0,\n",
              "    'Self-enhancement': 0.0,\n",
              "    'Conservation': 0.8646,\n",
              "    'Self-transcendence': 0.8644,\n",
              "    'avg-f1-score': 0.4322},\n",
              "   'macro-avg-f1score': 0.4322},\n",
              "  55: {'accuracy': 0.6736,\n",
              "   'f1-score': {'Openness to change': 0.0,\n",
              "    'Self-enhancement': 0.0,\n",
              "    'Conservation': 0.8646,\n",
              "    'Self-transcendence': 0.8644,\n",
              "    'avg-f1-score': 0.4322},\n",
              "   'macro-avg-f1score': 0.4322},\n",
              "  666: {'accuracy': 0.6736,\n",
              "   'f1-score': {'Openness to change': 0.0,\n",
              "    'Self-enhancement': 0.0,\n",
              "    'Conservation': 0.8646,\n",
              "    'Self-transcendence': 0.8644,\n",
              "    'avg-f1-score': 0.4322},\n",
              "   'macro-avg-f1score': 0.4322}},\n",
              " 'uniform': {42: {'accuracy': 0.5034,\n",
              "   'f1-score': {'Openness to change': 0.4163,\n",
              "    'Self-enhancement': 0.4933,\n",
              "    'Conservation': 0.5839,\n",
              "    'Self-transcendence': 0.6131,\n",
              "    'avg-f1-score': 0.5267},\n",
              "   'macro-avg-f1score': 0.5267},\n",
              "  55: {'accuracy': 0.503,\n",
              "   'f1-score': {'Openness to change': 0.4153,\n",
              "    'Self-enhancement': 0.48,\n",
              "    'Conservation': 0.614,\n",
              "    'Self-transcendence': 0.5973,\n",
              "    'avg-f1-score': 0.5267},\n",
              "   'macro-avg-f1score': 0.5267},\n",
              "  666: {'accuracy': 0.5019,\n",
              "   'f1-score': {'Openness to change': 0.4232,\n",
              "    'Self-enhancement': 0.4773,\n",
              "    'Conservation': 0.606,\n",
              "    'Self-transcendence': 0.5957,\n",
              "    'avg-f1-score': 0.5256},\n",
              "   'macro-avg-f1score': 0.5256}},\n",
              " 'model_C': {42: [{'accuracy': 0.6235,\n",
              "    'f1-score': {'Openness to change': 0.4361,\n",
              "     'Self-enhancement': 0.5972,\n",
              "     'Conservation': 0.8585,\n",
              "     'Self-transcendence': 0.8854,\n",
              "     'avg-f1-score': 0.6943},\n",
              "    'macro-avg-f1score': 0.6943}],\n",
              "  55: [{'accuracy': 0.6005,\n",
              "    'f1-score': {'Openness to change': 0.5086,\n",
              "     'Self-enhancement': 0.6371,\n",
              "     'Conservation': 0.8585,\n",
              "     'Self-transcendence': 0.8854,\n",
              "     'avg-f1-score': 0.7224},\n",
              "    'macro-avg-f1score': 0.7224}],\n",
              "  666: [{'accuracy': 0.6143,\n",
              "    'f1-score': {'Openness to change': 0.5441,\n",
              "     'Self-enhancement': 0.5733,\n",
              "     'Conservation': 0.8585,\n",
              "     'Self-transcendence': 0.8854,\n",
              "     'avg-f1-score': 0.7153},\n",
              "    'macro-avg-f1score': 0.7153}]},\n",
              " 'model_CP': {42: [{'accuracy': 0.67,\n",
              "    'f1-score': {'Openness to change': 0.5451,\n",
              "     'Self-enhancement': 0.6285,\n",
              "     'Conservation': 0.8588,\n",
              "     'Self-transcendence': 0.8854,\n",
              "     'avg-f1-score': 0.7294},\n",
              "    'macro-avg-f1score': 0.7294}],\n",
              "  55: [{'accuracy': 0.5953,\n",
              "    'f1-score': {'Openness to change': 0.5382,\n",
              "     'Self-enhancement': 0.6365,\n",
              "     'Conservation': 0.8585,\n",
              "     'Self-transcendence': 0.8854,\n",
              "     'avg-f1-score': 0.7296},\n",
              "    'macro-avg-f1score': 0.7296}],\n",
              "  666: [{'accuracy': 0.6648,\n",
              "    'f1-score': {'Openness to change': 0.5554,\n",
              "     'Self-enhancement': 0.6318,\n",
              "     'Conservation': 0.8589,\n",
              "     'Self-transcendence': 0.8852,\n",
              "     'avg-f1-score': 0.7328},\n",
              "    'macro-avg-f1score': 0.7328}]},\n",
              " 'model_CPS': {42: [{'accuracy': 0.704,\n",
              "    'f1-score': {'Openness to change': 0.5511,\n",
              "     'Self-enhancement': 0.6314,\n",
              "     'Conservation': 0.852,\n",
              "     'Self-transcendence': 0.8836,\n",
              "     'avg-f1-score': 0.7295},\n",
              "    'macro-avg-f1score': 0.7295}],\n",
              "  55: [{'accuracy': 0.6863,\n",
              "    'f1-score': {'Openness to change': 0.5785,\n",
              "     'Self-enhancement': 0.6227,\n",
              "     'Conservation': 0.8562,\n",
              "     'Self-transcendence': 0.8831,\n",
              "     'avg-f1-score': 0.7351},\n",
              "    'macro-avg-f1score': 0.7351}],\n",
              "  666: [{'accuracy': 0.6946,\n",
              "    'f1-score': {'Openness to change': 0.5621,\n",
              "     'Self-enhancement': 0.6298,\n",
              "     'Conservation': 0.8549,\n",
              "     'Self-transcendence': 0.8846,\n",
              "     'avg-f1-score': 0.7328},\n",
              "    'macro-avg-f1score': 0.7328}]}}"
            ]
          },
          "execution_count": 42,
          "metadata": {},
          "output_type": "execute_result"
        }
      ],
      "source": [
        "seed_table"
      ]
    },
    {
      "cell_type": "code",
      "execution_count": 115,
      "metadata": {
        "id": "9Rq66wZC5f1H"
      },
      "outputs": [
        {
          "name": "stderr",
          "output_type": "stream",
          "text": [
            "c:\\Users\\marco\\anaconda3\\lib\\site-packages\\datasets\\table.py:1395: FutureWarning: promote has been superseded by mode='default'.\n",
            "  block_group = [InMemoryTable(cls._concat_blocks(list(block_group), axis=axis))]\n",
            "c:\\Users\\marco\\anaconda3\\lib\\site-packages\\datasets\\table.py:1421: FutureWarning: promote has been superseded by mode='default'.\n",
            "  table = cls._concat_blocks(blocks, axis=0)\n"
          ]
        }
      ],
      "source": [
        "# load models\n",
        "# load_path = \"/content/drive/MyDrive/NLP_assignments/assignment2/model_dir/\"+model_card+\"/\"\n",
        "load_path = model_dir\n",
        "model_C = AutoModelForSequenceClassification.from_pretrained(load_path+\"conclusion\", problem_type=\"multi_label_classification\", num_labels=4, id2label=id2label, label2id=label2id)\n",
        "model_CP = AutoModelForSequenceClassification.from_pretrained(load_path+\"conclusion_premise\", problem_type=\"multi_label_classification\", num_labels=4, id2label=id2label, label2id=label2id)\n",
        "\n",
        "pos_weight = init_pos_weight(concatenate_datasets([train_data, val_data, test_data]), label2id.keys(), True)\n",
        "model_CPS = BERT_CPS(model_card, id2label, label2id, model_dir+\"conclusion_premise_stance\", pos_weight)"
      ]
    },
    {
      "cell_type": "code",
      "execution_count": 142,
      "metadata": {},
      "outputs": [],
      "source": [
        "trainer_C = get_trainer(model_C, train_data_C, val_data_C, model_dir+\"conclusion\", class_weights=True, batch_size=16, epochs=10)\n",
        "trainer_CP = get_trainer(model_CP, train_data_CP, val_data_CP, model_dir+\"conclusion_premise\", class_weights=True, batch_size=16, epochs=10)\n",
        "trainer_CPS = get_trainer(model_CPS, train_data_CPS, val_data_CPS, model_dir+\"conclusion_premise_stance\", class_weights=True, batch_size=16, epochs=10)"
      ]
    },
    {
      "cell_type": "markdown",
      "metadata": {},
      "source": [
        "Run model on test set"
      ]
    },
    {
      "cell_type": "code",
      "execution_count": 121,
      "metadata": {},
      "outputs": [
        {
          "data": {
            "application/vnd.jupyter.widget-view+json": {
              "model_id": "de21290898e5437b8d2da096cd5e6306",
              "version_major": 2,
              "version_minor": 0
            },
            "text/plain": [
              "  0%|          | 0/99 [00:00<?, ?it/s]"
            ]
          },
          "metadata": {},
          "output_type": "display_data"
        },
        {
          "data": {
            "text/plain": [
              "[{'accuracy': 0.5984,\n",
              "  'f1-score': {'Openness to change': 0.4614,\n",
              "   'Self-enhancement': 0.5896,\n",
              "   'Conservation': 0.8304,\n",
              "   'Self-transcendence': 0.8917,\n",
              "   'avg-f1-score': 0.6933},\n",
              "  'macro-avg-f1score': 0.6933}]"
            ]
          },
          "execution_count": 121,
          "metadata": {},
          "output_type": "execute_result"
        }
      ],
      "source": [
        "test_C = test_all([trainer_C], [test_data_C], [\"Model_C\"])\n",
        "test_C"
      ]
    },
    {
      "cell_type": "code",
      "execution_count": 122,
      "metadata": {},
      "outputs": [
        {
          "data": {
            "application/vnd.jupyter.widget-view+json": {
              "model_id": "a335ed785706427aa954a875b1f7d856",
              "version_major": 2,
              "version_minor": 0
            },
            "text/plain": [
              "  0%|          | 0/99 [00:00<?, ?it/s]"
            ]
          },
          "metadata": {},
          "output_type": "display_data"
        },
        {
          "data": {
            "text/plain": [
              "[{'accuracy': 0.6497,\n",
              "  'f1-score': {'Openness to change': 0.4943,\n",
              "   'Self-enhancement': 0.5597,\n",
              "   'Conservation': 0.8295,\n",
              "   'Self-transcendence': 0.8899,\n",
              "   'avg-f1-score': 0.6934},\n",
              "  'macro-avg-f1score': 0.6934}]"
            ]
          },
          "execution_count": 122,
          "metadata": {},
          "output_type": "execute_result"
        }
      ],
      "source": [
        "test_CP = test_all([trainer_CP], [test_data_CP], [\"Model_CP\"])\n",
        "test_CP"
      ]
    },
    {
      "cell_type": "code",
      "execution_count": 156,
      "metadata": {},
      "outputs": [
        {
          "data": {
            "application/vnd.jupyter.widget-view+json": {
              "model_id": "d638acce285a47bb908cd43109e84117",
              "version_major": 2,
              "version_minor": 0
            },
            "text/plain": [
              "  0%|          | 0/99 [00:00<?, ?it/s]"
            ]
          },
          "metadata": {},
          "output_type": "display_data"
        },
        {
          "data": {
            "text/plain": [
              "[{'accuracy': 0.6705,\n",
              "  'f1-score': {'Openness to change': 0.5015,\n",
              "   'Self-enhancement': 0.5787,\n",
              "   'Conservation': 0.8299,\n",
              "   'Self-transcendence': 0.8903,\n",
              "   'avg-f1-score': 0.7001},\n",
              "  'macro-avg-f1score': 0.7001}]"
            ]
          },
          "execution_count": 156,
          "metadata": {},
          "output_type": "execute_result"
        }
      ],
      "source": [
        "test_CPS = test_all([trainer_CPS], [test_data_CPS], [\"Model_CPS\"])\n",
        "test_CPS"
      ]
    },
    {
      "cell_type": "code",
      "execution_count": 188,
      "metadata": {
        "id": "ldQQ7h39Fqcu"
      },
      "outputs": [
        {
          "data": {
            "application/vnd.jupyter.widget-view+json": {
              "model_id": "738ef86ef8c64863874f2215813e3e62",
              "version_major": 2,
              "version_minor": 0
            },
            "text/plain": [
              "  0%|          | 0/99 [00:00<?, ?it/s]"
            ]
          },
          "metadata": {},
          "output_type": "display_data"
        },
        {
          "name": "stdout",
          "output_type": "stream",
          "text": [
            "Label number 2298\n",
            "<s>Instead of stopping the evaporation of tax revenues, the governments of the EU decided to implement harsh austerity measures targeting health systems, education, the police, the defense, and scientific research.  This built up into systemic weaknesses that were only partly revealed during the Covid pandemic.  These poor political choices also led to social unrest and the endangerment of the EU through a loss of faith in the European project.</s></s>We should enforce a minimal corporate tax within the entire European Union</s>\n",
            "Correct label: {'Openness to change': False, 'Self-enhancement': True, 'Conservation': True, 'Self-transcendence': True}\n",
            "Predicted label: {'Openness to change': True, 'Self-enhancement': True, 'Conservation': True, 'Self-transcendence': True}\n",
            "\n",
            "Label number 814\n",
            "<s>the problem with naturopathy is people don't get the medicine they need for some illnesses</s></s>We should ban naturopathy</s>\n",
            "Correct label: {'Openness to change': False, 'Self-enhancement': True, 'Conservation': True, 'Self-transcendence': True}\n",
            "Predicted label: {'Openness to change': True, 'Self-enhancement': True, 'Conservation': True, 'Self-transcendence': True}\n",
            "\n",
            "Label number 2232\n",
            "<s>Agree. Whoever is rejected won't be in the country and eat up resources that could be used to process others.</s></s>We should have migrant camps in the countries that migrants come from</s>\n",
            "Correct label: {'Openness to change': False, 'Self-enhancement': True, 'Conservation': True, 'Self-transcendence': True}\n",
            "Predicted label: {'Openness to change': True, 'Self-enhancement': True, 'Conservation': True, 'Self-transcendence': True}\n",
            "\n"
          ]
        }
      ],
      "source": [
        "out = get_wrongly_classified(trainer_CPS, test_data_CPS)\n",
        "# pick random wrongly classified samples\n",
        "for i in random.sample(range(0, len(out)), 3):\n",
        "    print(f\"Label number {i}\")\n",
        "    print(out[i][\"decoded\"])\n",
        "    print(f\"Correct label: {out[i]['correct']}\")\n",
        "    print(f\"Predicted label: {out[i]['predicted']}\\n\")\n"
      ]
    },
    {
      "cell_type": "code",
      "execution_count": 171,
      "metadata": {},
      "outputs": [
        {
          "data": {
            "application/vnd.jupyter.widget-view+json": {
              "model_id": "7b28de2fcb1c44ae94bc1b991e7a5104",
              "version_major": 2,
              "version_minor": 0
            },
            "text/plain": [
              "  0%|          | 0/119 [00:00<?, ?it/s]"
            ]
          },
          "metadata": {},
          "output_type": "display_data"
        },
        {
          "data": {
            "text/plain": [
              "[array([[0.06751055, 0.56434599],\n",
              "        [0.05010549, 0.31803797]]),\n",
              " array([[0.00474684, 0.52848101],\n",
              "        [0.00158228, 0.46518987]]),\n",
              " array([[0.       , 0.2478903],\n",
              "        [0.       , 0.7521097]]),\n",
              " array([[0.       , 0.2056962],\n",
              "        [0.       , 0.7943038]])]"
            ]
          },
          "execution_count": 171,
          "metadata": {},
          "output_type": "execute_result"
        }
      ],
      "source": [
        "build_confusion_matrix(trainer_C, val_data_C)"
      ]
    },
    {
      "cell_type": "code",
      "execution_count": 168,
      "metadata": {},
      "outputs": [
        {
          "data": {
            "application/vnd.jupyter.widget-view+json": {
              "model_id": "41de3d344e5b4f95a0c6cef22ecdf33d",
              "version_major": 2,
              "version_minor": 0
            },
            "text/plain": [
              "  0%|          | 0/119 [00:00<?, ?it/s]"
            ]
          },
          "metadata": {},
          "output_type": "display_data"
        },
        {
          "data": {
            "text/plain": [
              "[array([[0.32225738, 0.30959916],\n",
              "        [0.10759494, 0.26054852]]),\n",
              " array([[0.1228903 , 0.41033755],\n",
              "        [0.06170886, 0.40506329]]),\n",
              " array([[0.00632911, 0.24156118],\n",
              "        [0.00421941, 0.7478903 ]]),\n",
              " array([[0.00105485, 0.20464135],\n",
              "        [0.00105485, 0.79324895]])]"
            ]
          },
          "execution_count": 168,
          "metadata": {},
          "output_type": "execute_result"
        }
      ],
      "source": [
        "build_confusion_matrix(trainer_CP, val_data_CP)"
      ]
    },
    {
      "cell_type": "code",
      "execution_count": 172,
      "metadata": {},
      "outputs": [
        {
          "data": {
            "application/vnd.jupyter.widget-view+json": {
              "model_id": "b0ce873387b546cd9fa69037033bd099",
              "version_major": 2,
              "version_minor": 0
            },
            "text/plain": [
              "  0%|          | 0/119 [00:00<?, ?it/s]"
            ]
          },
          "metadata": {},
          "output_type": "display_data"
        },
        {
          "data": {
            "text/plain": [
              "array([[[ 660,  538],\n",
              "        [ 195,  503]],\n",
              "\n",
              "       [[ 476,  535],\n",
              "        [ 243,  642]],\n",
              "\n",
              "       [[  19,  451],\n",
              "        [  21, 1405]],\n",
              "\n",
              "       [[   4,  386],\n",
              "        [  10, 1496]]], dtype=int64)"
            ]
          },
          "execution_count": 172,
          "metadata": {},
          "output_type": "execute_result"
        }
      ],
      "source": [
        "build_confusion_matrix(trainer_CPS, val_data_CPS, False)"
      ]
    }
  ],
  "metadata": {
    "accelerator": "GPU",
    "colab": {
      "provenance": []
    },
    "kernelspec": {
      "display_name": "Python 3",
      "name": "python3"
    },
    "language_info": {
      "codemirror_mode": {
        "name": "ipython",
        "version": 3
      },
      "file_extension": ".py",
      "mimetype": "text/x-python",
      "name": "python",
      "nbconvert_exporter": "python",
      "pygments_lexer": "ipython3",
      "version": "3.9.12"
    },
    "widgets": {
      "application/vnd.jupyter.widget-state+json": {
        "00222ae7e5c04df6a2df3d5d2f78fa51": {
          "model_module": "@jupyter-widgets/controls",
          "model_module_version": "1.5.0",
          "model_name": "FloatProgressModel",
          "state": {
            "_dom_classes": [],
            "_model_module": "@jupyter-widgets/controls",
            "_model_module_version": "1.5.0",
            "_model_name": "FloatProgressModel",
            "_view_count": null,
            "_view_module": "@jupyter-widgets/controls",
            "_view_module_version": "1.5.0",
            "_view_name": "ProgressView",
            "bar_style": "success",
            "description": "",
            "description_tooltip": null,
            "layout": "IPY_MODEL_a7628740d73f4814810209346ecd6153",
            "max": 1896,
            "min": 0,
            "orientation": "horizontal",
            "style": "IPY_MODEL_38ab926b5be04ed19fed2e46f655b6b1",
            "value": 1896
          }
        },
        "030a9ada483e4cd59a622ac6180a0664": {
          "model_module": "@jupyter-widgets/controls",
          "model_module_version": "1.5.0",
          "model_name": "HTMLModel",
          "state": {
            "_dom_classes": [],
            "_model_module": "@jupyter-widgets/controls",
            "_model_module_version": "1.5.0",
            "_model_name": "HTMLModel",
            "_view_count": null,
            "_view_module": "@jupyter-widgets/controls",
            "_view_module_version": "1.5.0",
            "_view_name": "HTMLView",
            "description": "",
            "description_tooltip": null,
            "layout": "IPY_MODEL_5224de7875d74c3d8081934ca5f84adc",
            "placeholder": "​",
            "style": "IPY_MODEL_fd76cd30cf3340678a6a23fc464d4270",
            "value": " 5393/5393 [00:01&lt;00:00, 2883.08 examples/s]"
          }
        },
        "03464fae02114b3cb2e4d2e277eff367": {
          "model_module": "@jupyter-widgets/controls",
          "model_module_version": "1.5.0",
          "model_name": "ProgressStyleModel",
          "state": {
            "_model_module": "@jupyter-widgets/controls",
            "_model_module_version": "1.5.0",
            "_model_name": "ProgressStyleModel",
            "_view_count": null,
            "_view_module": "@jupyter-widgets/base",
            "_view_module_version": "1.2.0",
            "_view_name": "StyleView",
            "bar_color": null,
            "description_width": ""
          }
        },
        "037002599350494fa8dbc6e07d7cf82a": {
          "model_module": "@jupyter-widgets/controls",
          "model_module_version": "1.5.0",
          "model_name": "DescriptionStyleModel",
          "state": {
            "_model_module": "@jupyter-widgets/controls",
            "_model_module_version": "1.5.0",
            "_model_name": "DescriptionStyleModel",
            "_view_count": null,
            "_view_module": "@jupyter-widgets/base",
            "_view_module_version": "1.2.0",
            "_view_name": "StyleView",
            "description_width": ""
          }
        },
        "05914ba8f2de47fda3baf737d5b0f7f7": {
          "model_module": "@jupyter-widgets/controls",
          "model_module_version": "1.5.0",
          "model_name": "HTMLModel",
          "state": {
            "_dom_classes": [],
            "_model_module": "@jupyter-widgets/controls",
            "_model_module_version": "1.5.0",
            "_model_name": "HTMLModel",
            "_view_count": null,
            "_view_module": "@jupyter-widgets/controls",
            "_view_module_version": "1.5.0",
            "_view_name": "HTMLView",
            "description": "",
            "description_tooltip": null,
            "layout": "IPY_MODEL_56c7e4a5acfe4717aa836fc4fb366387",
            "placeholder": "​",
            "style": "IPY_MODEL_ca8348ff3cd448bb96b5caf3731d0baf",
            "value": " 1576/1576 [00:00&lt;00:00, 10536.87 examples/s]"
          }
        },
        "0a6acd66639646f681832850ef172ace": {
          "model_module": "@jupyter-widgets/controls",
          "model_module_version": "1.5.0",
          "model_name": "FloatProgressModel",
          "state": {
            "_dom_classes": [],
            "_model_module": "@jupyter-widgets/controls",
            "_model_module_version": "1.5.0",
            "_model_name": "FloatProgressModel",
            "_view_count": null,
            "_view_module": "@jupyter-widgets/controls",
            "_view_module_version": "1.5.0",
            "_view_name": "ProgressView",
            "bar_style": "success",
            "description": "",
            "description_tooltip": null,
            "layout": "IPY_MODEL_1aad899474824f22bb11bd6391ada57c",
            "max": 5393,
            "min": 0,
            "orientation": "horizontal",
            "style": "IPY_MODEL_c14f51fc35bb4b6aba2675732dd30ea9",
            "value": 5393
          }
        },
        "0ccb399ac9dc4ebf8d595bc1824c010e": {
          "model_module": "@jupyter-widgets/controls",
          "model_module_version": "1.5.0",
          "model_name": "DescriptionStyleModel",
          "state": {
            "_model_module": "@jupyter-widgets/controls",
            "_model_module_version": "1.5.0",
            "_model_name": "DescriptionStyleModel",
            "_view_count": null,
            "_view_module": "@jupyter-widgets/base",
            "_view_module_version": "1.2.0",
            "_view_name": "StyleView",
            "description_width": ""
          }
        },
        "0f4551d7c06343bab59290f164a176dc": {
          "model_module": "@jupyter-widgets/controls",
          "model_module_version": "1.5.0",
          "model_name": "HTMLModel",
          "state": {
            "_dom_classes": [],
            "_model_module": "@jupyter-widgets/controls",
            "_model_module_version": "1.5.0",
            "_model_name": "HTMLModel",
            "_view_count": null,
            "_view_module": "@jupyter-widgets/controls",
            "_view_module_version": "1.5.0",
            "_view_name": "HTMLView",
            "description": "",
            "description_tooltip": null,
            "layout": "IPY_MODEL_d1cfa8833e954304acc171643cedb962",
            "placeholder": "​",
            "style": "IPY_MODEL_57844f734d594da4b95b962d41aebd1b",
            "value": "Map: 100%"
          }
        },
        "12b3bcb8453d4cf39b7b9d9549a85a20": {
          "model_module": "@jupyter-widgets/controls",
          "model_module_version": "1.5.0",
          "model_name": "HBoxModel",
          "state": {
            "_dom_classes": [],
            "_model_module": "@jupyter-widgets/controls",
            "_model_module_version": "1.5.0",
            "_model_name": "HBoxModel",
            "_view_count": null,
            "_view_module": "@jupyter-widgets/controls",
            "_view_module_version": "1.5.0",
            "_view_name": "HBoxView",
            "box_style": "",
            "children": [
              "IPY_MODEL_c67a8ce9dbee4723b2a24fc53694542e",
              "IPY_MODEL_f0c490ed41ce49a99afa5af9af25c10d",
              "IPY_MODEL_ee2e427f697e4a889c1b9ce7bfa3e3d7"
            ],
            "layout": "IPY_MODEL_932d68102a9a4594a8e8330388f80c4d"
          }
        },
        "155d4d6a909345b0934716173f3ea288": {
          "model_module": "@jupyter-widgets/base",
          "model_module_version": "1.2.0",
          "model_name": "LayoutModel",
          "state": {
            "_model_module": "@jupyter-widgets/base",
            "_model_module_version": "1.2.0",
            "_model_name": "LayoutModel",
            "_view_count": null,
            "_view_module": "@jupyter-widgets/base",
            "_view_module_version": "1.2.0",
            "_view_name": "LayoutView",
            "align_content": null,
            "align_items": null,
            "align_self": null,
            "border": null,
            "bottom": null,
            "display": null,
            "flex": null,
            "flex_flow": null,
            "grid_area": null,
            "grid_auto_columns": null,
            "grid_auto_flow": null,
            "grid_auto_rows": null,
            "grid_column": null,
            "grid_gap": null,
            "grid_row": null,
            "grid_template_areas": null,
            "grid_template_columns": null,
            "grid_template_rows": null,
            "height": null,
            "justify_content": null,
            "justify_items": null,
            "left": null,
            "margin": null,
            "max_height": null,
            "max_width": null,
            "min_height": null,
            "min_width": null,
            "object_fit": null,
            "object_position": null,
            "order": null,
            "overflow": null,
            "overflow_x": null,
            "overflow_y": null,
            "padding": null,
            "right": null,
            "top": null,
            "visibility": null,
            "width": null
          }
        },
        "169ef1cb22a74dfea18728de955f512f": {
          "model_module": "@jupyter-widgets/base",
          "model_module_version": "1.2.0",
          "model_name": "LayoutModel",
          "state": {
            "_model_module": "@jupyter-widgets/base",
            "_model_module_version": "1.2.0",
            "_model_name": "LayoutModel",
            "_view_count": null,
            "_view_module": "@jupyter-widgets/base",
            "_view_module_version": "1.2.0",
            "_view_name": "LayoutView",
            "align_content": null,
            "align_items": null,
            "align_self": null,
            "border": null,
            "bottom": null,
            "display": null,
            "flex": null,
            "flex_flow": null,
            "grid_area": null,
            "grid_auto_columns": null,
            "grid_auto_flow": null,
            "grid_auto_rows": null,
            "grid_column": null,
            "grid_gap": null,
            "grid_row": null,
            "grid_template_areas": null,
            "grid_template_columns": null,
            "grid_template_rows": null,
            "height": null,
            "justify_content": null,
            "justify_items": null,
            "left": null,
            "margin": null,
            "max_height": null,
            "max_width": null,
            "min_height": null,
            "min_width": null,
            "object_fit": null,
            "object_position": null,
            "order": null,
            "overflow": null,
            "overflow_x": null,
            "overflow_y": null,
            "padding": null,
            "right": null,
            "top": null,
            "visibility": null,
            "width": null
          }
        },
        "185e7beade1c401e800d6ee89fc08b81": {
          "model_module": "@jupyter-widgets/controls",
          "model_module_version": "1.5.0",
          "model_name": "HBoxModel",
          "state": {
            "_dom_classes": [],
            "_model_module": "@jupyter-widgets/controls",
            "_model_module_version": "1.5.0",
            "_model_name": "HBoxModel",
            "_view_count": null,
            "_view_module": "@jupyter-widgets/controls",
            "_view_module_version": "1.5.0",
            "_view_name": "HBoxView",
            "box_style": "",
            "children": [
              "IPY_MODEL_8434e9705fd345d489e845c43ec355d6",
              "IPY_MODEL_76dddf58563a4b1587caa6363d1e0688",
              "IPY_MODEL_4fc9f3af302142ce9e21146577aa34a9"
            ],
            "layout": "IPY_MODEL_d363b4a9e8c74b95974662ec81f08155"
          }
        },
        "19fdda86cec0427bacc1a79ac9d78b7e": {
          "model_module": "@jupyter-widgets/base",
          "model_module_version": "1.2.0",
          "model_name": "LayoutModel",
          "state": {
            "_model_module": "@jupyter-widgets/base",
            "_model_module_version": "1.2.0",
            "_model_name": "LayoutModel",
            "_view_count": null,
            "_view_module": "@jupyter-widgets/base",
            "_view_module_version": "1.2.0",
            "_view_name": "LayoutView",
            "align_content": null,
            "align_items": null,
            "align_self": null,
            "border": null,
            "bottom": null,
            "display": null,
            "flex": null,
            "flex_flow": null,
            "grid_area": null,
            "grid_auto_columns": null,
            "grid_auto_flow": null,
            "grid_auto_rows": null,
            "grid_column": null,
            "grid_gap": null,
            "grid_row": null,
            "grid_template_areas": null,
            "grid_template_columns": null,
            "grid_template_rows": null,
            "height": null,
            "justify_content": null,
            "justify_items": null,
            "left": null,
            "margin": null,
            "max_height": null,
            "max_width": null,
            "min_height": null,
            "min_width": null,
            "object_fit": null,
            "object_position": null,
            "order": null,
            "overflow": null,
            "overflow_x": null,
            "overflow_y": null,
            "padding": null,
            "right": null,
            "top": null,
            "visibility": null,
            "width": null
          }
        },
        "1aad899474824f22bb11bd6391ada57c": {
          "model_module": "@jupyter-widgets/base",
          "model_module_version": "1.2.0",
          "model_name": "LayoutModel",
          "state": {
            "_model_module": "@jupyter-widgets/base",
            "_model_module_version": "1.2.0",
            "_model_name": "LayoutModel",
            "_view_count": null,
            "_view_module": "@jupyter-widgets/base",
            "_view_module_version": "1.2.0",
            "_view_name": "LayoutView",
            "align_content": null,
            "align_items": null,
            "align_self": null,
            "border": null,
            "bottom": null,
            "display": null,
            "flex": null,
            "flex_flow": null,
            "grid_area": null,
            "grid_auto_columns": null,
            "grid_auto_flow": null,
            "grid_auto_rows": null,
            "grid_column": null,
            "grid_gap": null,
            "grid_row": null,
            "grid_template_areas": null,
            "grid_template_columns": null,
            "grid_template_rows": null,
            "height": null,
            "justify_content": null,
            "justify_items": null,
            "left": null,
            "margin": null,
            "max_height": null,
            "max_width": null,
            "min_height": null,
            "min_width": null,
            "object_fit": null,
            "object_position": null,
            "order": null,
            "overflow": null,
            "overflow_x": null,
            "overflow_y": null,
            "padding": null,
            "right": null,
            "top": null,
            "visibility": null,
            "width": null
          }
        },
        "1c2b675803b44eb39dfe8c81a7134e02": {
          "model_module": "@jupyter-widgets/controls",
          "model_module_version": "1.5.0",
          "model_name": "ProgressStyleModel",
          "state": {
            "_model_module": "@jupyter-widgets/controls",
            "_model_module_version": "1.5.0",
            "_model_name": "ProgressStyleModel",
            "_view_count": null,
            "_view_module": "@jupyter-widgets/base",
            "_view_module_version": "1.2.0",
            "_view_name": "StyleView",
            "bar_color": null,
            "description_width": ""
          }
        },
        "1deef171cae043228b1debc278790581": {
          "model_module": "@jupyter-widgets/controls",
          "model_module_version": "1.5.0",
          "model_name": "HTMLModel",
          "state": {
            "_dom_classes": [],
            "_model_module": "@jupyter-widgets/controls",
            "_model_module_version": "1.5.0",
            "_model_name": "HTMLModel",
            "_view_count": null,
            "_view_module": "@jupyter-widgets/controls",
            "_view_module_version": "1.5.0",
            "_view_name": "HTMLView",
            "description": "",
            "description_tooltip": null,
            "layout": "IPY_MODEL_9a551f951e544562980f13828d838845",
            "placeholder": "​",
            "style": "IPY_MODEL_e2e54397d9d345de82c2ca076e724139",
            "value": " 1576/1576 [00:00&lt;00:00, 2772.66 examples/s]"
          }
        },
        "1e31c023a706485f8b773b84f5036791": {
          "model_module": "@jupyter-widgets/controls",
          "model_module_version": "1.5.0",
          "model_name": "DescriptionStyleModel",
          "state": {
            "_model_module": "@jupyter-widgets/controls",
            "_model_module_version": "1.5.0",
            "_model_name": "DescriptionStyleModel",
            "_view_count": null,
            "_view_module": "@jupyter-widgets/base",
            "_view_module_version": "1.2.0",
            "_view_name": "StyleView",
            "description_width": ""
          }
        },
        "25f168f192654a4981f7420e400b358a": {
          "model_module": "@jupyter-widgets/controls",
          "model_module_version": "1.5.0",
          "model_name": "FloatProgressModel",
          "state": {
            "_dom_classes": [],
            "_model_module": "@jupyter-widgets/controls",
            "_model_module_version": "1.5.0",
            "_model_name": "FloatProgressModel",
            "_view_count": null,
            "_view_module": "@jupyter-widgets/controls",
            "_view_module_version": "1.5.0",
            "_view_name": "ProgressView",
            "bar_style": "success",
            "description": "",
            "description_tooltip": null,
            "layout": "IPY_MODEL_d203ede6c6a24b9f843c13e8a851d19e",
            "max": 1576,
            "min": 0,
            "orientation": "horizontal",
            "style": "IPY_MODEL_bc51de8e4db34fa2a0a6f6c66496484e",
            "value": 1576
          }
        },
        "26f438ceafcb4323bd568caccba72d8b": {
          "model_module": "@jupyter-widgets/controls",
          "model_module_version": "1.5.0",
          "model_name": "HTMLModel",
          "state": {
            "_dom_classes": [],
            "_model_module": "@jupyter-widgets/controls",
            "_model_module_version": "1.5.0",
            "_model_name": "HTMLModel",
            "_view_count": null,
            "_view_module": "@jupyter-widgets/controls",
            "_view_module_version": "1.5.0",
            "_view_name": "HTMLView",
            "description": "",
            "description_tooltip": null,
            "layout": "IPY_MODEL_792fe0e945fb4a9bad94d498f87c1496",
            "placeholder": "​",
            "style": "IPY_MODEL_67e96a9d3b8a478eb9bed08bb47ffeda",
            "value": "Map: 100%"
          }
        },
        "279b6008c7f549f5b0c94cb01a33f18e": {
          "model_module": "@jupyter-widgets/controls",
          "model_module_version": "1.5.0",
          "model_name": "FloatProgressModel",
          "state": {
            "_dom_classes": [],
            "_model_module": "@jupyter-widgets/controls",
            "_model_module_version": "1.5.0",
            "_model_name": "FloatProgressModel",
            "_view_count": null,
            "_view_module": "@jupyter-widgets/controls",
            "_view_module_version": "1.5.0",
            "_view_name": "ProgressView",
            "bar_style": "success",
            "description": "",
            "description_tooltip": null,
            "layout": "IPY_MODEL_3a11fe6667e945c791c2c5ba0a74bdc1",
            "max": 5393,
            "min": 0,
            "orientation": "horizontal",
            "style": "IPY_MODEL_03464fae02114b3cb2e4d2e277eff367",
            "value": 5393
          }
        },
        "2ca8ff43e66c4e66972eeb525427e13c": {
          "model_module": "@jupyter-widgets/base",
          "model_module_version": "1.2.0",
          "model_name": "LayoutModel",
          "state": {
            "_model_module": "@jupyter-widgets/base",
            "_model_module_version": "1.2.0",
            "_model_name": "LayoutModel",
            "_view_count": null,
            "_view_module": "@jupyter-widgets/base",
            "_view_module_version": "1.2.0",
            "_view_name": "LayoutView",
            "align_content": null,
            "align_items": null,
            "align_self": null,
            "border": null,
            "bottom": null,
            "display": null,
            "flex": null,
            "flex_flow": null,
            "grid_area": null,
            "grid_auto_columns": null,
            "grid_auto_flow": null,
            "grid_auto_rows": null,
            "grid_column": null,
            "grid_gap": null,
            "grid_row": null,
            "grid_template_areas": null,
            "grid_template_columns": null,
            "grid_template_rows": null,
            "height": null,
            "justify_content": null,
            "justify_items": null,
            "left": null,
            "margin": null,
            "max_height": null,
            "max_width": null,
            "min_height": null,
            "min_width": null,
            "object_fit": null,
            "object_position": null,
            "order": null,
            "overflow": null,
            "overflow_x": null,
            "overflow_y": null,
            "padding": null,
            "right": null,
            "top": null,
            "visibility": null,
            "width": null
          }
        },
        "3876a93644a4432793e3cb0ee00e314b": {
          "model_module": "@jupyter-widgets/controls",
          "model_module_version": "1.5.0",
          "model_name": "FloatProgressModel",
          "state": {
            "_dom_classes": [],
            "_model_module": "@jupyter-widgets/controls",
            "_model_module_version": "1.5.0",
            "_model_name": "FloatProgressModel",
            "_view_count": null,
            "_view_module": "@jupyter-widgets/controls",
            "_view_module_version": "1.5.0",
            "_view_name": "ProgressView",
            "bar_style": "success",
            "description": "",
            "description_tooltip": null,
            "layout": "IPY_MODEL_2ca8ff43e66c4e66972eeb525427e13c",
            "max": 1576,
            "min": 0,
            "orientation": "horizontal",
            "style": "IPY_MODEL_da9946f0dc474b9cbdd7577ff8d13274",
            "value": 1576
          }
        },
        "38ab926b5be04ed19fed2e46f655b6b1": {
          "model_module": "@jupyter-widgets/controls",
          "model_module_version": "1.5.0",
          "model_name": "ProgressStyleModel",
          "state": {
            "_model_module": "@jupyter-widgets/controls",
            "_model_module_version": "1.5.0",
            "_model_name": "ProgressStyleModel",
            "_view_count": null,
            "_view_module": "@jupyter-widgets/base",
            "_view_module_version": "1.2.0",
            "_view_name": "StyleView",
            "bar_color": null,
            "description_width": ""
          }
        },
        "3a11fe6667e945c791c2c5ba0a74bdc1": {
          "model_module": "@jupyter-widgets/base",
          "model_module_version": "1.2.0",
          "model_name": "LayoutModel",
          "state": {
            "_model_module": "@jupyter-widgets/base",
            "_model_module_version": "1.2.0",
            "_model_name": "LayoutModel",
            "_view_count": null,
            "_view_module": "@jupyter-widgets/base",
            "_view_module_version": "1.2.0",
            "_view_name": "LayoutView",
            "align_content": null,
            "align_items": null,
            "align_self": null,
            "border": null,
            "bottom": null,
            "display": null,
            "flex": null,
            "flex_flow": null,
            "grid_area": null,
            "grid_auto_columns": null,
            "grid_auto_flow": null,
            "grid_auto_rows": null,
            "grid_column": null,
            "grid_gap": null,
            "grid_row": null,
            "grid_template_areas": null,
            "grid_template_columns": null,
            "grid_template_rows": null,
            "height": null,
            "justify_content": null,
            "justify_items": null,
            "left": null,
            "margin": null,
            "max_height": null,
            "max_width": null,
            "min_height": null,
            "min_width": null,
            "object_fit": null,
            "object_position": null,
            "order": null,
            "overflow": null,
            "overflow_x": null,
            "overflow_y": null,
            "padding": null,
            "right": null,
            "top": null,
            "visibility": null,
            "width": null
          }
        },
        "3b2b8508b46f4e6ca53bce9e54c99e95": {
          "model_module": "@jupyter-widgets/base",
          "model_module_version": "1.2.0",
          "model_name": "LayoutModel",
          "state": {
            "_model_module": "@jupyter-widgets/base",
            "_model_module_version": "1.2.0",
            "_model_name": "LayoutModel",
            "_view_count": null,
            "_view_module": "@jupyter-widgets/base",
            "_view_module_version": "1.2.0",
            "_view_name": "LayoutView",
            "align_content": null,
            "align_items": null,
            "align_self": null,
            "border": null,
            "bottom": null,
            "display": null,
            "flex": null,
            "flex_flow": null,
            "grid_area": null,
            "grid_auto_columns": null,
            "grid_auto_flow": null,
            "grid_auto_rows": null,
            "grid_column": null,
            "grid_gap": null,
            "grid_row": null,
            "grid_template_areas": null,
            "grid_template_columns": null,
            "grid_template_rows": null,
            "height": null,
            "justify_content": null,
            "justify_items": null,
            "left": null,
            "margin": null,
            "max_height": null,
            "max_width": null,
            "min_height": null,
            "min_width": null,
            "object_fit": null,
            "object_position": null,
            "order": null,
            "overflow": null,
            "overflow_x": null,
            "overflow_y": null,
            "padding": null,
            "right": null,
            "top": null,
            "visibility": null,
            "width": null
          }
        },
        "426bb492e50f4cf7912d36d7a0c784be": {
          "model_module": "@jupyter-widgets/controls",
          "model_module_version": "1.5.0",
          "model_name": "HBoxModel",
          "state": {
            "_dom_classes": [],
            "_model_module": "@jupyter-widgets/controls",
            "_model_module_version": "1.5.0",
            "_model_name": "HBoxModel",
            "_view_count": null,
            "_view_module": "@jupyter-widgets/controls",
            "_view_module_version": "1.5.0",
            "_view_name": "HBoxView",
            "box_style": "",
            "children": [
              "IPY_MODEL_48944edf6f8c486399bc17a1115969fc",
              "IPY_MODEL_279b6008c7f549f5b0c94cb01a33f18e",
              "IPY_MODEL_030a9ada483e4cd59a622ac6180a0664"
            ],
            "layout": "IPY_MODEL_e04f6614e95d450585dd99b02c42c2e3"
          }
        },
        "43aa316fb49c41dfae7e5f6037f67b10": {
          "model_module": "@jupyter-widgets/controls",
          "model_module_version": "1.5.0",
          "model_name": "DescriptionStyleModel",
          "state": {
            "_model_module": "@jupyter-widgets/controls",
            "_model_module_version": "1.5.0",
            "_model_name": "DescriptionStyleModel",
            "_view_count": null,
            "_view_module": "@jupyter-widgets/base",
            "_view_module_version": "1.2.0",
            "_view_name": "StyleView",
            "description_width": ""
          }
        },
        "47171d3a79c1467a9a3ba902394c1a7e": {
          "model_module": "@jupyter-widgets/base",
          "model_module_version": "1.2.0",
          "model_name": "LayoutModel",
          "state": {
            "_model_module": "@jupyter-widgets/base",
            "_model_module_version": "1.2.0",
            "_model_name": "LayoutModel",
            "_view_count": null,
            "_view_module": "@jupyter-widgets/base",
            "_view_module_version": "1.2.0",
            "_view_name": "LayoutView",
            "align_content": null,
            "align_items": null,
            "align_self": null,
            "border": null,
            "bottom": null,
            "display": null,
            "flex": null,
            "flex_flow": null,
            "grid_area": null,
            "grid_auto_columns": null,
            "grid_auto_flow": null,
            "grid_auto_rows": null,
            "grid_column": null,
            "grid_gap": null,
            "grid_row": null,
            "grid_template_areas": null,
            "grid_template_columns": null,
            "grid_template_rows": null,
            "height": null,
            "justify_content": null,
            "justify_items": null,
            "left": null,
            "margin": null,
            "max_height": null,
            "max_width": null,
            "min_height": null,
            "min_width": null,
            "object_fit": null,
            "object_position": null,
            "order": null,
            "overflow": null,
            "overflow_x": null,
            "overflow_y": null,
            "padding": null,
            "right": null,
            "top": null,
            "visibility": null,
            "width": null
          }
        },
        "48944edf6f8c486399bc17a1115969fc": {
          "model_module": "@jupyter-widgets/controls",
          "model_module_version": "1.5.0",
          "model_name": "HTMLModel",
          "state": {
            "_dom_classes": [],
            "_model_module": "@jupyter-widgets/controls",
            "_model_module_version": "1.5.0",
            "_model_name": "HTMLModel",
            "_view_count": null,
            "_view_module": "@jupyter-widgets/controls",
            "_view_module_version": "1.5.0",
            "_view_name": "HTMLView",
            "description": "",
            "description_tooltip": null,
            "layout": "IPY_MODEL_e3f52d677f004e3bbb31f7d66a7e0d62",
            "placeholder": "​",
            "style": "IPY_MODEL_1e31c023a706485f8b773b84f5036791",
            "value": "Map: 100%"
          }
        },
        "4a593a49f1614b09b260fc3c4a4284e3": {
          "model_module": "@jupyter-widgets/controls",
          "model_module_version": "1.5.0",
          "model_name": "HBoxModel",
          "state": {
            "_dom_classes": [],
            "_model_module": "@jupyter-widgets/controls",
            "_model_module_version": "1.5.0",
            "_model_name": "HBoxModel",
            "_view_count": null,
            "_view_module": "@jupyter-widgets/controls",
            "_view_module_version": "1.5.0",
            "_view_name": "HBoxView",
            "box_style": "",
            "children": [
              "IPY_MODEL_a2ecfb8598724476b397f779f60edf31",
              "IPY_MODEL_83943131f47c4b568e3fc228d2f492bf",
              "IPY_MODEL_1deef171cae043228b1debc278790581"
            ],
            "layout": "IPY_MODEL_155d4d6a909345b0934716173f3ea288"
          }
        },
        "4dbe9b2a88314a61a5d9778ff483faaf": {
          "model_module": "@jupyter-widgets/base",
          "model_module_version": "1.2.0",
          "model_name": "LayoutModel",
          "state": {
            "_model_module": "@jupyter-widgets/base",
            "_model_module_version": "1.2.0",
            "_model_name": "LayoutModel",
            "_view_count": null,
            "_view_module": "@jupyter-widgets/base",
            "_view_module_version": "1.2.0",
            "_view_name": "LayoutView",
            "align_content": null,
            "align_items": null,
            "align_self": null,
            "border": null,
            "bottom": null,
            "display": null,
            "flex": null,
            "flex_flow": null,
            "grid_area": null,
            "grid_auto_columns": null,
            "grid_auto_flow": null,
            "grid_auto_rows": null,
            "grid_column": null,
            "grid_gap": null,
            "grid_row": null,
            "grid_template_areas": null,
            "grid_template_columns": null,
            "grid_template_rows": null,
            "height": null,
            "justify_content": null,
            "justify_items": null,
            "left": null,
            "margin": null,
            "max_height": null,
            "max_width": null,
            "min_height": null,
            "min_width": null,
            "object_fit": null,
            "object_position": null,
            "order": null,
            "overflow": null,
            "overflow_x": null,
            "overflow_y": null,
            "padding": null,
            "right": null,
            "top": null,
            "visibility": null,
            "width": null
          }
        },
        "4e60a052f9a54e999f36dde4088ca11a": {
          "model_module": "@jupyter-widgets/controls",
          "model_module_version": "1.5.0",
          "model_name": "DescriptionStyleModel",
          "state": {
            "_model_module": "@jupyter-widgets/controls",
            "_model_module_version": "1.5.0",
            "_model_name": "DescriptionStyleModel",
            "_view_count": null,
            "_view_module": "@jupyter-widgets/base",
            "_view_module_version": "1.2.0",
            "_view_name": "StyleView",
            "description_width": ""
          }
        },
        "4ef751912d174e34b65c3a83fc6d8652": {
          "model_module": "@jupyter-widgets/controls",
          "model_module_version": "1.5.0",
          "model_name": "HTMLModel",
          "state": {
            "_dom_classes": [],
            "_model_module": "@jupyter-widgets/controls",
            "_model_module_version": "1.5.0",
            "_model_name": "HTMLModel",
            "_view_count": null,
            "_view_module": "@jupyter-widgets/controls",
            "_view_module_version": "1.5.0",
            "_view_name": "HTMLView",
            "description": "",
            "description_tooltip": null,
            "layout": "IPY_MODEL_c46c182ac0234ddc83b2a7d4e6ba4c2a",
            "placeholder": "​",
            "style": "IPY_MODEL_037002599350494fa8dbc6e07d7cf82a",
            "value": "Map: 100%"
          }
        },
        "4fc9f3af302142ce9e21146577aa34a9": {
          "model_module": "@jupyter-widgets/controls",
          "model_module_version": "1.5.0",
          "model_name": "HTMLModel",
          "state": {
            "_dom_classes": [],
            "_model_module": "@jupyter-widgets/controls",
            "_model_module_version": "1.5.0",
            "_model_name": "HTMLModel",
            "_view_count": null,
            "_view_module": "@jupyter-widgets/controls",
            "_view_module_version": "1.5.0",
            "_view_name": "HTMLView",
            "description": "",
            "description_tooltip": null,
            "layout": "IPY_MODEL_e5a657c9944d4d62baedea56d1ec555a",
            "placeholder": "​",
            "style": "IPY_MODEL_4e60a052f9a54e999f36dde4088ca11a",
            "value": " 1896/1896 [00:00&lt;00:00, 1910.16 examples/s]"
          }
        },
        "5224de7875d74c3d8081934ca5f84adc": {
          "model_module": "@jupyter-widgets/base",
          "model_module_version": "1.2.0",
          "model_name": "LayoutModel",
          "state": {
            "_model_module": "@jupyter-widgets/base",
            "_model_module_version": "1.2.0",
            "_model_name": "LayoutModel",
            "_view_count": null,
            "_view_module": "@jupyter-widgets/base",
            "_view_module_version": "1.2.0",
            "_view_name": "LayoutView",
            "align_content": null,
            "align_items": null,
            "align_self": null,
            "border": null,
            "bottom": null,
            "display": null,
            "flex": null,
            "flex_flow": null,
            "grid_area": null,
            "grid_auto_columns": null,
            "grid_auto_flow": null,
            "grid_auto_rows": null,
            "grid_column": null,
            "grid_gap": null,
            "grid_row": null,
            "grid_template_areas": null,
            "grid_template_columns": null,
            "grid_template_rows": null,
            "height": null,
            "justify_content": null,
            "justify_items": null,
            "left": null,
            "margin": null,
            "max_height": null,
            "max_width": null,
            "min_height": null,
            "min_width": null,
            "object_fit": null,
            "object_position": null,
            "order": null,
            "overflow": null,
            "overflow_x": null,
            "overflow_y": null,
            "padding": null,
            "right": null,
            "top": null,
            "visibility": null,
            "width": null
          }
        },
        "5351a386669d4d0c9e7d8e4cb036c7c1": {
          "model_module": "@jupyter-widgets/base",
          "model_module_version": "1.2.0",
          "model_name": "LayoutModel",
          "state": {
            "_model_module": "@jupyter-widgets/base",
            "_model_module_version": "1.2.0",
            "_model_name": "LayoutModel",
            "_view_count": null,
            "_view_module": "@jupyter-widgets/base",
            "_view_module_version": "1.2.0",
            "_view_name": "LayoutView",
            "align_content": null,
            "align_items": null,
            "align_self": null,
            "border": null,
            "bottom": null,
            "display": null,
            "flex": null,
            "flex_flow": null,
            "grid_area": null,
            "grid_auto_columns": null,
            "grid_auto_flow": null,
            "grid_auto_rows": null,
            "grid_column": null,
            "grid_gap": null,
            "grid_row": null,
            "grid_template_areas": null,
            "grid_template_columns": null,
            "grid_template_rows": null,
            "height": null,
            "justify_content": null,
            "justify_items": null,
            "left": null,
            "margin": null,
            "max_height": null,
            "max_width": null,
            "min_height": null,
            "min_width": null,
            "object_fit": null,
            "object_position": null,
            "order": null,
            "overflow": null,
            "overflow_x": null,
            "overflow_y": null,
            "padding": null,
            "right": null,
            "top": null,
            "visibility": null,
            "width": null
          }
        },
        "56c7e4a5acfe4717aa836fc4fb366387": {
          "model_module": "@jupyter-widgets/base",
          "model_module_version": "1.2.0",
          "model_name": "LayoutModel",
          "state": {
            "_model_module": "@jupyter-widgets/base",
            "_model_module_version": "1.2.0",
            "_model_name": "LayoutModel",
            "_view_count": null,
            "_view_module": "@jupyter-widgets/base",
            "_view_module_version": "1.2.0",
            "_view_name": "LayoutView",
            "align_content": null,
            "align_items": null,
            "align_self": null,
            "border": null,
            "bottom": null,
            "display": null,
            "flex": null,
            "flex_flow": null,
            "grid_area": null,
            "grid_auto_columns": null,
            "grid_auto_flow": null,
            "grid_auto_rows": null,
            "grid_column": null,
            "grid_gap": null,
            "grid_row": null,
            "grid_template_areas": null,
            "grid_template_columns": null,
            "grid_template_rows": null,
            "height": null,
            "justify_content": null,
            "justify_items": null,
            "left": null,
            "margin": null,
            "max_height": null,
            "max_width": null,
            "min_height": null,
            "min_width": null,
            "object_fit": null,
            "object_position": null,
            "order": null,
            "overflow": null,
            "overflow_x": null,
            "overflow_y": null,
            "padding": null,
            "right": null,
            "top": null,
            "visibility": null,
            "width": null
          }
        },
        "57844f734d594da4b95b962d41aebd1b": {
          "model_module": "@jupyter-widgets/controls",
          "model_module_version": "1.5.0",
          "model_name": "DescriptionStyleModel",
          "state": {
            "_model_module": "@jupyter-widgets/controls",
            "_model_module_version": "1.5.0",
            "_model_name": "DescriptionStyleModel",
            "_view_count": null,
            "_view_module": "@jupyter-widgets/base",
            "_view_module_version": "1.2.0",
            "_view_name": "StyleView",
            "description_width": ""
          }
        },
        "604f6f0f035343f4a33009ec9b8598ba": {
          "model_module": "@jupyter-widgets/controls",
          "model_module_version": "1.5.0",
          "model_name": "FloatProgressModel",
          "state": {
            "_dom_classes": [],
            "_model_module": "@jupyter-widgets/controls",
            "_model_module_version": "1.5.0",
            "_model_name": "FloatProgressModel",
            "_view_count": null,
            "_view_module": "@jupyter-widgets/controls",
            "_view_module_version": "1.5.0",
            "_view_name": "ProgressView",
            "bar_style": "success",
            "description": "",
            "description_tooltip": null,
            "layout": "IPY_MODEL_3b2b8508b46f4e6ca53bce9e54c99e95",
            "max": 1896,
            "min": 0,
            "orientation": "horizontal",
            "style": "IPY_MODEL_60ebeabe19614a88a3ebcf864bda2f4e",
            "value": 1896
          }
        },
        "60ebeabe19614a88a3ebcf864bda2f4e": {
          "model_module": "@jupyter-widgets/controls",
          "model_module_version": "1.5.0",
          "model_name": "ProgressStyleModel",
          "state": {
            "_model_module": "@jupyter-widgets/controls",
            "_model_module_version": "1.5.0",
            "_model_name": "ProgressStyleModel",
            "_view_count": null,
            "_view_module": "@jupyter-widgets/base",
            "_view_module_version": "1.2.0",
            "_view_name": "StyleView",
            "bar_color": null,
            "description_width": ""
          }
        },
        "6381a41749704dcaa9be53321e03ce8f": {
          "model_module": "@jupyter-widgets/controls",
          "model_module_version": "1.5.0",
          "model_name": "HTMLModel",
          "state": {
            "_dom_classes": [],
            "_model_module": "@jupyter-widgets/controls",
            "_model_module_version": "1.5.0",
            "_model_name": "HTMLModel",
            "_view_count": null,
            "_view_module": "@jupyter-widgets/controls",
            "_view_module_version": "1.5.0",
            "_view_name": "HTMLView",
            "description": "",
            "description_tooltip": null,
            "layout": "IPY_MODEL_a26bff676c13420fb625c96740161829",
            "placeholder": "​",
            "style": "IPY_MODEL_bc68ec06cfa1415b92283a156b207bc6",
            "value": " 1896/1896 [00:01&lt;00:00, 995.69 examples/s]"
          }
        },
        "67e96a9d3b8a478eb9bed08bb47ffeda": {
          "model_module": "@jupyter-widgets/controls",
          "model_module_version": "1.5.0",
          "model_name": "DescriptionStyleModel",
          "state": {
            "_model_module": "@jupyter-widgets/controls",
            "_model_module_version": "1.5.0",
            "_model_name": "DescriptionStyleModel",
            "_view_count": null,
            "_view_module": "@jupyter-widgets/base",
            "_view_module_version": "1.2.0",
            "_view_name": "StyleView",
            "description_width": ""
          }
        },
        "6a72594480854b3592ecb76d388ccaf8": {
          "model_module": "@jupyter-widgets/controls",
          "model_module_version": "1.5.0",
          "model_name": "HTMLModel",
          "state": {
            "_dom_classes": [],
            "_model_module": "@jupyter-widgets/controls",
            "_model_module_version": "1.5.0",
            "_model_name": "HTMLModel",
            "_view_count": null,
            "_view_module": "@jupyter-widgets/controls",
            "_view_module_version": "1.5.0",
            "_view_name": "HTMLView",
            "description": "",
            "description_tooltip": null,
            "layout": "IPY_MODEL_aa97da831e744f4f8c1bb8c5a67ab0de",
            "placeholder": "​",
            "style": "IPY_MODEL_c2073a74d7fa4801a37a1c6e97a10333",
            "value": " 1896/1896 [00:00&lt;00:00, 11526.60 examples/s]"
          }
        },
        "6b9571754c3d4bb7aa663eb9d7814abb": {
          "model_module": "@jupyter-widgets/controls",
          "model_module_version": "1.5.0",
          "model_name": "DescriptionStyleModel",
          "state": {
            "_model_module": "@jupyter-widgets/controls",
            "_model_module_version": "1.5.0",
            "_model_name": "DescriptionStyleModel",
            "_view_count": null,
            "_view_module": "@jupyter-widgets/base",
            "_view_module_version": "1.2.0",
            "_view_name": "StyleView",
            "description_width": ""
          }
        },
        "6cb0a7b9c0eb4a52af810d58010ad976": {
          "model_module": "@jupyter-widgets/controls",
          "model_module_version": "1.5.0",
          "model_name": "DescriptionStyleModel",
          "state": {
            "_model_module": "@jupyter-widgets/controls",
            "_model_module_version": "1.5.0",
            "_model_name": "DescriptionStyleModel",
            "_view_count": null,
            "_view_module": "@jupyter-widgets/base",
            "_view_module_version": "1.2.0",
            "_view_name": "StyleView",
            "description_width": ""
          }
        },
        "6cff2f3963b24a6f98e6fd6d73954675": {
          "model_module": "@jupyter-widgets/controls",
          "model_module_version": "1.5.0",
          "model_name": "HTMLModel",
          "state": {
            "_dom_classes": [],
            "_model_module": "@jupyter-widgets/controls",
            "_model_module_version": "1.5.0",
            "_model_name": "HTMLModel",
            "_view_count": null,
            "_view_module": "@jupyter-widgets/controls",
            "_view_module_version": "1.5.0",
            "_view_name": "HTMLView",
            "description": "",
            "description_tooltip": null,
            "layout": "IPY_MODEL_5351a386669d4d0c9e7d8e4cb036c7c1",
            "placeholder": "​",
            "style": "IPY_MODEL_6b9571754c3d4bb7aa663eb9d7814abb",
            "value": " 5393/5393 [00:00&lt;00:00, 10856.22 examples/s]"
          }
        },
        "6e70bcc0729f4036ba5fde0b28c951da": {
          "model_module": "@jupyter-widgets/base",
          "model_module_version": "1.2.0",
          "model_name": "LayoutModel",
          "state": {
            "_model_module": "@jupyter-widgets/base",
            "_model_module_version": "1.2.0",
            "_model_name": "LayoutModel",
            "_view_count": null,
            "_view_module": "@jupyter-widgets/base",
            "_view_module_version": "1.2.0",
            "_view_name": "LayoutView",
            "align_content": null,
            "align_items": null,
            "align_self": null,
            "border": null,
            "bottom": null,
            "display": null,
            "flex": null,
            "flex_flow": null,
            "grid_area": null,
            "grid_auto_columns": null,
            "grid_auto_flow": null,
            "grid_auto_rows": null,
            "grid_column": null,
            "grid_gap": null,
            "grid_row": null,
            "grid_template_areas": null,
            "grid_template_columns": null,
            "grid_template_rows": null,
            "height": null,
            "justify_content": null,
            "justify_items": null,
            "left": null,
            "margin": null,
            "max_height": null,
            "max_width": null,
            "min_height": null,
            "min_width": null,
            "object_fit": null,
            "object_position": null,
            "order": null,
            "overflow": null,
            "overflow_x": null,
            "overflow_y": null,
            "padding": null,
            "right": null,
            "top": null,
            "visibility": null,
            "width": null
          }
        },
        "745e765ea7f0412286c06be25ee67868": {
          "model_module": "@jupyter-widgets/base",
          "model_module_version": "1.2.0",
          "model_name": "LayoutModel",
          "state": {
            "_model_module": "@jupyter-widgets/base",
            "_model_module_version": "1.2.0",
            "_model_name": "LayoutModel",
            "_view_count": null,
            "_view_module": "@jupyter-widgets/base",
            "_view_module_version": "1.2.0",
            "_view_name": "LayoutView",
            "align_content": null,
            "align_items": null,
            "align_self": null,
            "border": null,
            "bottom": null,
            "display": null,
            "flex": null,
            "flex_flow": null,
            "grid_area": null,
            "grid_auto_columns": null,
            "grid_auto_flow": null,
            "grid_auto_rows": null,
            "grid_column": null,
            "grid_gap": null,
            "grid_row": null,
            "grid_template_areas": null,
            "grid_template_columns": null,
            "grid_template_rows": null,
            "height": null,
            "justify_content": null,
            "justify_items": null,
            "left": null,
            "margin": null,
            "max_height": null,
            "max_width": null,
            "min_height": null,
            "min_width": null,
            "object_fit": null,
            "object_position": null,
            "order": null,
            "overflow": null,
            "overflow_x": null,
            "overflow_y": null,
            "padding": null,
            "right": null,
            "top": null,
            "visibility": null,
            "width": null
          }
        },
        "76dddf58563a4b1587caa6363d1e0688": {
          "model_module": "@jupyter-widgets/controls",
          "model_module_version": "1.5.0",
          "model_name": "FloatProgressModel",
          "state": {
            "_dom_classes": [],
            "_model_module": "@jupyter-widgets/controls",
            "_model_module_version": "1.5.0",
            "_model_name": "FloatProgressModel",
            "_view_count": null,
            "_view_module": "@jupyter-widgets/controls",
            "_view_module_version": "1.5.0",
            "_view_name": "ProgressView",
            "bar_style": "success",
            "description": "",
            "description_tooltip": null,
            "layout": "IPY_MODEL_f216c4e9c53a47eab9b7f9d5b37bed26",
            "max": 1896,
            "min": 0,
            "orientation": "horizontal",
            "style": "IPY_MODEL_fe104693670a4acc937f4659c2980229",
            "value": 1896
          }
        },
        "7731b26b42694876b2a89e43e37e6fee": {
          "model_module": "@jupyter-widgets/controls",
          "model_module_version": "1.5.0",
          "model_name": "HBoxModel",
          "state": {
            "_dom_classes": [],
            "_model_module": "@jupyter-widgets/controls",
            "_model_module_version": "1.5.0",
            "_model_name": "HBoxModel",
            "_view_count": null,
            "_view_module": "@jupyter-widgets/controls",
            "_view_module_version": "1.5.0",
            "_view_name": "HBoxView",
            "box_style": "",
            "children": [
              "IPY_MODEL_26f438ceafcb4323bd568caccba72d8b",
              "IPY_MODEL_3876a93644a4432793e3cb0ee00e314b",
              "IPY_MODEL_8d2d6f0c53a144598f6976b0d17c166e"
            ],
            "layout": "IPY_MODEL_47171d3a79c1467a9a3ba902394c1a7e"
          }
        },
        "77cd4b577a294b3a9df1bd55592923a5": {
          "model_module": "@jupyter-widgets/base",
          "model_module_version": "1.2.0",
          "model_name": "LayoutModel",
          "state": {
            "_model_module": "@jupyter-widgets/base",
            "_model_module_version": "1.2.0",
            "_model_name": "LayoutModel",
            "_view_count": null,
            "_view_module": "@jupyter-widgets/base",
            "_view_module_version": "1.2.0",
            "_view_name": "LayoutView",
            "align_content": null,
            "align_items": null,
            "align_self": null,
            "border": null,
            "bottom": null,
            "display": null,
            "flex": null,
            "flex_flow": null,
            "grid_area": null,
            "grid_auto_columns": null,
            "grid_auto_flow": null,
            "grid_auto_rows": null,
            "grid_column": null,
            "grid_gap": null,
            "grid_row": null,
            "grid_template_areas": null,
            "grid_template_columns": null,
            "grid_template_rows": null,
            "height": null,
            "justify_content": null,
            "justify_items": null,
            "left": null,
            "margin": null,
            "max_height": null,
            "max_width": null,
            "min_height": null,
            "min_width": null,
            "object_fit": null,
            "object_position": null,
            "order": null,
            "overflow": null,
            "overflow_x": null,
            "overflow_y": null,
            "padding": null,
            "right": null,
            "top": null,
            "visibility": null,
            "width": null
          }
        },
        "792fe0e945fb4a9bad94d498f87c1496": {
          "model_module": "@jupyter-widgets/base",
          "model_module_version": "1.2.0",
          "model_name": "LayoutModel",
          "state": {
            "_model_module": "@jupyter-widgets/base",
            "_model_module_version": "1.2.0",
            "_model_name": "LayoutModel",
            "_view_count": null,
            "_view_module": "@jupyter-widgets/base",
            "_view_module_version": "1.2.0",
            "_view_name": "LayoutView",
            "align_content": null,
            "align_items": null,
            "align_self": null,
            "border": null,
            "bottom": null,
            "display": null,
            "flex": null,
            "flex_flow": null,
            "grid_area": null,
            "grid_auto_columns": null,
            "grid_auto_flow": null,
            "grid_auto_rows": null,
            "grid_column": null,
            "grid_gap": null,
            "grid_row": null,
            "grid_template_areas": null,
            "grid_template_columns": null,
            "grid_template_rows": null,
            "height": null,
            "justify_content": null,
            "justify_items": null,
            "left": null,
            "margin": null,
            "max_height": null,
            "max_width": null,
            "min_height": null,
            "min_width": null,
            "object_fit": null,
            "object_position": null,
            "order": null,
            "overflow": null,
            "overflow_x": null,
            "overflow_y": null,
            "padding": null,
            "right": null,
            "top": null,
            "visibility": null,
            "width": null
          }
        },
        "83943131f47c4b568e3fc228d2f492bf": {
          "model_module": "@jupyter-widgets/controls",
          "model_module_version": "1.5.0",
          "model_name": "FloatProgressModel",
          "state": {
            "_dom_classes": [],
            "_model_module": "@jupyter-widgets/controls",
            "_model_module_version": "1.5.0",
            "_model_name": "FloatProgressModel",
            "_view_count": null,
            "_view_module": "@jupyter-widgets/controls",
            "_view_module_version": "1.5.0",
            "_view_name": "ProgressView",
            "bar_style": "success",
            "description": "",
            "description_tooltip": null,
            "layout": "IPY_MODEL_169ef1cb22a74dfea18728de955f512f",
            "max": 1576,
            "min": 0,
            "orientation": "horizontal",
            "style": "IPY_MODEL_1c2b675803b44eb39dfe8c81a7134e02",
            "value": 1576
          }
        },
        "8434e9705fd345d489e845c43ec355d6": {
          "model_module": "@jupyter-widgets/controls",
          "model_module_version": "1.5.0",
          "model_name": "HTMLModel",
          "state": {
            "_dom_classes": [],
            "_model_module": "@jupyter-widgets/controls",
            "_model_module_version": "1.5.0",
            "_model_name": "HTMLModel",
            "_view_count": null,
            "_view_module": "@jupyter-widgets/controls",
            "_view_module_version": "1.5.0",
            "_view_name": "HTMLView",
            "description": "",
            "description_tooltip": null,
            "layout": "IPY_MODEL_745e765ea7f0412286c06be25ee67868",
            "placeholder": "​",
            "style": "IPY_MODEL_0ccb399ac9dc4ebf8d595bc1824c010e",
            "value": "Map: 100%"
          }
        },
        "86d8694053f24e49a2e55b30e3e841c4": {
          "model_module": "@jupyter-widgets/controls",
          "model_module_version": "1.5.0",
          "model_name": "DescriptionStyleModel",
          "state": {
            "_model_module": "@jupyter-widgets/controls",
            "_model_module_version": "1.5.0",
            "_model_name": "DescriptionStyleModel",
            "_view_count": null,
            "_view_module": "@jupyter-widgets/base",
            "_view_module_version": "1.2.0",
            "_view_name": "StyleView",
            "description_width": ""
          }
        },
        "8b3e961f333940a2a065b27d441c79cb": {
          "model_module": "@jupyter-widgets/base",
          "model_module_version": "1.2.0",
          "model_name": "LayoutModel",
          "state": {
            "_model_module": "@jupyter-widgets/base",
            "_model_module_version": "1.2.0",
            "_model_name": "LayoutModel",
            "_view_count": null,
            "_view_module": "@jupyter-widgets/base",
            "_view_module_version": "1.2.0",
            "_view_name": "LayoutView",
            "align_content": null,
            "align_items": null,
            "align_self": null,
            "border": null,
            "bottom": null,
            "display": null,
            "flex": null,
            "flex_flow": null,
            "grid_area": null,
            "grid_auto_columns": null,
            "grid_auto_flow": null,
            "grid_auto_rows": null,
            "grid_column": null,
            "grid_gap": null,
            "grid_row": null,
            "grid_template_areas": null,
            "grid_template_columns": null,
            "grid_template_rows": null,
            "height": null,
            "justify_content": null,
            "justify_items": null,
            "left": null,
            "margin": null,
            "max_height": null,
            "max_width": null,
            "min_height": null,
            "min_width": null,
            "object_fit": null,
            "object_position": null,
            "order": null,
            "overflow": null,
            "overflow_x": null,
            "overflow_y": null,
            "padding": null,
            "right": null,
            "top": null,
            "visibility": null,
            "width": null
          }
        },
        "8d2d6f0c53a144598f6976b0d17c166e": {
          "model_module": "@jupyter-widgets/controls",
          "model_module_version": "1.5.0",
          "model_name": "HTMLModel",
          "state": {
            "_dom_classes": [],
            "_model_module": "@jupyter-widgets/controls",
            "_model_module_version": "1.5.0",
            "_model_name": "HTMLModel",
            "_view_count": null,
            "_view_module": "@jupyter-widgets/controls",
            "_view_module_version": "1.5.0",
            "_view_name": "HTMLView",
            "description": "",
            "description_tooltip": null,
            "layout": "IPY_MODEL_d89ebc79f4b44f9b9f296068634f0daa",
            "placeholder": "​",
            "style": "IPY_MODEL_43aa316fb49c41dfae7e5f6037f67b10",
            "value": " 1576/1576 [00:00&lt;00:00, 2422.43 examples/s]"
          }
        },
        "932d68102a9a4594a8e8330388f80c4d": {
          "model_module": "@jupyter-widgets/base",
          "model_module_version": "1.2.0",
          "model_name": "LayoutModel",
          "state": {
            "_model_module": "@jupyter-widgets/base",
            "_model_module_version": "1.2.0",
            "_model_name": "LayoutModel",
            "_view_count": null,
            "_view_module": "@jupyter-widgets/base",
            "_view_module_version": "1.2.0",
            "_view_name": "LayoutView",
            "align_content": null,
            "align_items": null,
            "align_self": null,
            "border": null,
            "bottom": null,
            "display": null,
            "flex": null,
            "flex_flow": null,
            "grid_area": null,
            "grid_auto_columns": null,
            "grid_auto_flow": null,
            "grid_auto_rows": null,
            "grid_column": null,
            "grid_gap": null,
            "grid_row": null,
            "grid_template_areas": null,
            "grid_template_columns": null,
            "grid_template_rows": null,
            "height": null,
            "justify_content": null,
            "justify_items": null,
            "left": null,
            "margin": null,
            "max_height": null,
            "max_width": null,
            "min_height": null,
            "min_width": null,
            "object_fit": null,
            "object_position": null,
            "order": null,
            "overflow": null,
            "overflow_x": null,
            "overflow_y": null,
            "padding": null,
            "right": null,
            "top": null,
            "visibility": null,
            "width": null
          }
        },
        "9880de0377414ce5a1c99a6c2188cfc2": {
          "model_module": "@jupyter-widgets/base",
          "model_module_version": "1.2.0",
          "model_name": "LayoutModel",
          "state": {
            "_model_module": "@jupyter-widgets/base",
            "_model_module_version": "1.2.0",
            "_model_name": "LayoutModel",
            "_view_count": null,
            "_view_module": "@jupyter-widgets/base",
            "_view_module_version": "1.2.0",
            "_view_name": "LayoutView",
            "align_content": null,
            "align_items": null,
            "align_self": null,
            "border": null,
            "bottom": null,
            "display": null,
            "flex": null,
            "flex_flow": null,
            "grid_area": null,
            "grid_auto_columns": null,
            "grid_auto_flow": null,
            "grid_auto_rows": null,
            "grid_column": null,
            "grid_gap": null,
            "grid_row": null,
            "grid_template_areas": null,
            "grid_template_columns": null,
            "grid_template_rows": null,
            "height": null,
            "justify_content": null,
            "justify_items": null,
            "left": null,
            "margin": null,
            "max_height": null,
            "max_width": null,
            "min_height": null,
            "min_width": null,
            "object_fit": null,
            "object_position": null,
            "order": null,
            "overflow": null,
            "overflow_x": null,
            "overflow_y": null,
            "padding": null,
            "right": null,
            "top": null,
            "visibility": null,
            "width": null
          }
        },
        "9a551f951e544562980f13828d838845": {
          "model_module": "@jupyter-widgets/base",
          "model_module_version": "1.2.0",
          "model_name": "LayoutModel",
          "state": {
            "_model_module": "@jupyter-widgets/base",
            "_model_module_version": "1.2.0",
            "_model_name": "LayoutModel",
            "_view_count": null,
            "_view_module": "@jupyter-widgets/base",
            "_view_module_version": "1.2.0",
            "_view_name": "LayoutView",
            "align_content": null,
            "align_items": null,
            "align_self": null,
            "border": null,
            "bottom": null,
            "display": null,
            "flex": null,
            "flex_flow": null,
            "grid_area": null,
            "grid_auto_columns": null,
            "grid_auto_flow": null,
            "grid_auto_rows": null,
            "grid_column": null,
            "grid_gap": null,
            "grid_row": null,
            "grid_template_areas": null,
            "grid_template_columns": null,
            "grid_template_rows": null,
            "height": null,
            "justify_content": null,
            "justify_items": null,
            "left": null,
            "margin": null,
            "max_height": null,
            "max_width": null,
            "min_height": null,
            "min_width": null,
            "object_fit": null,
            "object_position": null,
            "order": null,
            "overflow": null,
            "overflow_x": null,
            "overflow_y": null,
            "padding": null,
            "right": null,
            "top": null,
            "visibility": null,
            "width": null
          }
        },
        "9ceea89da5f845d0a941972d2401e064": {
          "model_module": "@jupyter-widgets/base",
          "model_module_version": "1.2.0",
          "model_name": "LayoutModel",
          "state": {
            "_model_module": "@jupyter-widgets/base",
            "_model_module_version": "1.2.0",
            "_model_name": "LayoutModel",
            "_view_count": null,
            "_view_module": "@jupyter-widgets/base",
            "_view_module_version": "1.2.0",
            "_view_name": "LayoutView",
            "align_content": null,
            "align_items": null,
            "align_self": null,
            "border": null,
            "bottom": null,
            "display": null,
            "flex": null,
            "flex_flow": null,
            "grid_area": null,
            "grid_auto_columns": null,
            "grid_auto_flow": null,
            "grid_auto_rows": null,
            "grid_column": null,
            "grid_gap": null,
            "grid_row": null,
            "grid_template_areas": null,
            "grid_template_columns": null,
            "grid_template_rows": null,
            "height": null,
            "justify_content": null,
            "justify_items": null,
            "left": null,
            "margin": null,
            "max_height": null,
            "max_width": null,
            "min_height": null,
            "min_width": null,
            "object_fit": null,
            "object_position": null,
            "order": null,
            "overflow": null,
            "overflow_x": null,
            "overflow_y": null,
            "padding": null,
            "right": null,
            "top": null,
            "visibility": null,
            "width": null
          }
        },
        "a26bff676c13420fb625c96740161829": {
          "model_module": "@jupyter-widgets/base",
          "model_module_version": "1.2.0",
          "model_name": "LayoutModel",
          "state": {
            "_model_module": "@jupyter-widgets/base",
            "_model_module_version": "1.2.0",
            "_model_name": "LayoutModel",
            "_view_count": null,
            "_view_module": "@jupyter-widgets/base",
            "_view_module_version": "1.2.0",
            "_view_name": "LayoutView",
            "align_content": null,
            "align_items": null,
            "align_self": null,
            "border": null,
            "bottom": null,
            "display": null,
            "flex": null,
            "flex_flow": null,
            "grid_area": null,
            "grid_auto_columns": null,
            "grid_auto_flow": null,
            "grid_auto_rows": null,
            "grid_column": null,
            "grid_gap": null,
            "grid_row": null,
            "grid_template_areas": null,
            "grid_template_columns": null,
            "grid_template_rows": null,
            "height": null,
            "justify_content": null,
            "justify_items": null,
            "left": null,
            "margin": null,
            "max_height": null,
            "max_width": null,
            "min_height": null,
            "min_width": null,
            "object_fit": null,
            "object_position": null,
            "order": null,
            "overflow": null,
            "overflow_x": null,
            "overflow_y": null,
            "padding": null,
            "right": null,
            "top": null,
            "visibility": null,
            "width": null
          }
        },
        "a2ecfb8598724476b397f779f60edf31": {
          "model_module": "@jupyter-widgets/controls",
          "model_module_version": "1.5.0",
          "model_name": "HTMLModel",
          "state": {
            "_dom_classes": [],
            "_model_module": "@jupyter-widgets/controls",
            "_model_module_version": "1.5.0",
            "_model_name": "HTMLModel",
            "_view_count": null,
            "_view_module": "@jupyter-widgets/controls",
            "_view_module_version": "1.5.0",
            "_view_name": "HTMLView",
            "description": "",
            "description_tooltip": null,
            "layout": "IPY_MODEL_4dbe9b2a88314a61a5d9778ff483faaf",
            "placeholder": "​",
            "style": "IPY_MODEL_86d8694053f24e49a2e55b30e3e841c4",
            "value": "Map: 100%"
          }
        },
        "a7628740d73f4814810209346ecd6153": {
          "model_module": "@jupyter-widgets/base",
          "model_module_version": "1.2.0",
          "model_name": "LayoutModel",
          "state": {
            "_model_module": "@jupyter-widgets/base",
            "_model_module_version": "1.2.0",
            "_model_name": "LayoutModel",
            "_view_count": null,
            "_view_module": "@jupyter-widgets/base",
            "_view_module_version": "1.2.0",
            "_view_name": "LayoutView",
            "align_content": null,
            "align_items": null,
            "align_self": null,
            "border": null,
            "bottom": null,
            "display": null,
            "flex": null,
            "flex_flow": null,
            "grid_area": null,
            "grid_auto_columns": null,
            "grid_auto_flow": null,
            "grid_auto_rows": null,
            "grid_column": null,
            "grid_gap": null,
            "grid_row": null,
            "grid_template_areas": null,
            "grid_template_columns": null,
            "grid_template_rows": null,
            "height": null,
            "justify_content": null,
            "justify_items": null,
            "left": null,
            "margin": null,
            "max_height": null,
            "max_width": null,
            "min_height": null,
            "min_width": null,
            "object_fit": null,
            "object_position": null,
            "order": null,
            "overflow": null,
            "overflow_x": null,
            "overflow_y": null,
            "padding": null,
            "right": null,
            "top": null,
            "visibility": null,
            "width": null
          }
        },
        "aa97da831e744f4f8c1bb8c5a67ab0de": {
          "model_module": "@jupyter-widgets/base",
          "model_module_version": "1.2.0",
          "model_name": "LayoutModel",
          "state": {
            "_model_module": "@jupyter-widgets/base",
            "_model_module_version": "1.2.0",
            "_model_name": "LayoutModel",
            "_view_count": null,
            "_view_module": "@jupyter-widgets/base",
            "_view_module_version": "1.2.0",
            "_view_name": "LayoutView",
            "align_content": null,
            "align_items": null,
            "align_self": null,
            "border": null,
            "bottom": null,
            "display": null,
            "flex": null,
            "flex_flow": null,
            "grid_area": null,
            "grid_auto_columns": null,
            "grid_auto_flow": null,
            "grid_auto_rows": null,
            "grid_column": null,
            "grid_gap": null,
            "grid_row": null,
            "grid_template_areas": null,
            "grid_template_columns": null,
            "grid_template_rows": null,
            "height": null,
            "justify_content": null,
            "justify_items": null,
            "left": null,
            "margin": null,
            "max_height": null,
            "max_width": null,
            "min_height": null,
            "min_width": null,
            "object_fit": null,
            "object_position": null,
            "order": null,
            "overflow": null,
            "overflow_x": null,
            "overflow_y": null,
            "padding": null,
            "right": null,
            "top": null,
            "visibility": null,
            "width": null
          }
        },
        "ae2456b215df412f9cc0cb304cd97f27": {
          "model_module": "@jupyter-widgets/base",
          "model_module_version": "1.2.0",
          "model_name": "LayoutModel",
          "state": {
            "_model_module": "@jupyter-widgets/base",
            "_model_module_version": "1.2.0",
            "_model_name": "LayoutModel",
            "_view_count": null,
            "_view_module": "@jupyter-widgets/base",
            "_view_module_version": "1.2.0",
            "_view_name": "LayoutView",
            "align_content": null,
            "align_items": null,
            "align_self": null,
            "border": null,
            "bottom": null,
            "display": null,
            "flex": null,
            "flex_flow": null,
            "grid_area": null,
            "grid_auto_columns": null,
            "grid_auto_flow": null,
            "grid_auto_rows": null,
            "grid_column": null,
            "grid_gap": null,
            "grid_row": null,
            "grid_template_areas": null,
            "grid_template_columns": null,
            "grid_template_rows": null,
            "height": null,
            "justify_content": null,
            "justify_items": null,
            "left": null,
            "margin": null,
            "max_height": null,
            "max_width": null,
            "min_height": null,
            "min_width": null,
            "object_fit": null,
            "object_position": null,
            "order": null,
            "overflow": null,
            "overflow_x": null,
            "overflow_y": null,
            "padding": null,
            "right": null,
            "top": null,
            "visibility": null,
            "width": null
          }
        },
        "b157b88263cd4cf0b53fef9e20fc2aea": {
          "model_module": "@jupyter-widgets/controls",
          "model_module_version": "1.5.0",
          "model_name": "ProgressStyleModel",
          "state": {
            "_model_module": "@jupyter-widgets/controls",
            "_model_module_version": "1.5.0",
            "_model_name": "ProgressStyleModel",
            "_view_count": null,
            "_view_module": "@jupyter-widgets/base",
            "_view_module_version": "1.2.0",
            "_view_name": "StyleView",
            "bar_color": null,
            "description_width": ""
          }
        },
        "b4675f800f0e42e6bcb6e27d390f9e96": {
          "model_module": "@jupyter-widgets/controls",
          "model_module_version": "1.5.0",
          "model_name": "HBoxModel",
          "state": {
            "_dom_classes": [],
            "_model_module": "@jupyter-widgets/controls",
            "_model_module_version": "1.5.0",
            "_model_name": "HBoxModel",
            "_view_count": null,
            "_view_module": "@jupyter-widgets/controls",
            "_view_module_version": "1.5.0",
            "_view_name": "HBoxView",
            "box_style": "",
            "children": [
              "IPY_MODEL_4ef751912d174e34b65c3a83fc6d8652",
              "IPY_MODEL_0a6acd66639646f681832850ef172ace",
              "IPY_MODEL_6cff2f3963b24a6f98e6fd6d73954675"
            ],
            "layout": "IPY_MODEL_6e70bcc0729f4036ba5fde0b28c951da"
          }
        },
        "b894c235581049b0aa40f607182e621f": {
          "model_module": "@jupyter-widgets/controls",
          "model_module_version": "1.5.0",
          "model_name": "HTMLModel",
          "state": {
            "_dom_classes": [],
            "_model_module": "@jupyter-widgets/controls",
            "_model_module_version": "1.5.0",
            "_model_name": "HTMLModel",
            "_view_count": null,
            "_view_module": "@jupyter-widgets/controls",
            "_view_module_version": "1.5.0",
            "_view_name": "HTMLView",
            "description": "",
            "description_tooltip": null,
            "layout": "IPY_MODEL_f7122e3b7ba747b782ef5aed79c0e88d",
            "placeholder": "​",
            "style": "IPY_MODEL_d958facd571c4bbc80892aff1e9a719e",
            "value": "Map: 100%"
          }
        },
        "bc51de8e4db34fa2a0a6f6c66496484e": {
          "model_module": "@jupyter-widgets/controls",
          "model_module_version": "1.5.0",
          "model_name": "ProgressStyleModel",
          "state": {
            "_model_module": "@jupyter-widgets/controls",
            "_model_module_version": "1.5.0",
            "_model_name": "ProgressStyleModel",
            "_view_count": null,
            "_view_module": "@jupyter-widgets/base",
            "_view_module_version": "1.2.0",
            "_view_name": "StyleView",
            "bar_color": null,
            "description_width": ""
          }
        },
        "bc68ec06cfa1415b92283a156b207bc6": {
          "model_module": "@jupyter-widgets/controls",
          "model_module_version": "1.5.0",
          "model_name": "DescriptionStyleModel",
          "state": {
            "_model_module": "@jupyter-widgets/controls",
            "_model_module_version": "1.5.0",
            "_model_name": "DescriptionStyleModel",
            "_view_count": null,
            "_view_module": "@jupyter-widgets/base",
            "_view_module_version": "1.2.0",
            "_view_name": "StyleView",
            "description_width": ""
          }
        },
        "bd0356c5e67247e4a50ca6eab1d0dc0c": {
          "model_module": "@jupyter-widgets/controls",
          "model_module_version": "1.5.0",
          "model_name": "DescriptionStyleModel",
          "state": {
            "_model_module": "@jupyter-widgets/controls",
            "_model_module_version": "1.5.0",
            "_model_name": "DescriptionStyleModel",
            "_view_count": null,
            "_view_module": "@jupyter-widgets/base",
            "_view_module_version": "1.2.0",
            "_view_name": "StyleView",
            "description_width": ""
          }
        },
        "c14f51fc35bb4b6aba2675732dd30ea9": {
          "model_module": "@jupyter-widgets/controls",
          "model_module_version": "1.5.0",
          "model_name": "ProgressStyleModel",
          "state": {
            "_model_module": "@jupyter-widgets/controls",
            "_model_module_version": "1.5.0",
            "_model_name": "ProgressStyleModel",
            "_view_count": null,
            "_view_module": "@jupyter-widgets/base",
            "_view_module_version": "1.2.0",
            "_view_name": "StyleView",
            "bar_color": null,
            "description_width": ""
          }
        },
        "c2073a74d7fa4801a37a1c6e97a10333": {
          "model_module": "@jupyter-widgets/controls",
          "model_module_version": "1.5.0",
          "model_name": "DescriptionStyleModel",
          "state": {
            "_model_module": "@jupyter-widgets/controls",
            "_model_module_version": "1.5.0",
            "_model_name": "DescriptionStyleModel",
            "_view_count": null,
            "_view_module": "@jupyter-widgets/base",
            "_view_module_version": "1.2.0",
            "_view_name": "StyleView",
            "description_width": ""
          }
        },
        "c46c182ac0234ddc83b2a7d4e6ba4c2a": {
          "model_module": "@jupyter-widgets/base",
          "model_module_version": "1.2.0",
          "model_name": "LayoutModel",
          "state": {
            "_model_module": "@jupyter-widgets/base",
            "_model_module_version": "1.2.0",
            "_model_name": "LayoutModel",
            "_view_count": null,
            "_view_module": "@jupyter-widgets/base",
            "_view_module_version": "1.2.0",
            "_view_name": "LayoutView",
            "align_content": null,
            "align_items": null,
            "align_self": null,
            "border": null,
            "bottom": null,
            "display": null,
            "flex": null,
            "flex_flow": null,
            "grid_area": null,
            "grid_auto_columns": null,
            "grid_auto_flow": null,
            "grid_auto_rows": null,
            "grid_column": null,
            "grid_gap": null,
            "grid_row": null,
            "grid_template_areas": null,
            "grid_template_columns": null,
            "grid_template_rows": null,
            "height": null,
            "justify_content": null,
            "justify_items": null,
            "left": null,
            "margin": null,
            "max_height": null,
            "max_width": null,
            "min_height": null,
            "min_width": null,
            "object_fit": null,
            "object_position": null,
            "order": null,
            "overflow": null,
            "overflow_x": null,
            "overflow_y": null,
            "padding": null,
            "right": null,
            "top": null,
            "visibility": null,
            "width": null
          }
        },
        "c67a8ce9dbee4723b2a24fc53694542e": {
          "model_module": "@jupyter-widgets/controls",
          "model_module_version": "1.5.0",
          "model_name": "HTMLModel",
          "state": {
            "_dom_classes": [],
            "_model_module": "@jupyter-widgets/controls",
            "_model_module_version": "1.5.0",
            "_model_name": "HTMLModel",
            "_view_count": null,
            "_view_module": "@jupyter-widgets/controls",
            "_view_module_version": "1.5.0",
            "_view_name": "HTMLView",
            "description": "",
            "description_tooltip": null,
            "layout": "IPY_MODEL_8b3e961f333940a2a065b27d441c79cb",
            "placeholder": "​",
            "style": "IPY_MODEL_6cb0a7b9c0eb4a52af810d58010ad976",
            "value": "Map: 100%"
          }
        },
        "ca5f973f406b4c0da2691ec403136079": {
          "model_module": "@jupyter-widgets/controls",
          "model_module_version": "1.5.0",
          "model_name": "HTMLModel",
          "state": {
            "_dom_classes": [],
            "_model_module": "@jupyter-widgets/controls",
            "_model_module_version": "1.5.0",
            "_model_name": "HTMLModel",
            "_view_count": null,
            "_view_module": "@jupyter-widgets/controls",
            "_view_module_version": "1.5.0",
            "_view_name": "HTMLView",
            "description": "",
            "description_tooltip": null,
            "layout": "IPY_MODEL_ae2456b215df412f9cc0cb304cd97f27",
            "placeholder": "​",
            "style": "IPY_MODEL_d3c83c89d6064e6e82dc608593b1c5f0",
            "value": "Map: 100%"
          }
        },
        "ca8348ff3cd448bb96b5caf3731d0baf": {
          "model_module": "@jupyter-widgets/controls",
          "model_module_version": "1.5.0",
          "model_name": "DescriptionStyleModel",
          "state": {
            "_model_module": "@jupyter-widgets/controls",
            "_model_module_version": "1.5.0",
            "_model_name": "DescriptionStyleModel",
            "_view_count": null,
            "_view_module": "@jupyter-widgets/base",
            "_view_module_version": "1.2.0",
            "_view_name": "StyleView",
            "description_width": ""
          }
        },
        "d1cfa8833e954304acc171643cedb962": {
          "model_module": "@jupyter-widgets/base",
          "model_module_version": "1.2.0",
          "model_name": "LayoutModel",
          "state": {
            "_model_module": "@jupyter-widgets/base",
            "_model_module_version": "1.2.0",
            "_model_name": "LayoutModel",
            "_view_count": null,
            "_view_module": "@jupyter-widgets/base",
            "_view_module_version": "1.2.0",
            "_view_name": "LayoutView",
            "align_content": null,
            "align_items": null,
            "align_self": null,
            "border": null,
            "bottom": null,
            "display": null,
            "flex": null,
            "flex_flow": null,
            "grid_area": null,
            "grid_auto_columns": null,
            "grid_auto_flow": null,
            "grid_auto_rows": null,
            "grid_column": null,
            "grid_gap": null,
            "grid_row": null,
            "grid_template_areas": null,
            "grid_template_columns": null,
            "grid_template_rows": null,
            "height": null,
            "justify_content": null,
            "justify_items": null,
            "left": null,
            "margin": null,
            "max_height": null,
            "max_width": null,
            "min_height": null,
            "min_width": null,
            "object_fit": null,
            "object_position": null,
            "order": null,
            "overflow": null,
            "overflow_x": null,
            "overflow_y": null,
            "padding": null,
            "right": null,
            "top": null,
            "visibility": null,
            "width": null
          }
        },
        "d203ede6c6a24b9f843c13e8a851d19e": {
          "model_module": "@jupyter-widgets/base",
          "model_module_version": "1.2.0",
          "model_name": "LayoutModel",
          "state": {
            "_model_module": "@jupyter-widgets/base",
            "_model_module_version": "1.2.0",
            "_model_name": "LayoutModel",
            "_view_count": null,
            "_view_module": "@jupyter-widgets/base",
            "_view_module_version": "1.2.0",
            "_view_name": "LayoutView",
            "align_content": null,
            "align_items": null,
            "align_self": null,
            "border": null,
            "bottom": null,
            "display": null,
            "flex": null,
            "flex_flow": null,
            "grid_area": null,
            "grid_auto_columns": null,
            "grid_auto_flow": null,
            "grid_auto_rows": null,
            "grid_column": null,
            "grid_gap": null,
            "grid_row": null,
            "grid_template_areas": null,
            "grid_template_columns": null,
            "grid_template_rows": null,
            "height": null,
            "justify_content": null,
            "justify_items": null,
            "left": null,
            "margin": null,
            "max_height": null,
            "max_width": null,
            "min_height": null,
            "min_width": null,
            "object_fit": null,
            "object_position": null,
            "order": null,
            "overflow": null,
            "overflow_x": null,
            "overflow_y": null,
            "padding": null,
            "right": null,
            "top": null,
            "visibility": null,
            "width": null
          }
        },
        "d363b4a9e8c74b95974662ec81f08155": {
          "model_module": "@jupyter-widgets/base",
          "model_module_version": "1.2.0",
          "model_name": "LayoutModel",
          "state": {
            "_model_module": "@jupyter-widgets/base",
            "_model_module_version": "1.2.0",
            "_model_name": "LayoutModel",
            "_view_count": null,
            "_view_module": "@jupyter-widgets/base",
            "_view_module_version": "1.2.0",
            "_view_name": "LayoutView",
            "align_content": null,
            "align_items": null,
            "align_self": null,
            "border": null,
            "bottom": null,
            "display": null,
            "flex": null,
            "flex_flow": null,
            "grid_area": null,
            "grid_auto_columns": null,
            "grid_auto_flow": null,
            "grid_auto_rows": null,
            "grid_column": null,
            "grid_gap": null,
            "grid_row": null,
            "grid_template_areas": null,
            "grid_template_columns": null,
            "grid_template_rows": null,
            "height": null,
            "justify_content": null,
            "justify_items": null,
            "left": null,
            "margin": null,
            "max_height": null,
            "max_width": null,
            "min_height": null,
            "min_width": null,
            "object_fit": null,
            "object_position": null,
            "order": null,
            "overflow": null,
            "overflow_x": null,
            "overflow_y": null,
            "padding": null,
            "right": null,
            "top": null,
            "visibility": null,
            "width": null
          }
        },
        "d3c83c89d6064e6e82dc608593b1c5f0": {
          "model_module": "@jupyter-widgets/controls",
          "model_module_version": "1.5.0",
          "model_name": "DescriptionStyleModel",
          "state": {
            "_model_module": "@jupyter-widgets/controls",
            "_model_module_version": "1.5.0",
            "_model_name": "DescriptionStyleModel",
            "_view_count": null,
            "_view_module": "@jupyter-widgets/base",
            "_view_module_version": "1.2.0",
            "_view_name": "StyleView",
            "description_width": ""
          }
        },
        "d89ebc79f4b44f9b9f296068634f0daa": {
          "model_module": "@jupyter-widgets/base",
          "model_module_version": "1.2.0",
          "model_name": "LayoutModel",
          "state": {
            "_model_module": "@jupyter-widgets/base",
            "_model_module_version": "1.2.0",
            "_model_name": "LayoutModel",
            "_view_count": null,
            "_view_module": "@jupyter-widgets/base",
            "_view_module_version": "1.2.0",
            "_view_name": "LayoutView",
            "align_content": null,
            "align_items": null,
            "align_self": null,
            "border": null,
            "bottom": null,
            "display": null,
            "flex": null,
            "flex_flow": null,
            "grid_area": null,
            "grid_auto_columns": null,
            "grid_auto_flow": null,
            "grid_auto_rows": null,
            "grid_column": null,
            "grid_gap": null,
            "grid_row": null,
            "grid_template_areas": null,
            "grid_template_columns": null,
            "grid_template_rows": null,
            "height": null,
            "justify_content": null,
            "justify_items": null,
            "left": null,
            "margin": null,
            "max_height": null,
            "max_width": null,
            "min_height": null,
            "min_width": null,
            "object_fit": null,
            "object_position": null,
            "order": null,
            "overflow": null,
            "overflow_x": null,
            "overflow_y": null,
            "padding": null,
            "right": null,
            "top": null,
            "visibility": null,
            "width": null
          }
        },
        "d90f11c64dde40ab893bb1b8ebf8ebcc": {
          "model_module": "@jupyter-widgets/base",
          "model_module_version": "1.2.0",
          "model_name": "LayoutModel",
          "state": {
            "_model_module": "@jupyter-widgets/base",
            "_model_module_version": "1.2.0",
            "_model_name": "LayoutModel",
            "_view_count": null,
            "_view_module": "@jupyter-widgets/base",
            "_view_module_version": "1.2.0",
            "_view_name": "LayoutView",
            "align_content": null,
            "align_items": null,
            "align_self": null,
            "border": null,
            "bottom": null,
            "display": null,
            "flex": null,
            "flex_flow": null,
            "grid_area": null,
            "grid_auto_columns": null,
            "grid_auto_flow": null,
            "grid_auto_rows": null,
            "grid_column": null,
            "grid_gap": null,
            "grid_row": null,
            "grid_template_areas": null,
            "grid_template_columns": null,
            "grid_template_rows": null,
            "height": null,
            "justify_content": null,
            "justify_items": null,
            "left": null,
            "margin": null,
            "max_height": null,
            "max_width": null,
            "min_height": null,
            "min_width": null,
            "object_fit": null,
            "object_position": null,
            "order": null,
            "overflow": null,
            "overflow_x": null,
            "overflow_y": null,
            "padding": null,
            "right": null,
            "top": null,
            "visibility": null,
            "width": null
          }
        },
        "d958facd571c4bbc80892aff1e9a719e": {
          "model_module": "@jupyter-widgets/controls",
          "model_module_version": "1.5.0",
          "model_name": "DescriptionStyleModel",
          "state": {
            "_model_module": "@jupyter-widgets/controls",
            "_model_module_version": "1.5.0",
            "_model_name": "DescriptionStyleModel",
            "_view_count": null,
            "_view_module": "@jupyter-widgets/base",
            "_view_module_version": "1.2.0",
            "_view_name": "StyleView",
            "description_width": ""
          }
        },
        "da9946f0dc474b9cbdd7577ff8d13274": {
          "model_module": "@jupyter-widgets/controls",
          "model_module_version": "1.5.0",
          "model_name": "ProgressStyleModel",
          "state": {
            "_model_module": "@jupyter-widgets/controls",
            "_model_module_version": "1.5.0",
            "_model_name": "ProgressStyleModel",
            "_view_count": null,
            "_view_module": "@jupyter-widgets/base",
            "_view_module_version": "1.2.0",
            "_view_name": "StyleView",
            "bar_color": null,
            "description_width": ""
          }
        },
        "e04f6614e95d450585dd99b02c42c2e3": {
          "model_module": "@jupyter-widgets/base",
          "model_module_version": "1.2.0",
          "model_name": "LayoutModel",
          "state": {
            "_model_module": "@jupyter-widgets/base",
            "_model_module_version": "1.2.0",
            "_model_name": "LayoutModel",
            "_view_count": null,
            "_view_module": "@jupyter-widgets/base",
            "_view_module_version": "1.2.0",
            "_view_name": "LayoutView",
            "align_content": null,
            "align_items": null,
            "align_self": null,
            "border": null,
            "bottom": null,
            "display": null,
            "flex": null,
            "flex_flow": null,
            "grid_area": null,
            "grid_auto_columns": null,
            "grid_auto_flow": null,
            "grid_auto_rows": null,
            "grid_column": null,
            "grid_gap": null,
            "grid_row": null,
            "grid_template_areas": null,
            "grid_template_columns": null,
            "grid_template_rows": null,
            "height": null,
            "justify_content": null,
            "justify_items": null,
            "left": null,
            "margin": null,
            "max_height": null,
            "max_width": null,
            "min_height": null,
            "min_width": null,
            "object_fit": null,
            "object_position": null,
            "order": null,
            "overflow": null,
            "overflow_x": null,
            "overflow_y": null,
            "padding": null,
            "right": null,
            "top": null,
            "visibility": null,
            "width": null
          }
        },
        "e2e54397d9d345de82c2ca076e724139": {
          "model_module": "@jupyter-widgets/controls",
          "model_module_version": "1.5.0",
          "model_name": "DescriptionStyleModel",
          "state": {
            "_model_module": "@jupyter-widgets/controls",
            "_model_module_version": "1.5.0",
            "_model_name": "DescriptionStyleModel",
            "_view_count": null,
            "_view_module": "@jupyter-widgets/base",
            "_view_module_version": "1.2.0",
            "_view_name": "StyleView",
            "description_width": ""
          }
        },
        "e3f52d677f004e3bbb31f7d66a7e0d62": {
          "model_module": "@jupyter-widgets/base",
          "model_module_version": "1.2.0",
          "model_name": "LayoutModel",
          "state": {
            "_model_module": "@jupyter-widgets/base",
            "_model_module_version": "1.2.0",
            "_model_name": "LayoutModel",
            "_view_count": null,
            "_view_module": "@jupyter-widgets/base",
            "_view_module_version": "1.2.0",
            "_view_name": "LayoutView",
            "align_content": null,
            "align_items": null,
            "align_self": null,
            "border": null,
            "bottom": null,
            "display": null,
            "flex": null,
            "flex_flow": null,
            "grid_area": null,
            "grid_auto_columns": null,
            "grid_auto_flow": null,
            "grid_auto_rows": null,
            "grid_column": null,
            "grid_gap": null,
            "grid_row": null,
            "grid_template_areas": null,
            "grid_template_columns": null,
            "grid_template_rows": null,
            "height": null,
            "justify_content": null,
            "justify_items": null,
            "left": null,
            "margin": null,
            "max_height": null,
            "max_width": null,
            "min_height": null,
            "min_width": null,
            "object_fit": null,
            "object_position": null,
            "order": null,
            "overflow": null,
            "overflow_x": null,
            "overflow_y": null,
            "padding": null,
            "right": null,
            "top": null,
            "visibility": null,
            "width": null
          }
        },
        "e4596c3d8b394c0a9b612835a966dfe9": {
          "model_module": "@jupyter-widgets/controls",
          "model_module_version": "1.5.0",
          "model_name": "HBoxModel",
          "state": {
            "_dom_classes": [],
            "_model_module": "@jupyter-widgets/controls",
            "_model_module_version": "1.5.0",
            "_model_name": "HBoxModel",
            "_view_count": null,
            "_view_module": "@jupyter-widgets/controls",
            "_view_module_version": "1.5.0",
            "_view_name": "HBoxView",
            "box_style": "",
            "children": [
              "IPY_MODEL_ca5f973f406b4c0da2691ec403136079",
              "IPY_MODEL_25f168f192654a4981f7420e400b358a",
              "IPY_MODEL_05914ba8f2de47fda3baf737d5b0f7f7"
            ],
            "layout": "IPY_MODEL_19fdda86cec0427bacc1a79ac9d78b7e"
          }
        },
        "e5a657c9944d4d62baedea56d1ec555a": {
          "model_module": "@jupyter-widgets/base",
          "model_module_version": "1.2.0",
          "model_name": "LayoutModel",
          "state": {
            "_model_module": "@jupyter-widgets/base",
            "_model_module_version": "1.2.0",
            "_model_name": "LayoutModel",
            "_view_count": null,
            "_view_module": "@jupyter-widgets/base",
            "_view_module_version": "1.2.0",
            "_view_name": "LayoutView",
            "align_content": null,
            "align_items": null,
            "align_self": null,
            "border": null,
            "bottom": null,
            "display": null,
            "flex": null,
            "flex_flow": null,
            "grid_area": null,
            "grid_auto_columns": null,
            "grid_auto_flow": null,
            "grid_auto_rows": null,
            "grid_column": null,
            "grid_gap": null,
            "grid_row": null,
            "grid_template_areas": null,
            "grid_template_columns": null,
            "grid_template_rows": null,
            "height": null,
            "justify_content": null,
            "justify_items": null,
            "left": null,
            "margin": null,
            "max_height": null,
            "max_width": null,
            "min_height": null,
            "min_width": null,
            "object_fit": null,
            "object_position": null,
            "order": null,
            "overflow": null,
            "overflow_x": null,
            "overflow_y": null,
            "padding": null,
            "right": null,
            "top": null,
            "visibility": null,
            "width": null
          }
        },
        "ee2e427f697e4a889c1b9ce7bfa3e3d7": {
          "model_module": "@jupyter-widgets/controls",
          "model_module_version": "1.5.0",
          "model_name": "HTMLModel",
          "state": {
            "_dom_classes": [],
            "_model_module": "@jupyter-widgets/controls",
            "_model_module_version": "1.5.0",
            "_model_name": "HTMLModel",
            "_view_count": null,
            "_view_module": "@jupyter-widgets/controls",
            "_view_module_version": "1.5.0",
            "_view_name": "HTMLView",
            "description": "",
            "description_tooltip": null,
            "layout": "IPY_MODEL_d90f11c64dde40ab893bb1b8ebf8ebcc",
            "placeholder": "​",
            "style": "IPY_MODEL_bd0356c5e67247e4a50ca6eab1d0dc0c",
            "value": " 5393/5393 [00:02&lt;00:00, 2204.39 examples/s]"
          }
        },
        "f0c490ed41ce49a99afa5af9af25c10d": {
          "model_module": "@jupyter-widgets/controls",
          "model_module_version": "1.5.0",
          "model_name": "FloatProgressModel",
          "state": {
            "_dom_classes": [],
            "_model_module": "@jupyter-widgets/controls",
            "_model_module_version": "1.5.0",
            "_model_name": "FloatProgressModel",
            "_view_count": null,
            "_view_module": "@jupyter-widgets/controls",
            "_view_module_version": "1.5.0",
            "_view_name": "ProgressView",
            "bar_style": "success",
            "description": "",
            "description_tooltip": null,
            "layout": "IPY_MODEL_9ceea89da5f845d0a941972d2401e064",
            "max": 5393,
            "min": 0,
            "orientation": "horizontal",
            "style": "IPY_MODEL_b157b88263cd4cf0b53fef9e20fc2aea",
            "value": 5393
          }
        },
        "f216c4e9c53a47eab9b7f9d5b37bed26": {
          "model_module": "@jupyter-widgets/base",
          "model_module_version": "1.2.0",
          "model_name": "LayoutModel",
          "state": {
            "_model_module": "@jupyter-widgets/base",
            "_model_module_version": "1.2.0",
            "_model_name": "LayoutModel",
            "_view_count": null,
            "_view_module": "@jupyter-widgets/base",
            "_view_module_version": "1.2.0",
            "_view_name": "LayoutView",
            "align_content": null,
            "align_items": null,
            "align_self": null,
            "border": null,
            "bottom": null,
            "display": null,
            "flex": null,
            "flex_flow": null,
            "grid_area": null,
            "grid_auto_columns": null,
            "grid_auto_flow": null,
            "grid_auto_rows": null,
            "grid_column": null,
            "grid_gap": null,
            "grid_row": null,
            "grid_template_areas": null,
            "grid_template_columns": null,
            "grid_template_rows": null,
            "height": null,
            "justify_content": null,
            "justify_items": null,
            "left": null,
            "margin": null,
            "max_height": null,
            "max_width": null,
            "min_height": null,
            "min_width": null,
            "object_fit": null,
            "object_position": null,
            "order": null,
            "overflow": null,
            "overflow_x": null,
            "overflow_y": null,
            "padding": null,
            "right": null,
            "top": null,
            "visibility": null,
            "width": null
          }
        },
        "f6850db2251c48059bd17e3da3bbc1c8": {
          "model_module": "@jupyter-widgets/controls",
          "model_module_version": "1.5.0",
          "model_name": "HBoxModel",
          "state": {
            "_dom_classes": [],
            "_model_module": "@jupyter-widgets/controls",
            "_model_module_version": "1.5.0",
            "_model_name": "HBoxModel",
            "_view_count": null,
            "_view_module": "@jupyter-widgets/controls",
            "_view_module_version": "1.5.0",
            "_view_name": "HBoxView",
            "box_style": "",
            "children": [
              "IPY_MODEL_0f4551d7c06343bab59290f164a176dc",
              "IPY_MODEL_604f6f0f035343f4a33009ec9b8598ba",
              "IPY_MODEL_6a72594480854b3592ecb76d388ccaf8"
            ],
            "layout": "IPY_MODEL_77cd4b577a294b3a9df1bd55592923a5"
          }
        },
        "f7122e3b7ba747b782ef5aed79c0e88d": {
          "model_module": "@jupyter-widgets/base",
          "model_module_version": "1.2.0",
          "model_name": "LayoutModel",
          "state": {
            "_model_module": "@jupyter-widgets/base",
            "_model_module_version": "1.2.0",
            "_model_name": "LayoutModel",
            "_view_count": null,
            "_view_module": "@jupyter-widgets/base",
            "_view_module_version": "1.2.0",
            "_view_name": "LayoutView",
            "align_content": null,
            "align_items": null,
            "align_self": null,
            "border": null,
            "bottom": null,
            "display": null,
            "flex": null,
            "flex_flow": null,
            "grid_area": null,
            "grid_auto_columns": null,
            "grid_auto_flow": null,
            "grid_auto_rows": null,
            "grid_column": null,
            "grid_gap": null,
            "grid_row": null,
            "grid_template_areas": null,
            "grid_template_columns": null,
            "grid_template_rows": null,
            "height": null,
            "justify_content": null,
            "justify_items": null,
            "left": null,
            "margin": null,
            "max_height": null,
            "max_width": null,
            "min_height": null,
            "min_width": null,
            "object_fit": null,
            "object_position": null,
            "order": null,
            "overflow": null,
            "overflow_x": null,
            "overflow_y": null,
            "padding": null,
            "right": null,
            "top": null,
            "visibility": null,
            "width": null
          }
        },
        "fc22d9fe4f0f4ad08d1beb120afc87a8": {
          "model_module": "@jupyter-widgets/controls",
          "model_module_version": "1.5.0",
          "model_name": "HBoxModel",
          "state": {
            "_dom_classes": [],
            "_model_module": "@jupyter-widgets/controls",
            "_model_module_version": "1.5.0",
            "_model_name": "HBoxModel",
            "_view_count": null,
            "_view_module": "@jupyter-widgets/controls",
            "_view_module_version": "1.5.0",
            "_view_name": "HBoxView",
            "box_style": "",
            "children": [
              "IPY_MODEL_b894c235581049b0aa40f607182e621f",
              "IPY_MODEL_00222ae7e5c04df6a2df3d5d2f78fa51",
              "IPY_MODEL_6381a41749704dcaa9be53321e03ce8f"
            ],
            "layout": "IPY_MODEL_9880de0377414ce5a1c99a6c2188cfc2"
          }
        },
        "fd76cd30cf3340678a6a23fc464d4270": {
          "model_module": "@jupyter-widgets/controls",
          "model_module_version": "1.5.0",
          "model_name": "DescriptionStyleModel",
          "state": {
            "_model_module": "@jupyter-widgets/controls",
            "_model_module_version": "1.5.0",
            "_model_name": "DescriptionStyleModel",
            "_view_count": null,
            "_view_module": "@jupyter-widgets/base",
            "_view_module_version": "1.2.0",
            "_view_name": "StyleView",
            "description_width": ""
          }
        },
        "fe104693670a4acc937f4659c2980229": {
          "model_module": "@jupyter-widgets/controls",
          "model_module_version": "1.5.0",
          "model_name": "ProgressStyleModel",
          "state": {
            "_model_module": "@jupyter-widgets/controls",
            "_model_module_version": "1.5.0",
            "_model_name": "ProgressStyleModel",
            "_view_count": null,
            "_view_module": "@jupyter-widgets/base",
            "_view_module_version": "1.2.0",
            "_view_name": "StyleView",
            "bar_color": null,
            "description_width": ""
          }
        }
      }
    }
  },
  "nbformat": 4,
  "nbformat_minor": 0
}
